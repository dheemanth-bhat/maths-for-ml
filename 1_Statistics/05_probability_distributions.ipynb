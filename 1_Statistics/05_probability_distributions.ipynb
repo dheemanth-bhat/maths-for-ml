{
 "cells": [
  {
   "cell_type": "markdown",
   "id": "5f165ff9-9b33-450e-a77e-1534da713bec",
   "metadata": {},
   "source": [
    "## 1 Random Variable"
   ]
  },
  {
   "cell_type": "markdown",
   "id": "a21c63e4-cad6-4fdb-bec5-13fb14febc29",
   "metadata": {},
   "source": [
    "### 1.1 Random Event"
   ]
  },
  {
   "cell_type": "markdown",
   "id": "ea630de0-4d73-41a7-9a1c-4655b6b53958",
   "metadata": {},
   "source": [
    "An occurrence whose outcome is not predictable with certainty before it happens, even though all possible outcomes are known is called as Random Event."
   ]
  },
  {
   "cell_type": "markdown",
   "id": "f4b43098-41f5-4072-a7a1-8a78e5c42a9e",
   "metadata": {},
   "source": [
    "Examples of Random Event:\n",
    "\n",
    "1. Weather forecast\n",
    "2. Stock market prediction\n",
    "3. Rolling a dice"
   ]
  },
  {
   "cell_type": "markdown",
   "id": "b2aa3c0c-4c53-4db5-8c41-c7c9ca272e09",
   "metadata": {},
   "source": [
    "### 1.2 Random Variable"
   ]
  },
  {
   "cell_type": "markdown",
   "id": "77fdf5a4-ce11-4955-ac9c-74e8112f687b",
   "metadata": {},
   "source": [
    "Variable used to define a Random Event is called as Random Variable."
   ]
  },
  {
   "cell_type": "markdown",
   "id": "a7602095-f1f0-49dd-90a6-d8635dc6e594",
   "metadata": {},
   "source": [
    "Types of Random Variables:\n",
    "\n",
    "1. Discrete Random Variable\n",
    "2. Continuous Random Variable"
   ]
  },
  {
   "cell_type": "markdown",
   "id": "6db85744-c436-4c24-9a09-4e3e72b7d822",
   "metadata": {},
   "source": [
    "#### 1 Discrete Random Variable"
   ]
  },
  {
   "cell_type": "markdown",
   "id": "e292eca9-ea50-4a31-b1e1-6058a7deb7ab",
   "metadata": {},
   "source": [
    "Example: Rolling a dice\n",
    "\n",
    "Outcomes: {1, 2, 3, 4, 5, 6}"
   ]
  },
  {
   "cell_type": "markdown",
   "id": "ba87a1b9-2ab0-4ff2-889d-1428dcb6148c",
   "metadata": {},
   "source": [
    "#### 2 Continuous Random Variable"
   ]
  },
  {
   "cell_type": "markdown",
   "id": "f04a123b-ed7b-493a-ad5b-c5f712db490e",
   "metadata": {},
   "source": [
    "Example: Height of human beings\n",
    "\n",
    "Outcomes is a floating point number"
   ]
  },
  {
   "cell_type": "markdown",
   "id": "3c29535a-fe20-4af2-88b0-98a934f4ac91",
   "metadata": {},
   "source": [
    "### 1.3 Distribution"
   ]
  },
  {
   "cell_type": "markdown",
   "id": "293e3d5f-4387-4d63-86d5-a598d0e5acea",
   "metadata": {},
   "source": [
    "A distribution describes the spread, pattern, and frequency of outcomes within a dataset or for a random variable."
   ]
  },
  {
   "cell_type": "markdown",
   "id": "8c7c1bda-7fb8-4ad7-817a-b7d47a7f4bda",
   "metadata": {},
   "source": [
    "A statistical data distribution is a function that shows the possible values of a variable and how frequently they occur.  \n",
    "It provides a mathematical description of behavior of the data which indicate where most data points are concentrated and how they are spread out.  \n",
    "Distributions can be represented in various forms such as probability density functions for continuous data or probability mass functions for discrete data."
   ]
  },
  {
   "cell_type": "markdown",
   "id": "ff9e7322-0f59-485d-b365-6712b5ccd0f6",
   "metadata": {},
   "source": [
    "> **Note**:\n",
    ">\n",
    "> Concentration of data-points is indicated by Distributions."
   ]
  },
  {
   "cell_type": "markdown",
   "id": "01074fb6-5d54-4069-a61c-0d9813dd13d5",
   "metadata": {},
   "source": [
    "### 1.4 Expected Value"
   ]
  },
  {
   "cell_type": "markdown",
   "id": "9f1d4ee4-9f9c-473c-93f5-eaa7370c64f6",
   "metadata": {},
   "source": [
    "#### Definition"
   ]
  },
  {
   "cell_type": "markdown",
   "id": "a21ac004-4b13-4729-bb63-2dddf4c15148",
   "metadata": {},
   "source": [
    "* Expectation of a random variable X is the weighted average of the values that X takes, with the weights beings the probabilities.\n",
    "* Expected Value of a Random Variable X is the product of values (that X can take) and its probability i.e., weighted average of probability."
   ]
  },
  {
   "cell_type": "markdown",
   "id": "a53a206c-4ccb-47b3-8481-77630257ad81",
   "metadata": {},
   "source": [
    "## 2 Distribution Functions"
   ]
  },
  {
   "cell_type": "markdown",
   "id": "4561be76-cc67-4af5-8b4f-19d9512451b7",
   "metadata": {},
   "source": [
    "### 2.1 Probability Mass Function"
   ]
  },
  {
   "cell_type": "markdown",
   "id": "782a1957-2434-455f-83cf-8dbb1be8d083",
   "metadata": {},
   "source": [
    "#### Definition"
   ]
  },
  {
   "cell_type": "markdown",
   "id": "7196a945-8cf3-48f1-b918-d44452ccdf5f",
   "metadata": {},
   "source": [
    "* PMF is a distribution function that describes the probability of a **discrete random variable** taking on a **specific value**.\n",
    "* Graphical representation of probability on a distributed data is called as Probability Mass Function."
   ]
  },
  {
   "cell_type": "markdown",
   "id": "34019c3f-b615-4948-9daa-e7b903070bf1",
   "metadata": {},
   "source": [
    "### 2.2 Probability Density Function"
   ]
  },
  {
   "cell_type": "markdown",
   "id": "babe37eb-2467-4054-8fec-c658c6e6690d",
   "metadata": {},
   "source": [
    "#### Definition"
   ]
  },
  {
   "cell_type": "markdown",
   "id": "c01c467d-70cd-44a2-b3eb-1ec622b5b986",
   "metadata": {},
   "source": [
    "* PDF is a distribution function that describes the probability density of a **continuous random variable** over its **range**.\n",
    "* The term \"density\" here is similar to how tightly data is packed around a specific point."
   ]
  },
  {
   "cell_type": "markdown",
   "id": "4beb8408-4838-441f-9081-6ff1f730e835",
   "metadata": {},
   "source": [
    "#### Explanation"
   ]
  },
  {
   "cell_type": "markdown",
   "id": "f0f455d8-9ef8-4d9a-b143-99a3cb6ba7a2",
   "metadata": {},
   "source": [
    "PDF is used for **continuous random variables**, as opposed to PMF, which is for discrete variables.  \n",
    "PDF does not provide the probability of a specific value but gives the **probability of the random variable falling within a certain interval**.  \n",
    "Probability of a specific value in PDF is Zero.  \n",
    "To calculate probability of some range we have to calculate the area under the curve. Area under the curve is calculated using Integration."
   ]
  },
  {
   "cell_type": "markdown",
   "id": "b9074aed-0229-410f-9fca-813760fff98f",
   "metadata": {},
   "source": [
    "> **Note**:\n",
    ">\n",
    "> 1. Use KDE plot to get probability of each specific value in the distribution.\n",
    "> 2. Use Area-Under-Curve to get the probability of a random variable that lies between certain range."
   ]
  },
  {
   "cell_type": "markdown",
   "id": "20d4e3d2-a36d-4141-99bb-94ca62d03127",
   "metadata": {},
   "source": [
    "1. Use integration to get area under the curve to get CDF from PDF\n",
    "2. Use differentiation to get get PDF from CDF."
   ]
  },
  {
   "cell_type": "markdown",
   "id": "854bee10-9d43-4fc0-8096-744803d0e6c7",
   "metadata": {},
   "source": [
    "### 2.3 Cumulative Distribution Function"
   ]
  },
  {
   "cell_type": "markdown",
   "id": "645feb99-0507-47a3-91df-087345fde917",
   "metadata": {},
   "source": [
    "#### Definition"
   ]
  },
  {
   "cell_type": "markdown",
   "id": "ffb077dd-6c18-46eb-bd8b-950ef49c5bf8",
   "metadata": {},
   "source": [
    "CDF is a distribution function that gives the probability that a random variable (Discrete and Continuous) is less than or equal to a specified value."
   ]
  },
  {
   "cell_type": "markdown",
   "id": "f4640c06-c25a-464f-af43-8a1a0726fceb",
   "metadata": {},
   "source": [
    "## 3 Empirical vs Theoretical Probability"
   ]
  },
  {
   "cell_type": "markdown",
   "id": "210538e3-390c-4743-9be2-e02ba370b18d",
   "metadata": {},
   "source": [
    "There are two ways to find probability:\n",
    "\n",
    "1. Empirical approach\n",
    "2. Theoretical approach"
   ]
  },
  {
   "cell_type": "markdown",
   "id": "5a61836d-2e96-4117-bbe8-27c1532eea20",
   "metadata": {},
   "source": [
    "### 3.1 Empirical approach"
   ]
  },
  {
   "cell_type": "markdown",
   "id": "5d63c883-4495-44f7-a1a9-e9d596920260",
   "metadata": {},
   "source": [
    "In empirical approach, the experiment is done N number of time, say 10,000, and then the result is concluded."
   ]
  },
  {
   "cell_type": "code",
   "execution_count": 1,
   "id": "b163b676-a0d6-4d0b-9aeb-2fe4a712a969",
   "metadata": {},
   "outputs": [],
   "source": [
    "import numpy as np\n",
    "from scipy import stats\n",
    "import pandas as pd"
   ]
  },
  {
   "cell_type": "code",
   "execution_count": 2,
   "id": "469235bd-3ce0-451f-b90e-4873dde113f2",
   "metadata": {},
   "outputs": [],
   "source": [
    "def empirical_approach(bucket, simulation: int = 10_000) -> list[int]:\n",
    "    \"\"\"\n",
    "    Function to perform experiment using empirical approach.\n",
    "    \"\"\"\n",
    "    trial = 4\n",
    "    red_counts: list[int] = []\n",
    "\n",
    "    for _ in range(simulation):\n",
    "        # Define event for experiment and save outcome.\n",
    "        outcomes = np.random.choice(bucket, size=trial)\n",
    "\n",
    "        # Count total number of red balls in outcomes.\n",
    "        red_count: int = len(np.where(outcomes == \"R\")[0])\n",
    "\n",
    "        # Collect experiment result.\n",
    "        red_counts.append(red_count)\n",
    "\n",
    "    return red_counts"
   ]
  },
  {
   "cell_type": "markdown",
   "id": "bc88b0d5-2042-4f90-b9ce-119655b4fc29",
   "metadata": {},
   "source": [
    "#### Probabilities"
   ]
  },
  {
   "cell_type": "code",
   "execution_count": 3,
   "id": "a46920f8-c020-4d86-8589-41ea31049df0",
   "metadata": {},
   "outputs": [
    {
     "data": {
      "text/html": [
       "<div>\n",
       "<style scoped>\n",
       "    .dataframe tbody tr th:only-of-type {\n",
       "        vertical-align: middle;\n",
       "    }\n",
       "\n",
       "    .dataframe tbody tr th {\n",
       "        vertical-align: top;\n",
       "    }\n",
       "\n",
       "    .dataframe thead th {\n",
       "        text-align: right;\n",
       "    }\n",
       "</style>\n",
       "<table border=\"1\" class=\"dataframe\">\n",
       "  <thead>\n",
       "    <tr style=\"text-align: right;\">\n",
       "      <th></th>\n",
       "      <th>Probability</th>\n",
       "    </tr>\n",
       "  </thead>\n",
       "  <tbody>\n",
       "    <tr>\n",
       "      <th>0</th>\n",
       "      <td>0.0252</td>\n",
       "    </tr>\n",
       "    <tr>\n",
       "      <th>1</th>\n",
       "      <td>0.1508</td>\n",
       "    </tr>\n",
       "    <tr>\n",
       "      <th>2</th>\n",
       "      <td>0.3438</td>\n",
       "    </tr>\n",
       "    <tr>\n",
       "      <th>3</th>\n",
       "      <td>0.3446</td>\n",
       "    </tr>\n",
       "    <tr>\n",
       "      <th>4</th>\n",
       "      <td>0.1356</td>\n",
       "    </tr>\n",
       "  </tbody>\n",
       "</table>\n",
       "</div>"
      ],
      "text/plain": [
       "   Probability\n",
       "0       0.0252\n",
       "1       0.1508\n",
       "2       0.3438\n",
       "3       0.3446\n",
       "4       0.1356"
      ]
     },
     "execution_count": 3,
     "metadata": {},
     "output_type": "execute_result"
    }
   ],
   "source": [
    "bucket = [\"R\", \"R\", \"R\", \"B\", \"B\"]\n",
    "output = empirical_approach(bucket)\n",
    "\n",
    "df = pd.Series(output).value_counts(normalize=True).sort_index().to_frame(name=\"Probability\")\n",
    "df"
   ]
  },
  {
   "cell_type": "markdown",
   "id": "ac8c61cd-b5bf-496b-9ba4-d082bc48ad90",
   "metadata": {},
   "source": [
    "#### Expected Value"
   ]
  },
  {
   "cell_type": "code",
   "execution_count": 4,
   "id": "1c935d69-819b-4b1f-b77e-f062a37376e6",
   "metadata": {},
   "outputs": [
    {
     "data": {
      "text/plain": [
       "2.4146"
      ]
     },
     "execution_count": 4,
     "metadata": {},
     "output_type": "execute_result"
    }
   ],
   "source": [
    "np.sum(df.index * df[\"Probability\"]).item()"
   ]
  },
  {
   "cell_type": "code",
   "execution_count": 5,
   "id": "2814bde7-41cc-4114-aadd-9fd0c2edec1d",
   "metadata": {},
   "outputs": [
    {
     "data": {
      "text/plain": [
       "2.4146"
      ]
     },
     "execution_count": 5,
     "metadata": {},
     "output_type": "execute_result"
    }
   ],
   "source": [
    "np.mean(output).item()"
   ]
  },
  {
   "cell_type": "markdown",
   "id": "710df2eb-e193-4a97-9d37-1f615eb5d02c",
   "metadata": {},
   "source": [
    "##### Interpretation of Expected value"
   ]
  },
  {
   "cell_type": "markdown",
   "id": "d99df2e7-1d96-4938-9061-03fef3515bc3",
   "metadata": {},
   "source": [
    "The Expected Value of 2.4 means that we will get 2.4 (i.e., 2 or 3) number of red balls on an average if we we perform this experiment large number of times."
   ]
  },
  {
   "cell_type": "markdown",
   "id": "5b65175b-2d50-4a25-a534-0870466a2883",
   "metadata": {},
   "source": [
    "### 3.2 Theoretical approach"
   ]
  },
  {
   "cell_type": "markdown",
   "id": "e64c0e26-6849-4d40-b467-0d4ec2ce7052",
   "metadata": {},
   "source": [
    "In theoretical approach, the experiment is conducted purely using mathematics."
   ]
  },
  {
   "cell_type": "code",
   "execution_count": 6,
   "id": "36ee2814-fe67-4b1f-bd53-dedc73e4f6ab",
   "metadata": {},
   "outputs": [],
   "source": [
    "import math\n",
    "import fractions\n",
    "from fractions import Fraction as F"
   ]
  },
  {
   "cell_type": "code",
   "execution_count": 7,
   "id": "29107cb9-4da4-4707-a3a2-9af1aa1e15ae",
   "metadata": {},
   "outputs": [],
   "source": [
    "def C(n, k):\n",
    "    \"\"\"\n",
    "    Function to compute combinations as fractions.\n",
    "    \"\"\"\n",
    "    return F(math.comb(n, k))\n",
    "\n",
    "\n",
    "def P(n, d):\n",
    "    \"\"\"\n",
    "    Function to represent probability as fractions.\n",
    "    \"\"\"\n",
    "    return F(n, d)"
   ]
  },
  {
   "cell_type": "code",
   "execution_count": 8,
   "id": "3cb75a17-1bc2-4894-8194-5f95e071c024",
   "metadata": {},
   "outputs": [
    {
     "name": "stdout",
     "output_type": "stream",
     "text": [
      "3/5 2/5\n"
     ]
    }
   ],
   "source": [
    "pr = P(3, 5)\n",
    "pb = P(2, 5)\n",
    "\n",
    "print(pr, pb)"
   ]
  },
  {
   "cell_type": "code",
   "execution_count": 9,
   "id": "786b0d6b-093a-4ad9-b76d-3854eae87e27",
   "metadata": {},
   "outputs": [
    {
     "name": "stdout",
     "output_type": "stream",
     "text": [
      "81/625\n"
     ]
    }
   ],
   "source": [
    "print(pr**4)"
   ]
  },
  {
   "cell_type": "code",
   "execution_count": 10,
   "id": "3cfc40f2-06c4-466e-9165-b4a0f597d628",
   "metadata": {},
   "outputs": [
    {
     "data": {
      "text/plain": [
       "0.1296"
      ]
     },
     "execution_count": 10,
     "metadata": {},
     "output_type": "execute_result"
    }
   ],
   "source": [
    "float(pr**4)"
   ]
  },
  {
   "cell_type": "markdown",
   "id": "a4beee08-49b3-4c34-ad6e-120834c24689",
   "metadata": {},
   "source": [
    "## 4 Binomial Distribution"
   ]
  },
  {
   "cell_type": "markdown",
   "id": "3087b402-6f5b-45ee-8a91-537fe0e97af2",
   "metadata": {},
   "source": [
    "### 4.1 What is Binomial Distribution?"
   ]
  },
  {
   "cell_type": "markdown",
   "id": "4df884ef-e785-4071-a716-126a31720543",
   "metadata": {},
   "source": [
    "#### Definition"
   ]
  },
  {
   "cell_type": "markdown",
   "id": "d0eae7e4-4e28-4b2b-9fd1-39e7e8a36e09",
   "metadata": {},
   "source": [
    "Binomial distribution is a **discrete probability distribution** of the number of successes in $n$ **independent experiments** sequence.\n",
    "\n",
    "A Binomial trial will always have two possible outcomes:\n",
    "\n",
    "* Success / Win\n",
    "* Failure / Loss"
   ]
  },
  {
   "cell_type": "markdown",
   "id": "b8ae4516-57a3-43c3-8176-189a0a794d27",
   "metadata": {},
   "source": [
    "#### Conditions for Binomial Distributions"
   ]
  },
  {
   "cell_type": "markdown",
   "id": "ffccc458-008b-4c04-8ffc-436403ae653b",
   "metadata": {},
   "source": [
    "1. Independent Trial\n",
    "2. Only two possible outcomes\n",
    "3. One of the probabilities of either success or failure should be given."
   ]
  },
  {
   "cell_type": "markdown",
   "id": "48b46bab-2e46-4ee4-b951-86b7ef164046",
   "metadata": {},
   "source": [
    "#### Formula"
   ]
  },
  {
   "cell_type": "markdown",
   "id": "6342652c-a831-44e1-bfe8-efe47a6e3f21",
   "metadata": {},
   "source": [
    "Given $p$ the probability of success, Binomial distribution helps us in calculating $k$ successes from $n$ trials.\n",
    "\n",
    "$\n",
    "\\large\n",
    "\\begin{align}\n",
    "P(X = k) = {}^nC_k \\cdot p^k \\cdot (1 - p)^{n - k}\n",
    "\\end{align}\n",
    "$"
   ]
  },
  {
   "cell_type": "markdown",
   "id": "cce07776-3427-4a2b-ae69-0dbf20037a83",
   "metadata": {},
   "source": [
    "#### Expected Value"
   ]
  },
  {
   "cell_type": "markdown",
   "id": "e03227d3-5825-48c1-9c38-215f1a8ba9dd",
   "metadata": {},
   "source": [
    "$\n",
    "\\large\n",
    "\\begin{align}\n",
    "E[X] = n \\cdot p\n",
    "\\end{align}\n",
    "$"
   ]
  },
  {
   "cell_type": "markdown",
   "id": "3b70ce54-d1ea-450b-ba30-351dd6b3f6f7",
   "metadata": {},
   "source": [
    "### 4.2 Examples"
   ]
  },
  {
   "cell_type": "markdown",
   "id": "24e37295-7209-4088-a692-5dd180935df1",
   "metadata": {},
   "source": [
    "#### Quiz #1"
   ]
  },
  {
   "cell_type": "markdown",
   "id": "847735aa-58d5-4a81-9656-178ef97ce031",
   "metadata": {},
   "source": [
    "A bag has 3 red balls and 2 blue balls.  \n",
    "A ball in chosen at random 4 time.  \n",
    "What is the probability of getting:\n",
    "\n",
    "1. Zero red balls\n",
    "2. One red balls\n",
    "3. Two red balls\n",
    "4. Three red balls\n",
    "5. Four red balls"
   ]
  },
  {
   "cell_type": "markdown",
   "id": "8ee656cc-ec83-4e03-9555-438dfcacccf4",
   "metadata": {},
   "source": [
    "##### Solution"
   ]
  },
  {
   "cell_type": "code",
   "execution_count": 11,
   "id": "1602acb5-76c0-4c55-969b-4a7644a77171",
   "metadata": {},
   "outputs": [],
   "source": [
    "p = 3 / 5  # Probability of success.\n",
    "n = 4  # Number of trails.\n",
    "# k = 0, 1, 2, 3, 4  # Random variable x taking k values."
   ]
  },
  {
   "cell_type": "code",
   "execution_count": 12,
   "id": "edb4183b-76ee-45b4-8b2b-ee9489a8d07e",
   "metadata": {},
   "outputs": [
    {
     "data": {
      "text/plain": [
       "(0.0256, 0.1536, 0.3456, 0.3456, 0.1296)"
      ]
     },
     "execution_count": 12,
     "metadata": {},
     "output_type": "execute_result"
    }
   ],
   "source": [
    "p_k0 = stats.binom.pmf(p=p, k=0, n=n).round(4).item()\n",
    "p_k1 = stats.binom.pmf(p=p, k=1, n=n).round(4).item()\n",
    "p_k2 = stats.binom.pmf(p=p, k=2, n=n).round(4).item()\n",
    "p_k3 = stats.binom.pmf(p=p, k=3, n=n).round(4).item()\n",
    "p_k4 = stats.binom.pmf(p=p, k=4, n=n).round(4).item()\n",
    "\n",
    "p_k0, p_k1, p_k2, p_k3, p_k4"
   ]
  },
  {
   "cell_type": "code",
   "execution_count": 13,
   "id": "8d0a0ce9-274e-4ae7-a448-aec6c51d19e9",
   "metadata": {},
   "outputs": [
    {
     "data": {
      "text/plain": [
       "2.4"
      ]
     },
     "execution_count": 13,
     "metadata": {},
     "output_type": "execute_result"
    }
   ],
   "source": [
    "stats.binom.expect(args=(n, p)).round(2).item()"
   ]
  },
  {
   "cell_type": "markdown",
   "id": "2b8e0a12-934d-477a-811c-8fb3986879f4",
   "metadata": {},
   "source": [
    "#### Quiz #2"
   ]
  },
  {
   "cell_type": "markdown",
   "id": "d3c1b999-4f82-4cfd-a253-76741d08afa3",
   "metadata": {},
   "source": [
    "A factory produces LED bulbs, and each bulb has a 5% chance of being defective.  \n",
    "A quality inspector randomly selects 20 bulbs from the production line.  \n",
    "\n",
    "What is the probability that exactly 2 bulbs are defective?"
   ]
  },
  {
   "cell_type": "markdown",
   "id": "762785e6-2d8e-4c03-8cee-95d819ef4d4c",
   "metadata": {},
   "source": [
    "##### Solution"
   ]
  },
  {
   "cell_type": "code",
   "execution_count": 22,
   "id": "3b1da142-d81b-4d9b-859a-0d87c3dda269",
   "metadata": {},
   "outputs": [],
   "source": [
    "p = 0.05\n",
    "n = 20\n",
    "x = 2"
   ]
  },
  {
   "cell_type": "code",
   "execution_count": 25,
   "id": "ff38bcc0-ff4d-47b1-8d2e-bfa2a191cec4",
   "metadata": {},
   "outputs": [
    {
     "data": {
      "text/plain": [
       "0.1887"
      ]
     },
     "execution_count": 25,
     "metadata": {},
     "output_type": "execute_result"
    }
   ],
   "source": [
    "p_x2 = stats.binom.pmf(p=0.05, n=20, k=2)\n",
    "p_x2.round(4).item()"
   ]
  },
  {
   "cell_type": "markdown",
   "id": "0de09e3a-2b8d-4dee-a917-cfdec4d262a2",
   "metadata": {},
   "source": [
    "#### Quiz #3"
   ]
  },
  {
   "cell_type": "markdown",
   "id": "9baea061-a51e-4c26-9584-7048ec6fbfee",
   "metadata": {},
   "source": [
    "Suppose that we float 10 quizzes, with 4 options each.  \n",
    "Only 1 option is correct, and we are guessing the answers.  \n",
    "What is the probability that we will get at least 4 answers correct?"
   ]
  },
  {
   "cell_type": "markdown",
   "id": "1fad462b-bdc6-4157-ba99-132412f8ca2b",
   "metadata": {},
   "source": [
    "##### Solution"
   ]
  },
  {
   "cell_type": "code",
   "execution_count": 14,
   "id": "3b3678c7-d13b-49a0-bb98-5fcaffd42285",
   "metadata": {},
   "outputs": [],
   "source": [
    "p = 1 / 4\n",
    "n = 10\n",
    "# k = 4, 5, 6, 7, 8, 9, 10\n",
    "# Find: P(x >= 4)\n",
    "# P(x >= 4) = 1 - P(x < 3)"
   ]
  },
  {
   "cell_type": "markdown",
   "id": "d8c7459d-1252-4eea-920c-a20beb937648",
   "metadata": {},
   "source": [
    "###### Using PMF"
   ]
  },
  {
   "cell_type": "code",
   "execution_count": 15,
   "id": "7e9c5896-b451-4f3c-a86b-79493c7dfdf8",
   "metadata": {},
   "outputs": [
    {
     "data": {
      "text/plain": [
       "0.2241"
      ]
     },
     "execution_count": 15,
     "metadata": {},
     "output_type": "execute_result"
    }
   ],
   "source": [
    "p_k0 = stats.binom.pmf(p=p, k=0, n=n)\n",
    "p_k1 = stats.binom.pmf(p=p, k=1, n=n)\n",
    "p_k2 = stats.binom.pmf(p=p, k=2, n=n)\n",
    "p_k3 = stats.binom.pmf(p=p, k=3, n=n)\n",
    "\n",
    "p_x_ge_4 = 1 - (p_k0 + p_k1 + p_k2 + p_k3)\n",
    "\n",
    "p_x_ge_4.round(4).item()"
   ]
  },
  {
   "cell_type": "markdown",
   "id": "c476b71a-2326-43fd-8262-e6eb4243501d",
   "metadata": {},
   "source": [
    "or"
   ]
  },
  {
   "cell_type": "code",
   "execution_count": 16,
   "id": "48f5b27d-d788-436f-82a8-a518cf5acca9",
   "metadata": {},
   "outputs": [
    {
     "data": {
      "text/plain": [
       "0.2241"
      ]
     },
     "execution_count": 16,
     "metadata": {},
     "output_type": "execute_result"
    }
   ],
   "source": [
    "p_k04 = stats.binom.pmf(p=p, k=4, n=n)\n",
    "p_k05 = stats.binom.pmf(p=p, k=5, n=n)\n",
    "p_k06 = stats.binom.pmf(p=p, k=6, n=n)\n",
    "p_k07 = stats.binom.pmf(p=p, k=7, n=n)\n",
    "p_k08 = stats.binom.pmf(p=p, k=8, n=n)\n",
    "p_k09 = stats.binom.pmf(p=p, k=9, n=n)\n",
    "p_k10 = stats.binom.pmf(p=p, k=10, n=n)\n",
    "\n",
    "p_tot = p_k04 + p_k05 + p_k06 + p_k07 + p_k08 + p_k09 + p_k10\n",
    "p_tot.round(4).item()"
   ]
  },
  {
   "cell_type": "markdown",
   "id": "27a4cde6-f5d7-4b6e-999f-52523e1d5918",
   "metadata": {},
   "source": [
    "###### Using CDF"
   ]
  },
  {
   "cell_type": "code",
   "execution_count": 17,
   "id": "56adb364-427e-4b91-9802-0a9d83b49cd4",
   "metadata": {},
   "outputs": [],
   "source": [
    "# Find: P(X >= 4)\n",
    "# 1 - P(x < 3)"
   ]
  },
  {
   "cell_type": "code",
   "execution_count": 18,
   "id": "285b1bce-2998-4fd0-a935-f9738b56e4a7",
   "metadata": {},
   "outputs": [
    {
     "data": {
      "text/plain": [
       "0.2241"
      ]
     },
     "execution_count": 18,
     "metadata": {},
     "output_type": "execute_result"
    }
   ],
   "source": [
    "p_x_ge_4 = 1 - stats.binom.cdf(k=3, p=p, n=n)\n",
    "p_x_ge_4.round(4).item()"
   ]
  },
  {
   "cell_type": "markdown",
   "id": "00061d66-a11d-4414-b020-f60e2962fd2f",
   "metadata": {},
   "source": [
    "#### Quiz #4"
   ]
  },
  {
   "cell_type": "markdown",
   "id": "9fde917b-1690-449e-ad4e-3dfebcf24ab2",
   "metadata": {},
   "source": [
    "Suppose that we float 10 quizzes, with 4 options each. Only 1 option is correct.  \n",
    "What is the probability that we will get exactly 2 answers correct?"
   ]
  },
  {
   "cell_type": "markdown",
   "id": "61635276-9c01-4e45-b9c8-b6d2b0762c7a",
   "metadata": {},
   "source": [
    "##### Solution"
   ]
  },
  {
   "cell_type": "code",
   "execution_count": 19,
   "id": "0a94336f-1265-40b0-a41c-aea5b479c54c",
   "metadata": {},
   "outputs": [],
   "source": [
    "p = 1 / 4\n",
    "n = 10\n",
    "x = 2"
   ]
  },
  {
   "cell_type": "code",
   "execution_count": 20,
   "id": "baf6042b-fd35-424d-bd66-0116b7c28045",
   "metadata": {},
   "outputs": [
    {
     "data": {
      "text/plain": [
       "0.2816"
      ]
     },
     "execution_count": 20,
     "metadata": {},
     "output_type": "execute_result"
    }
   ],
   "source": [
    "p_k2 = stats.binom.pmf(k=x, p=p, n=n)\n",
    "p_k2.round(4).item()"
   ]
  },
  {
   "cell_type": "markdown",
   "id": "ad1220c9-8135-4b7d-ad6b-41b7d3e0bff5",
   "metadata": {},
   "source": [
    "### 4.3 Variance of Binomial Distribution"
   ]
  },
  {
   "cell_type": "markdown",
   "id": "746d8841-e343-4e11-bd7f-35872cfc178e",
   "metadata": {},
   "source": [
    "$\n",
    "\\large\n",
    "\\begin{align}\n",
    "\\sigma^2(x) = n \\cdot p \\cdot (1 - p)\n",
    "\\end{align}\n",
    "$"
   ]
  },
  {
   "cell_type": "markdown",
   "id": "a1f206fa-0e22-423c-9646-d22a4fe3bfd0",
   "metadata": {},
   "source": [
    "### 4.4 Bernoulli Trial"
   ]
  },
  {
   "cell_type": "markdown",
   "id": "af9709ff-c94f-487e-8501-be9b797296b7",
   "metadata": {},
   "source": [
    "#### Definition"
   ]
  },
  {
   "cell_type": "markdown",
   "id": "05bb2082-c298-425a-bb30-34d795790e75",
   "metadata": {},
   "source": [
    "Bernoulli Trial is a special case of Binomial Distribution when the trial count is fixed to one."
   ]
  },
  {
   "cell_type": "markdown",
   "id": "0ed1700f-61d9-4d8e-b298-11f94cd41cb9",
   "metadata": {},
   "source": [
    "#### Formula"
   ]
  },
  {
   "cell_type": "markdown",
   "id": "8e69e86f-05f7-4e57-881f-6a7decccdb3b",
   "metadata": {},
   "source": [
    "Given $p$ the probability of success, Bernoulli Trial helps us in calculating $k$ successes from $1$ trials.\n",
    "\n",
    "$\n",
    "\\large\n",
    "\\begin{align}\n",
    "P(X = k) = p^k \\cdot (1 - p)^{1 - k}\n",
    "\\end{align}\n",
    "$"
   ]
  },
  {
   "cell_type": "markdown",
   "id": "7853d898-23a4-42f0-9b3b-8016173a95af",
   "metadata": {},
   "source": [
    "#### Expected Value"
   ]
  },
  {
   "cell_type": "markdown",
   "id": "6070b845-e84b-4fa8-b389-8a4c56344520",
   "metadata": {},
   "source": [
    "$\n",
    "\\large\n",
    "\\begin{align}\n",
    "E[X] = p\n",
    "\\end{align}\n",
    "$"
   ]
  },
  {
   "cell_type": "markdown",
   "id": "0563da04-28d1-4ce5-aae2-b7b1a78dd298",
   "metadata": {},
   "source": [
    "> **Note**:\n",
    ">\n",
    "> Binomial distribution is a collection of Bernoulli Trials."
   ]
  },
  {
   "cell_type": "markdown",
   "id": "0c29c13a-d71d-46d6-a8d0-fcd0da06f445",
   "metadata": {},
   "source": [
    "You toss 2 dice:\n",
    "\n",
    "1. if both dice are 6, you get Rs 2.\n",
    "2. else if one dice is 6, you get Rs 1.\n",
    "\n",
    "Otherwise, you do not get anything"
   ]
  },
  {
   "cell_type": "code",
   "execution_count": 21,
   "id": "41210aea-151c-4f91-8455-b00e08ae288c",
   "metadata": {},
   "outputs": [
    {
     "data": {
      "text/plain": [
       "0.0278"
      ]
     },
     "execution_count": 21,
     "metadata": {},
     "output_type": "execute_result"
    }
   ],
   "source": [
    "k2 = stats.binom.pmf(n=2, p=1 / 12, k=2)\n",
    "k2 = stats.binom.pmf(n=2, p=1 / 6, k=2)\n",
    "k2.round(4).item()"
   ]
  }
 ],
 "metadata": {
  "kernelspec": {
   "display_name": "Python 3 (ipykernel)",
   "language": "python",
   "name": "python3"
  },
  "language_info": {
   "codemirror_mode": {
    "name": "ipython",
    "version": 3
   },
   "file_extension": ".py",
   "mimetype": "text/x-python",
   "name": "python",
   "nbconvert_exporter": "python",
   "pygments_lexer": "ipython3",
   "version": "3.12.6"
  }
 },
 "nbformat": 4,
 "nbformat_minor": 5
}
