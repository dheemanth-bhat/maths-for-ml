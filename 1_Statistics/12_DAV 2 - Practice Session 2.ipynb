{
 "cells": [
  {
   "cell_type": "code",
   "execution_count": 43,
   "id": "876828ac-2ce8-468e-b552-51558bcb7718",
   "metadata": {},
   "outputs": [],
   "source": [
    "import math\n",
    "import numpy as np\n",
    "from scipy import stats"
   ]
  },
  {
   "cell_type": "markdown",
   "id": "ed945740-6100-43b8-890a-6f2aa3efef3a",
   "metadata": {},
   "source": [
    "A tire company claims that only 2% of their tires have manufacturing defects (theoretical probability).  \n",
    "A regional quality manager inspects a batch of 500 tires and finds 18 defective tires.  \n",
    "\n",
    "The manager concludes: \"The theoretical defect rate is wrong. It's clearly 3.6% now. We should update our models.\"\n",
    "\n",
    "What's the correct interpretation of this situation?"
   ]
  },
  {
   "cell_type": "markdown",
   "id": "7a6d1b71-0e04-4e41-b8f0-1782bad4ce50",
   "metadata": {},
   "source": []
  },
  {
   "cell_type": "markdown",
   "id": "9ddb130a-4aeb-429f-8b6a-7243f820497e",
   "metadata": {},
   "source": [
    "A system processes requests, and each request is either successful (1) with probability 0.97 or unsuccessful (0) with probability 0.03.  \n",
    "Let X be the random variable representing success (1) or failure (0) for a request.\n",
    "\n",
    "What is the expected value of $X^2$?"
   ]
  },
  {
   "cell_type": "code",
   "execution_count": 1,
   "id": "b6c09c73-d789-40c2-8ee2-4a02108bc0cf",
   "metadata": {},
   "outputs": [
    {
     "data": {
      "text/plain": [
       "0.5"
      ]
     },
     "execution_count": 1,
     "metadata": {},
     "output_type": "execute_result"
    }
   ],
   "source": [
    "(1 * 0.5) + (0 * 0.5)"
   ]
  },
  {
   "cell_type": "markdown",
   "id": "7247d9fa-339c-49a8-8449-e0f1bdabb3e5",
   "metadata": {},
   "source": [
    "A YouTuber earns revenue based on the number of ads watched. Each ad generates a random amount between ₹0.50 and ₹3, following a Uniform Distribution X∼U(0.5,3). The YouTuber uploads 5 videos, and each video gets an average of 1,000 ad views.\n",
    "\n",
    "Question 1: What is the expected revenue per ad?  \n",
    "Question 2: What is the expected total revenue from all 5 videos?  "
   ]
  },
  {
   "cell_type": "code",
   "execution_count": 2,
   "id": "617eb1b8-6c07-4275-9d1d-13bbe3e6823a",
   "metadata": {},
   "outputs": [
    {
     "data": {
      "text/plain": [
       "1.75"
      ]
     },
     "execution_count": 2,
     "metadata": {},
     "output_type": "execute_result"
    }
   ],
   "source": [
    "a = 0.5\n",
    "b = 3\n",
    "\n",
    "(a + b) / 2"
   ]
  },
  {
   "cell_type": "markdown",
   "id": "3babc1ae-0001-45b8-8d67-f5bbec13131d",
   "metadata": {},
   "source": [
    "A food delivery app records delivery times as follows:\n",
    "\n",
    "1. 50% of orders are delivered in 25 minutes\n",
    "2. 30% take 35 minutes\n",
    "3. 20% take 45 minutes\n",
    "\n",
    "Question 1: What is the expected delivery time for one order?  \n",
    "Question 2: If a customer places 3 independent orders, what is the expected total delivery time?"
   ]
  },
  {
   "cell_type": "code",
   "execution_count": 3,
   "id": "b58a0493-c918-4d8d-9c4b-0d64abe805a2",
   "metadata": {},
   "outputs": [
    {
     "data": {
      "text/plain": [
       "32.0"
      ]
     },
     "execution_count": 3,
     "metadata": {},
     "output_type": "execute_result"
    }
   ],
   "source": [
    "(25 * 0.5 + 35 * 0.3 + 45 * 0.2)"
   ]
  },
  {
   "cell_type": "code",
   "execution_count": 4,
   "id": "5437a324-c2af-4e7e-ad1a-5560b9e681ab",
   "metadata": {},
   "outputs": [
    {
     "data": {
      "text/plain": [
       "96"
      ]
     },
     "execution_count": 4,
     "metadata": {},
     "output_type": "execute_result"
    }
   ],
   "source": [
    "3 * 32"
   ]
  },
  {
   "cell_type": "markdown",
   "id": "9d5cc55c-c802-4068-bc9a-ec614ca4d765",
   "metadata": {},
   "source": [
    "A user plays a Google Pay cashback scratch card where they can win ₹10, ₹20, ₹50, ₹100, or ₹500, each with an equal chance.\n",
    "\n",
    "Question 1: What is the probability of winning ₹50? (Use PMF)  \n",
    "Question 2: What is the expected cashback amount a user will receive? (Use Expectation) "
   ]
  },
  {
   "cell_type": "code",
   "execution_count": 7,
   "id": "024bd019-7932-4d71-806e-d90bc0a0b4e1",
   "metadata": {},
   "outputs": [
    {
     "data": {
      "text/plain": [
       "0.2"
      ]
     },
     "execution_count": 7,
     "metadata": {},
     "output_type": "execute_result"
    }
   ],
   "source": [
    "1 / (5 - 1 + 1)"
   ]
  },
  {
   "cell_type": "code",
   "execution_count": 9,
   "id": "003aa0a3-5f1a-4b30-8646-abb54a0cad42",
   "metadata": {},
   "outputs": [
    {
     "data": {
      "text/plain": [
       "136.0"
      ]
     },
     "execution_count": 9,
     "metadata": {},
     "output_type": "execute_result"
    }
   ],
   "source": [
    "(1 / 5) * (10 + 20 + 50 + 100 + 500)"
   ]
  },
  {
   "cell_type": "markdown",
   "id": "1cef72b5-c167-4f66-a850-9f5d26f0d776",
   "metadata": {},
   "source": [
    "An Uber driver tracks ride durations that follow a normal distribution with:\n",
    "\n",
    "1. Mean ride time μ=15 minutes\n",
    "2. Standard deviation σ=3 minutes\n",
    "\n",
    "Question 1: What is the probability that a randomly selected ride takes more than 20 minutes?  \n",
    "Question 2: What is the expected ride duration and the variance?  \n",
    "Question 3: What is the probability that a ride takes between 12 and 18 minutes?  "
   ]
  },
  {
   "cell_type": "code",
   "execution_count": 19,
   "id": "6dbe6ced-4a0a-46d1-917c-fa144fe8a438",
   "metadata": {},
   "outputs": [],
   "source": [
    "mu = 15\n",
    "std = 3\n",
    "# Find: P(x > 20)\n",
    "# 1 - P(X < 20)\n",
    "x = 20"
   ]
  },
  {
   "cell_type": "code",
   "execution_count": 20,
   "id": "a2257190-7a66-450e-926c-ccbd870772f9",
   "metadata": {},
   "outputs": [
    {
     "data": {
      "text/plain": [
       "1.6666666666666667"
      ]
     },
     "execution_count": 20,
     "metadata": {},
     "output_type": "execute_result"
    }
   ],
   "source": [
    "z = (x - mu) / std\n",
    "z"
   ]
  },
  {
   "cell_type": "code",
   "execution_count": 21,
   "id": "34f05660-7bcb-4270-a26d-cc221242e03c",
   "metadata": {},
   "outputs": [
    {
     "data": {
      "text/plain": [
       "0.05"
      ]
     },
     "execution_count": 21,
     "metadata": {},
     "output_type": "execute_result"
    }
   ],
   "source": [
    "p_x_lt_20 = 1 - stats.norm.cdf(z)\n",
    "p_x_lt_20.round(2).item()"
   ]
  },
  {
   "cell_type": "code",
   "execution_count": 22,
   "id": "6d4c0619-ca16-4484-a2ee-8df4a070e81a",
   "metadata": {},
   "outputs": [
    {
     "data": {
      "text/plain": [
       "(-1.0, 1.0)"
      ]
     },
     "execution_count": 22,
     "metadata": {},
     "output_type": "execute_result"
    }
   ],
   "source": [
    "x1, x2 = 12, 18\n",
    "z1 = (x1 - mu) / std\n",
    "z2 = (x2 - mu) / std\n",
    "\n",
    "z1, z2"
   ]
  },
  {
   "cell_type": "code",
   "execution_count": 24,
   "id": "b0f27036-9bc5-4f6b-be85-f846662d8aec",
   "metadata": {},
   "outputs": [
    {
     "data": {
      "text/plain": [
       "0.68"
      ]
     },
     "execution_count": 24,
     "metadata": {},
     "output_type": "execute_result"
    }
   ],
   "source": [
    "p_x1_x2 = stats.norm.cdf(z2) - stats.norm.cdf(z1)\n",
    "p_x1_x2.round(2).item()"
   ]
  },
  {
   "cell_type": "markdown",
   "id": "0bb89ad6-7a5a-495b-aa39-378315012471",
   "metadata": {},
   "source": [
    "An iPhone's battery charging time (0% to 100%) is uniformly distributed between 1 hour and 2.5 hours.\n",
    "\n",
    "Question 1: What is the probability that the phone is fully charged in less than 1.5 hours?  \n",
    "Question 2: What is the probability density function (PDF) value for any given charging time in this range?  "
   ]
  },
  {
   "cell_type": "code",
   "execution_count": 31,
   "id": "3cbaad61-e371-4d5e-98ae-fda849910da2",
   "metadata": {},
   "outputs": [],
   "source": [
    "a = 1\n",
    "b = 2.5\n",
    "mu = 1\n",
    "scale = b - a\n",
    "# Find: P(x < 1.5)\n",
    "x = 1.5"
   ]
  },
  {
   "cell_type": "code",
   "execution_count": 33,
   "id": "a2c817f8-68a0-48d8-98db-a29a4a0d3aa6",
   "metadata": {},
   "outputs": [
    {
     "data": {
      "text/plain": [
       "0.3333"
      ]
     },
     "execution_count": 33,
     "metadata": {},
     "output_type": "execute_result"
    }
   ],
   "source": [
    "p_x_lt_1p5 = stats.uniform.cdf(x=x, loc=mu, scale=scale)\n",
    "p_x_lt_1p5.round(4).item()"
   ]
  },
  {
   "cell_type": "code",
   "execution_count": 34,
   "id": "7611ca3f-a72e-4d52-bd99-ee5aa587aff1",
   "metadata": {},
   "outputs": [
    {
     "data": {
      "text/plain": [
       "0.6667"
      ]
     },
     "execution_count": 34,
     "metadata": {},
     "output_type": "execute_result"
    }
   ],
   "source": [
    "p_x_1p5 = stats.uniform.pdf(x=x, loc=mu, scale=scale)\n",
    "p_x_1p5.round(4).item()"
   ]
  },
  {
   "cell_type": "markdown",
   "id": "9b8acba4-e816-40db-9cdd-2b0698bd1ed0",
   "metadata": {},
   "source": [
    "A WhatsApp user receives an average of 5 messages per minute.  \n",
    "The number of messages follows a Poisson distribution with λ = 5.\n",
    "\n",
    "Question 1: What is the probability that the user receives exactly 7 messages in a minute?  \n",
    "Question 2: What is the probability that the user receives at least 3 messages in a minute?  "
   ]
  },
  {
   "cell_type": "code",
   "execution_count": 35,
   "id": "8fbf3ddc-c4b3-4fbe-b0ac-a9acd2aa730a",
   "metadata": {},
   "outputs": [],
   "source": [
    "# 5m -> 1\n",
    "#  ? -> 1\n",
    "mu = 5\n",
    "# Find: P(x = 7)\n",
    "x = 7"
   ]
  },
  {
   "cell_type": "code",
   "execution_count": 37,
   "id": "ecd03d87-acd1-4873-a8ed-44941ec36345",
   "metadata": {},
   "outputs": [
    {
     "data": {
      "text/plain": [
       "0.1044"
      ]
     },
     "execution_count": 37,
     "metadata": {},
     "output_type": "execute_result"
    }
   ],
   "source": [
    "p_x_7 = stats.poisson.pmf(k=x, mu=mu)\n",
    "p_x_7.round(4).item()"
   ]
  },
  {
   "cell_type": "code",
   "execution_count": 38,
   "id": "7146152b-3184-4413-b099-371a60216614",
   "metadata": {},
   "outputs": [],
   "source": [
    "# Find: P(x >= 3)\n",
    "# 1 - P(x <= 2)\n",
    "x = 2"
   ]
  },
  {
   "cell_type": "code",
   "execution_count": 39,
   "id": "13c1e24f-22e8-4547-ab1b-b0c7517571a3",
   "metadata": {},
   "outputs": [
    {
     "data": {
      "text/plain": [
       "0.8753"
      ]
     },
     "execution_count": 39,
     "metadata": {},
     "output_type": "execute_result"
    }
   ],
   "source": [
    "p_x_le_2 = 1 - stats.poisson.cdf(k=x, mu=mu)\n",
    "p_x_le_2.round(4).item()"
   ]
  },
  {
   "cell_type": "markdown",
   "id": "9fcc1724-0e49-46d8-805a-093ed1cd7b14",
   "metadata": {},
   "source": [
    "A Netflix user experiences buffering intervals that follow an Exponential distribution with  \n",
    "rate $\\lambda = \\frac{1}{15}$ (mean time 15 minutes).\n",
    "\n",
    "Question 1: What is the probability that the next buffering occurs within 10 minutes?  \n",
    "Question 2: What is the expected time until the next buffering, and what is the variance?  "
   ]
  },
  {
   "cell_type": "code",
   "execution_count": 41,
   "id": "97b02a5e-8bcd-49fe-9475-8bb2f1a1c944",
   "metadata": {},
   "outputs": [],
   "source": [
    "rate = 1 / 15\n",
    "scale = 1 / rate\n",
    "# Find: P(x < 10)\n",
    "x = 10"
   ]
  },
  {
   "cell_type": "code",
   "execution_count": 42,
   "id": "e54aa7ff-3777-4b06-8f07-4e650000ac85",
   "metadata": {},
   "outputs": [
    {
     "data": {
      "text/plain": [
       "0.4866"
      ]
     },
     "execution_count": 42,
     "metadata": {},
     "output_type": "execute_result"
    }
   ],
   "source": [
    "p_x_lt_10 = stats.expon.cdf(x=x, scale=scale)\n",
    "p_x_lt_10.round(4).item()"
   ]
  },
  {
   "cell_type": "markdown",
   "id": "85b025ec-fb27-4b09-9d49-c808197748a7",
   "metadata": {},
   "source": [
    "A social media analytics firm is measuring the average watch time (in minutes) of videos.  \n",
    "The standard deviation in watch time is 12 minutes.\n",
    "\n",
    "They collect three random samples:\n",
    "\n",
    "Group A: 36 users  \n",
    "Group B: 144 users  \n",
    "Group C: 36 users  \n",
    "\n",
    "(but values are scaled up - watch time is measured in seconds, not minutes)\n",
    "Which of the following statements are TRUE about the Standard Error (SE) of each group?\n",
    "\n",
    "A. SE of Group B is half that of Group A  \n",
    "B. SE of Group C is 60 * SE of Group A  \n",
    "C. SE of Group A = 2 minutes  \n",
    "D. SE of Group B = 2 minutes  \n",
    "E. SE of Group C = 120 seconds  \n",
    "F. Group C has same SE as A, just in different units  \n",
    "G. SE is independent of units used"
   ]
  },
  {
   "cell_type": "code",
   "execution_count": 52,
   "id": "3e42806f-4778-4759-bde3-31a9090a98f0",
   "metadata": {},
   "outputs": [],
   "source": [
    "std = 12\n",
    "n1 = 36\n",
    "n2 = 144\n",
    "n3 = 36"
   ]
  },
  {
   "cell_type": "code",
   "execution_count": 56,
   "id": "54efc572-0e10-4a10-a3df-13098ab9547f",
   "metadata": {},
   "outputs": [
    {
     "data": {
      "text/plain": [
       "2.0"
      ]
     },
     "execution_count": 56,
     "metadata": {},
     "output_type": "execute_result"
    }
   ],
   "source": [
    "ga_se = std / math.sqrt(n1)\n",
    "ga_se"
   ]
  },
  {
   "cell_type": "code",
   "execution_count": 57,
   "id": "5715165b-23e6-42e3-bb69-4fbf5bbf4618",
   "metadata": {},
   "outputs": [
    {
     "data": {
      "text/plain": [
       "1.0"
      ]
     },
     "execution_count": 57,
     "metadata": {},
     "output_type": "execute_result"
    }
   ],
   "source": [
    "gb_se = std / math.sqrt(n2)\n",
    "gb_se"
   ]
  },
  {
   "cell_type": "code",
   "execution_count": 58,
   "id": "0f389f97-98d1-4289-b074-6799a23b4f50",
   "metadata": {},
   "outputs": [
    {
     "data": {
      "text/plain": [
       "120.0"
      ]
     },
     "execution_count": 58,
     "metadata": {},
     "output_type": "execute_result"
    }
   ],
   "source": [
    "gc_se = (std * 60) / math.sqrt(n3)\n",
    "gc_se"
   ]
  },
  {
   "cell_type": "code",
   "execution_count": 59,
   "id": "b1957904-4896-4343-a819-440ff3dd0ced",
   "metadata": {},
   "outputs": [
    {
     "data": {
      "text/plain": [
       "120.0"
      ]
     },
     "execution_count": 59,
     "metadata": {},
     "output_type": "execute_result"
    }
   ],
   "source": [
    "60 * ga_se"
   ]
  },
  {
   "cell_type": "markdown",
   "id": "571a4d66-d5f9-493f-9e24-405b99fa9b43",
   "metadata": {},
   "source": [
    "Correct: A, C, E, F  \n",
    "Wrong: B, D, G"
   ]
  },
  {
   "cell_type": "code",
   "execution_count": 82,
   "id": "b3f9192d-8519-4eed-a319-3f50f92d359e",
   "metadata": {},
   "outputs": [],
   "source": [
    "import math\n",
    "from statistics import mean, stdev\n",
    "from scipy import stats\n",
    "\n",
    "def compute_ci(n, weights, confidence):\n",
    "    \"\"\"\n",
    "    input:\n",
    "    weights -> float values — the weights of the teabags in grams\n",
    "    confidence_level ->  A float value — the confidence level\n",
    "\n",
    "    \"\"\"\n",
    "    s_mean = mean(weights)\n",
    "    s_std = stdev(weights) / math.sqrt(n)\n",
    "\n",
    "    alpha = 1 - confidence\n",
    "    z = stats.norm.ppf(1 - (alpha / 2))\n",
    "    moe = (z * s_std).round(2).item()\n",
    "\n",
    "    x1, x2 = stats.norm.interval(confidence, loc=s_mean, scale=s_std)\n",
    "    x1, x2 = x1.round(2).item(), x2.round(2).item()\n",
    "\n",
    "    print(f\"Point Estimate (mean): {round(s_mean, 2)}g\")\n",
    "    print(f\"Margin of Error: {moe}g\")\n",
    "    print(f\"Confidence Interval: ({x1}g, {x2}g)\")"
   ]
  },
  {
   "cell_type": "code",
   "execution_count": 83,
   "id": "dd76e4d8-6886-4e54-b790-85cf999a29c0",
   "metadata": {},
   "outputs": [
    {
     "data": {
      "text/plain": [
       "(0.025, 0.025)"
      ]
     },
     "execution_count": 83,
     "metadata": {},
     "output_type": "execute_result"
    }
   ],
   "source": [
    "round((1 - 0.95) / 2, 4), round((1 - 0.95) / 2, 4)"
   ]
  },
  {
   "cell_type": "code",
   "execution_count": 84,
   "id": "87cf6a58-dcd1-4ba7-9feb-47fdd64f7535",
   "metadata": {},
   "outputs": [
    {
     "name": "stdout",
     "output_type": "stream",
     "text": [
      "Point Estimate (mean): 2.18g\n",
      "Margin of Error: 0.08g\n",
      "Confidence Interval: (2.1g, 2.26g)\n"
     ]
    }
   ],
   "source": [
    "compute_ci(\n",
    "    10,\n",
    "    [2.1, 2.2, 2.3, 2.0, 2.2, 2.4, 2.1, 2.3, 2.2, 2.0],\n",
    "    0.95,\n",
    ")"
   ]
  },
  {
   "cell_type": "code",
   "execution_count": 60,
   "id": "a9719f2e-4e4e-4e6b-90c8-d3e0dc9c4a1f",
   "metadata": {},
   "outputs": [],
   "source": [
    "from statistics import mean, stdev"
   ]
  },
  {
   "cell_type": "code",
   "execution_count": 61,
   "id": "6446c0d8-60ee-4119-91d4-d4a4dc5ce8ad",
   "metadata": {},
   "outputs": [
    {
     "data": {
      "text/plain": [
       "\u001b[31mSignature:\u001b[39m mean(data)\n",
       "\u001b[31mDocstring:\u001b[39m\n",
       "Return the sample arithmetic mean of data.\n",
       "\n",
       ">>> mean([1, 2, 3, 4, 4])\n",
       "2.8\n",
       "\n",
       ">>> from fractions import Fraction as F\n",
       ">>> mean([F(3, 7), F(1, 21), F(5, 3), F(1, 3)])\n",
       "Fraction(13, 21)\n",
       "\n",
       ">>> from decimal import Decimal as D\n",
       ">>> mean([D(\"0.5\"), D(\"0.75\"), D(\"0.625\"), D(\"0.375\")])\n",
       "Decimal('0.5625')\n",
       "\n",
       "If ``data`` is empty, StatisticsError will be raised.\n",
       "\u001b[31mFile:\u001b[39m      c:\\users\\dheem\\appdata\\local\\programs\\python\\python312\\lib\\statistics.py\n",
       "\u001b[31mType:\u001b[39m      function"
      ]
     },
     "metadata": {},
     "output_type": "display_data"
    }
   ],
   "source": [
    "mean?"
   ]
  },
  {
   "cell_type": "code",
   "execution_count": null,
   "id": "4399e4b9-e23c-45c1-a660-1488a0deb905",
   "metadata": {},
   "outputs": [],
   "source": []
  }
 ],
 "metadata": {
  "kernelspec": {
   "display_name": "Python 3 (ipykernel)",
   "language": "python",
   "name": "python3"
  },
  "language_info": {
   "codemirror_mode": {
    "name": "ipython",
    "version": 3
   },
   "file_extension": ".py",
   "mimetype": "text/x-python",
   "name": "python",
   "nbconvert_exporter": "python",
   "pygments_lexer": "ipython3",
   "version": "3.12.6"
  }
 },
 "nbformat": 4,
 "nbformat_minor": 5
}
