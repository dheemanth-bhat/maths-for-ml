{
 "cells": [
  {
   "cell_type": "markdown",
   "id": "c0cb31e2-4539-40a7-a2e2-d77cd7730678",
   "metadata": {},
   "source": [
    "### Summary"
   ]
  },
  {
   "cell_type": "markdown",
   "id": "a71c85b8-b7c0-482b-953e-605be9944812",
   "metadata": {},
   "source": [
    "1. Poisson distribution models the number of events in a fixed interval of time.\n",
    "2. Exponential distribution models the time between consecutive events.\n",
    "3. Binomial Distribution: Models the number of successes in a fixed number of trials.\n",
    "4. Geometric Distribution: Models the number of trials it takes to get the first success.\n",
    "5. Uniform distribution: Models situations where all outcomes in a given range are equally likely.\n",
    "6. Normal distribution: Models phenomena where values tend to cluster around a central average."
   ]
  },
  {
   "cell_type": "markdown",
   "id": "2434e678-b5c5-4a47-b93a-6649cae664d1",
   "metadata": {},
   "source": [
    "### 1 Binomial Distribution"
   ]
  },
  {
   "cell_type": "markdown",
   "id": "9b2f0f74-c077-4310-b053-0a941d8d1b0e",
   "metadata": {},
   "source": [
    "#### Type: Discrete Probability Distribution"
   ]
  },
  {
   "cell_type": "markdown",
   "id": "cc21cb1f-08f9-4427-9c80-3645e17181e7",
   "metadata": {},
   "source": [
    "#### Formula\n",
    "\n",
    "Given $p$ the probability of success, Binomial distribution helps us in calculating $k$ successes from $n$ trials.\n",
    "\n",
    "$\n",
    "\\large\n",
    "\\begin{align}\n",
    "P(X = k) = {}^nC_k \\cdot p^k \\cdot (1 - p)^{n - k}\n",
    "\\end{align}\n",
    "$"
   ]
  },
  {
   "cell_type": "markdown",
   "id": "34ae7408-30e0-4171-bbe6-f8a933deef2c",
   "metadata": {},
   "source": [
    "#### Expected Value\n",
    "\n",
    "$\n",
    "\\large\n",
    "\\begin{align}\n",
    "E[X] = n \\cdot p\n",
    "\\end{align}\n",
    "$"
   ]
  },
  {
   "cell_type": "markdown",
   "id": "6d2e74e7-da6e-4f6f-9773-8aab39003dcc",
   "metadata": {},
   "source": [
    "#### PMF and CDF\n",
    "\n",
    "p = Probability of success  \n",
    "n = Number of trails  \n",
    "x = Random variable X  \n",
    "\n",
    "```python\n",
    "stats.binom.pmf(k=x, p=p, n=n)\n",
    "stats.binom.cdf(k=x, p=p, n=n)\n",
    "```"
   ]
  },
  {
   "cell_type": "markdown",
   "id": "f7c12827-c4f5-4702-8613-c44c56c785a6",
   "metadata": {},
   "source": [
    "#### Variance\n",
    "\n",
    "$\n",
    "\\large\n",
    "\\begin{align}\n",
    "\\sigma^2(x) = n \\cdot p \\cdot (1 - p)\n",
    "\\end{align}\n",
    "$"
   ]
  },
  {
   "cell_type": "markdown",
   "id": "68a27ba5-d019-4d18-ad7b-5683e15a8eb1",
   "metadata": {},
   "source": [
    "### 2 Bernoulli Trial"
   ]
  },
  {
   "cell_type": "markdown",
   "id": "da192e9e-64c2-490f-aa39-1313442df70e",
   "metadata": {},
   "source": [
    "#### Formula\n",
    "\n",
    "Given $p$ the probability of success, Bernoulli Trial helps us in calculating $k$ successes from $1$ trials.\n",
    "\n",
    "$\n",
    "\\large\n",
    "\\begin{align}\n",
    "P(X = k) = p^k \\cdot (1 - p)^{1 - k}\n",
    "\\end{align}\n",
    "$"
   ]
  },
  {
   "cell_type": "markdown",
   "id": "614f148d-16a7-4a20-abe1-fc95f564011a",
   "metadata": {},
   "source": [
    "#### Expected Value\n",
    "\n",
    "$\n",
    "\\large\n",
    "\\begin{align}\n",
    "E[X] = p\n",
    "\\end{align}\n",
    "$"
   ]
  },
  {
   "cell_type": "markdown",
   "id": "60cfa5f5-e058-4ba4-89e0-a178d241c24b",
   "metadata": {},
   "source": [
    "### 3 Poisson distribution"
   ]
  },
  {
   "cell_type": "markdown",
   "id": "42d8762d-e5bd-4197-a4e5-858fe20db101",
   "metadata": {},
   "source": [
    "#### Type: Discrete Probability Distribution"
   ]
  },
  {
   "cell_type": "markdown",
   "id": "8404c267-6b4b-493d-bdb2-10cc2557dfce",
   "metadata": {},
   "source": [
    "#### Formula\n",
    "\n",
    "$\n",
    "\\begin{align}\n",
    "\\large\n",
    "P(x = k) = \\frac{\\lambda^k \\cdot e^{-\\lambda}}{k!}\n",
    "\\end{align}\n",
    "$"
   ]
  },
  {
   "cell_type": "markdown",
   "id": "45947d92-93bf-428b-ac25-e441537a3606",
   "metadata": {},
   "source": [
    "#### Expected Value\n",
    "\n",
    "$\n",
    "\\large\n",
    "\\begin{align}\n",
    "E[X] = \\lambda\n",
    "\\end{align}\n",
    "$"
   ]
  },
  {
   "cell_type": "markdown",
   "id": "4916adee-3b2c-4249-b9c8-cfbecf1673cd",
   "metadata": {},
   "source": [
    "#### PMF and CDF\n",
    "\n",
    "mu = lambda or rate  \n",
    "x = Random Variable\n",
    "\n",
    "```python\n",
    "stats.poisson.pmf(k=x, mu=mu)\n",
    "stats.poisson.cdf(k=x, mu=mu)\n",
    "```"
   ]
  },
  {
   "cell_type": "markdown",
   "id": "987de9ef-c2b6-4ad5-a10f-678fa34c7b77",
   "metadata": {},
   "source": [
    "### 4 Exponential distribution"
   ]
  },
  {
   "cell_type": "markdown",
   "id": "4aff0f8d-33bf-405c-b982-e34769377ee1",
   "metadata": {},
   "source": [
    "#### Type: Continuous Probability Distribution"
   ]
  },
  {
   "cell_type": "markdown",
   "id": "b3e5c36f-1e4f-47c9-9064-dfe3c3677188",
   "metadata": {},
   "source": [
    "#### Formula\n",
    "\n",
    "$\n",
    "\\begin{align}\n",
    "\\large\n",
    "P(T \\le x) = 1 - e^{-\\lambda x}\n",
    "\\end{align}\n",
    "$\n",
    "\n",
    "$\n",
    "\\begin{align}\n",
    "\\large\n",
    "P(x, \\lambda) = \\lambda \\cdot e^{-\\lambda x}\n",
    "\\end{align}\n",
    "$\n",
    "\n",
    "##### Scale\n",
    "\n",
    "$\n",
    "\\begin{align}\n",
    "\\beta = \\frac{1}{\\lambda}\n",
    "\\end{align}\n",
    "$"
   ]
  },
  {
   "cell_type": "markdown",
   "id": "3ec1c5ce-fb2f-4b07-9bbe-58954906b5b5",
   "metadata": {},
   "source": [
    "#### Expected Value\n",
    "\n",
    "$\n",
    "\\large\n",
    "\\begin{align}\n",
    "E[X] = \\beta = \\frac{1}{\\lambda}\n",
    "\\end{align}\n",
    "$"
   ]
  },
  {
   "cell_type": "markdown",
   "id": "39830188-e33b-4939-b541-5ba1b2787ef8",
   "metadata": {},
   "source": [
    "#### PMF and CDF\n",
    "\n",
    "scale = 1 / lambda  \n",
    "scale = 1 / rate  \n",
    "x = Random Variable  \n",
    "\n",
    "```python\n",
    "stats.expon.pdf(x=x, scale=scale)\n",
    "stats.expon.cdf(x=x, scale=scale)\n",
    "```"
   ]
  },
  {
   "cell_type": "markdown",
   "id": "cbd4d84a-8074-4522-8c2f-a7efa6bbe541",
   "metadata": {},
   "source": [
    "#### Memory less property\n",
    "\n",
    "$\n",
    "\\begin{align}\n",
    "P(x > 9\\; \\textbar \\; x > 3) = \\frac{P(x > 9 \\; \\cap \\; x > 3)}{P(x > 3)}\n",
    "\\end{align}\n",
    "$\n",
    "\n",
    "$\n",
    "\\begin{align}\n",
    "P(x > 9 \\; \\textbar \\; x > 3) = \\frac{P(x > 9)}{P(x > 3)}\n",
    "\\end{align}\n",
    "$"
   ]
  },
  {
   "cell_type": "markdown",
   "id": "dfe4e092-dee6-4ce4-b091-17c7827dcb08",
   "metadata": {},
   "source": [
    "### 5 Geometric Distribution"
   ]
  },
  {
   "cell_type": "markdown",
   "id": "7e7ff100-4739-4348-ab23-470f0e6c2420",
   "metadata": {},
   "source": [
    "#### Type: Discrete Probability Distribution"
   ]
  },
  {
   "cell_type": "markdown",
   "id": "3aa2d28f-b206-49ba-b585-bc1fa14fd8e4",
   "metadata": {},
   "source": [
    "#### Formula\n",
    "\n",
    "$\n",
    "\\begin{align}\n",
    "\\large\n",
    "P(x = k) = (1 - p)^{k - 1} \\cdot p\n",
    "\\end{align}\n",
    "$"
   ]
  },
  {
   "cell_type": "markdown",
   "id": "c0af085f-f529-4fc1-a932-ce201032cbf8",
   "metadata": {},
   "source": [
    "#### Expected Value\n",
    "\n",
    "$\n",
    "\\begin{align}\n",
    "\\large\n",
    "E(x) = \\frac{1}{\\text{probability of success}}\n",
    "\\end{align}\n",
    "$"
   ]
  },
  {
   "cell_type": "markdown",
   "id": "53bc0f86-2673-40c0-91ae-14f6eb0d98bf",
   "metadata": {},
   "source": [
    "#### PMF and CDF\n",
    "\n",
    "p = probability of first success   \n",
    "x = Random Variable  \n",
    "\n",
    "```python\n",
    "stats.geom.pmf(k=x, p=p)\n",
    "stats.geom.cdf(k=x, p=p)\n",
    "```"
   ]
  },
  {
   "cell_type": "markdown",
   "id": "aba5f5d8-d5bb-4d6d-aacf-29fb16b6b10c",
   "metadata": {},
   "source": [
    "### 6 Normal distribution"
   ]
  },
  {
   "cell_type": "markdown",
   "id": "956f868a-9fd3-4f13-b4d6-3a57798e0a9c",
   "metadata": {},
   "source": [
    "#### Type: Continuous Probability Distribution"
   ]
  },
  {
   "cell_type": "markdown",
   "id": "c0e73f03-133b-47af-ab74-f22d1bf3e7be",
   "metadata": {},
   "source": [
    "#### Formula\n",
    "\n",
    "##### Empirical Rule\n",
    "\n",
    "$\n",
    "\\begin{align}\n",
    "\\large\n",
    "\\text{68 / 95 / 99.7}\n",
    "\\end{align}\n",
    "$\n",
    "\n",
    "##### Z-Score\n",
    "\n",
    "$\n",
    "\\begin{align}\n",
    "\\large\n",
    "\\text{Z-Score} = \\frac{(x - \\mu)}{\\sigma}\n",
    "\\end{align}\n",
    "$"
   ]
  },
  {
   "cell_type": "markdown",
   "id": "a6e4d2bf-4808-41e1-b321-9e1fec1c3a07",
   "metadata": {},
   "source": [
    "#### Expected Value\n",
    "\n",
    "$\n",
    "\\begin{align}\n",
    "\\large\n",
    "E[x] = \\mu\n",
    "\\end{align}\n",
    "$"
   ]
  },
  {
   "cell_type": "markdown",
   "id": "57170ff5-28dd-4e27-a296-a4b3e9553be1",
   "metadata": {},
   "source": [
    "#### PMF and CDF"
   ]
  },
  {
   "cell_type": "markdown",
   "id": "f97440f2-efd0-49b3-8a2e-a0b00abd04d1",
   "metadata": {},
   "source": [
    "* Use `ppf()` to get Z-Score from Percentile.\n",
    "* Use `cdf()` to get Percentile from Z-Score."
   ]
  },
  {
   "cell_type": "markdown",
   "id": "e7d172db-2057-41ac-8ff2-ea919e5f57fd",
   "metadata": {},
   "source": [
    "mu = Mean  \n",
    "std = Standard Deviation  \n",
    "x = Random Variable X  \n",
    "\n",
    "```python\n",
    "z_score = (x - mu) / std\n",
    "\n",
    "stats.norm.ppf(prob)\n",
    "stats.norm.cdf(z_score)\n",
    "```"
   ]
  },
  {
   "cell_type": "markdown",
   "id": "4e619e23-72a1-47b0-b365-ce5532231269",
   "metadata": {},
   "source": [
    "#### Standard Error\n",
    "\n",
    "##### Case #1: Population standard deviation is known\n",
    "\n",
    "$\n",
    "\\begin{align}\n",
    "\\large\n",
    "SE_{\\bar{x}} = \\frac{\\sigma}{\\sqrt{n}}\n",
    "\\end{align}\n",
    "$\n",
    "\n",
    "##### Case #1: Population standard deviation is **NOT** known\n",
    "\n",
    "$\n",
    "\\begin{align}\n",
    "\\large\n",
    "SE_{\\bar{x}} = \\frac{s}{\\sqrt{n}}\n",
    "\\end{align}\n",
    "$\n",
    "\n",
    "Where $s$ is sample standard deviation"
   ]
  },
  {
   "cell_type": "markdown",
   "id": "7c4026e2-5754-43f0-9e50-ebb9607260c0",
   "metadata": {},
   "source": [
    "#### Confidence Interval\n",
    "\n",
    "$\\text{Confidence Interval} = \\text{Point Estimate} \\pm \\text{Margin of Error}$"
   ]
  },
  {
   "cell_type": "markdown",
   "id": "de89feea-f9e3-4bcc-b2bb-d4b787d2522e",
   "metadata": {},
   "source": [
    "#### Confidence Interval Using CLT\n",
    "\n",
    "$\n",
    "\\begin{align}\n",
    "\\text{Confidence Interval} = \\biggl(\\overline{X} \\pm Z \\cdot \\frac{\\sigma}{\\sqrt{n}} \\biggr)\n",
    "\\end{align}\n",
    "$\n",
    "\n",
    "\n",
    "s_mean = Sample mean  \n",
    "std_err = Standard error  \n",
    "\n",
    "\n",
    "```python\n",
    "x1, x2 = stats.norm.interval(confidence, loc=s_mean, scale=std_err)\n",
    "```\n",
    "\n",
    "Find z-score for margin error:\n",
    "\n",
    "```python\n",
    "confidence_interval = 0.95\n",
    "\n",
    "alpha = 1 - confidence_interval\n",
    "\n",
    "# Two-sided Z-critical value.\n",
    "z = stats.norm.ppf(1 - alpha/2)\n",
    "```"
   ]
  },
  {
   "cell_type": "markdown",
   "id": "351d6631-9beb-405b-964a-8457b90caaf1",
   "metadata": {},
   "source": [
    "#### Confidence Interval Using Bootstrapping\n",
    "\n",
    "$\n",
    "\\begin{align}\n",
    "\\text{Confidence Interval} = \\biggl(\\overline{X} \\pm Z \\cdot \\frac{\\sigma}{\\sqrt{n}} \\biggr)\n",
    "\\end{align}\n",
    "$\n",
    "\n",
    "```python\n",
    "confidence_interval = 0.95\n",
    "\n",
    "alpha = 1 - confidence_interval\n",
    "\n",
    "# Two-sided Z-critical value.\n",
    "z = stats.norm.ppf(1 - alpha/2)\n",
    "```"
   ]
  },
  {
   "cell_type": "markdown",
   "id": "17dc10b8-e82c-47fc-8153-429e01cd0aab",
   "metadata": {},
   "source": [
    "### 7 Uniform distribution (Discrete)"
   ]
  },
  {
   "cell_type": "markdown",
   "id": "08024fac-e378-4608-b18e-35966a6d537e",
   "metadata": {},
   "source": [
    "#### Type: Discrete Probability Distribution"
   ]
  },
  {
   "cell_type": "markdown",
   "id": "cb7558c2-fe04-4419-8fb4-9d09b03cbe0b",
   "metadata": {},
   "source": [
    "#### Formula\n",
    "\n",
    "$\n",
    "\\begin{align}\n",
    "\\large\n",
    "P(X=x) = \\frac{1}{b - a + 1}\n",
    "\\end{align}\n",
    "$\n",
    "\n",
    "Where $a <= x <= b$"
   ]
  },
  {
   "cell_type": "markdown",
   "id": "058a094e-3838-4bcc-8ad3-dbd904ff9ebc",
   "metadata": {},
   "source": [
    "#### Expected Value\n",
    "\n",
    "$\n",
    "\\begin{align}\n",
    "\\large\n",
    "E[x] = \\frac{a + b}{2}\n",
    "\\end{align}\n",
    "$"
   ]
  },
  {
   "cell_type": "markdown",
   "id": "c3944563-7171-4027-a8fa-7eb63ff89d76",
   "metadata": {},
   "source": [
    "#### PMF and CDF\n",
    "\n",
    "a = lower limit  \n",
    "b = upper limit  \n",
    "scale = b - a  \n",
    "x = Random Variable  \n",
    "\n",
    "```python\n",
    "stats.uniform.pdf(x=x, loc=a, scale=scale)\n",
    "stats.uniform.cdf(x=x, loc=a, scale=scale)\n",
    "```"
   ]
  },
  {
   "cell_type": "markdown",
   "id": "ce04ae5f-be0e-4f96-b041-f0eb679082a5",
   "metadata": {},
   "source": [
    "### 8 Uniform distribution (Continuous)"
   ]
  },
  {
   "cell_type": "markdown",
   "id": "04156741-47d6-42b1-80ac-abb58c2521e1",
   "metadata": {},
   "source": [
    "#### Type: Continuous Probability Distribution"
   ]
  },
  {
   "cell_type": "markdown",
   "id": "66adcd09-4d50-4d79-a543-4d8a9d867ab5",
   "metadata": {},
   "source": [
    "#### Formula\n",
    "\n",
    "Probability of a specific value:\n",
    "\n",
    "$\n",
    "\\begin{align}\n",
    "\\large\n",
    "P(X=x) = \\frac{1}{b - a}\n",
    "\\end{align}\n",
    "$\n",
    "\n",
    "Where $a <= x <= b$"
   ]
  },
  {
   "cell_type": "markdown",
   "id": "75a21722-99dd-4514-81de-3ead458c5309",
   "metadata": {},
   "source": [
    "#### Expected Value\n",
    "\n",
    "$\n",
    "\\begin{align}\n",
    "\\large\n",
    "E[x] = \\frac{a + b}{2}\n",
    "\\end{align}\n",
    "$"
   ]
  },
  {
   "cell_type": "markdown",
   "id": "a43c2caa-5d78-4d12-a766-54e3fb0c74b8",
   "metadata": {},
   "source": [
    "#### PMF and CDF\n",
    "\n",
    "a = lower limit  \n",
    "b = upper limit  \n",
    "scale = b - a  \n",
    "x = Random Variable  \n",
    "\n",
    "```python\n",
    "stats.uniform.pdf(x=x, loc=a, scale=scale)\n",
    "stats.uniform.cdf(x=x, loc=a, scale=scale)\n",
    "```"
   ]
  },
  {
   "cell_type": "code",
   "execution_count": null,
   "id": "d5b16dce-2723-4691-bd72-0ad82b87ed20",
   "metadata": {},
   "outputs": [],
   "source": []
  }
 ],
 "metadata": {
  "kernelspec": {
   "display_name": "Python 3 (ipykernel)",
   "language": "python",
   "name": "python3"
  },
  "language_info": {
   "codemirror_mode": {
    "name": "ipython",
    "version": 3
   },
   "file_extension": ".py",
   "mimetype": "text/x-python",
   "name": "python",
   "nbconvert_exporter": "python",
   "pygments_lexer": "ipython3",
   "version": "3.12.6"
  }
 },
 "nbformat": 4,
 "nbformat_minor": 5
}
