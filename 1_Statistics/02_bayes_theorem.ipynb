{
 "cells": [
  {
   "cell_type": "markdown",
   "id": "cd9aaf85-5052-4170-9a32-669738bac54a",
   "metadata": {},
   "source": [
    "## 1 Types of Probability"
   ]
  },
  {
   "cell_type": "markdown",
   "id": "ad38d08f-87fc-4f5b-9e69-a228e604f43c",
   "metadata": {},
   "source": [
    "### 1.1 Marginal Probability"
   ]
  },
  {
   "cell_type": "markdown",
   "id": "9afab227-cdb8-487b-b83d-7fe6ea5632e6",
   "metadata": {},
   "source": [
    "#### Definition"
   ]
  },
  {
   "cell_type": "markdown",
   "id": "465d1adc-3d90-4c02-976b-9e1b37662a47",
   "metadata": {},
   "source": [
    "Also called as **Unconditional probability**, where probability of event A occurring:\n",
    "\n",
    "$\n",
    "\\begin{align}\n",
    "P(A) = \\frac{\\text{Total Number of favorable outcomes in an event}}{\\text{Total number of outcomes}} = \\frac{n(A)}{n(S)}\n",
    "\\end{align}\n",
    "$"
   ]
  },
  {
   "cell_type": "markdown",
   "id": "647ed004-9da0-4fb0-8ecf-7543f90d94a4",
   "metadata": {},
   "source": [
    "### 1.2 Joint probability"
   ]
  },
  {
   "cell_type": "markdown",
   "id": "46dfaaf3-5f47-41b0-8b8c-50be69712925",
   "metadata": {},
   "source": [
    "#### Definition"
   ]
  },
  {
   "cell_type": "markdown",
   "id": "15bceaae-6161-40f9-9e36-feab251e4134",
   "metadata": {},
   "source": [
    "Probability of both event A and B occurring:\n",
    "\n",
    "$\n",
    "\\begin{align}\n",
    "P(A \\cap B)\n",
    "\\end{align}\n",
    "$"
   ]
  },
  {
   "cell_type": "markdown",
   "id": "47b1d948-cdff-4be4-880c-37b00e5b075d",
   "metadata": {},
   "source": [
    "#### Independent Events"
   ]
  },
  {
   "cell_type": "markdown",
   "id": "5f63c9c5-7d53-4bc7-8f6f-3b5b404f6b95",
   "metadata": {},
   "source": [
    "if A and B are independent events:\n",
    "\n",
    "$\n",
    "\\begin{align}\n",
    "P(A \\cap B) = P(A) \\cdot P(B)\n",
    "\\end{align}\n",
    "$"
   ]
  },
  {
   "cell_type": "markdown",
   "id": "97ae57e9-4d44-46cf-9532-3c5356a70b83",
   "metadata": {},
   "source": [
    "#### Joint Events"
   ]
  },
  {
   "cell_type": "markdown",
   "id": "20e3d1d7-440c-438e-bbbb-4eea76c0fb5f",
   "metadata": {},
   "source": [
    "if A and B are Joint Events:\n",
    "\n",
    "$\n",
    "\\begin{align}\n",
    "P(A \\cap B) = P(A \\mid B) \\cdot P(B) = P(B \\mid A) \\cdot P(A)\n",
    "\\end{align}\n",
    "$"
   ]
  },
  {
   "cell_type": "markdown",
   "id": "b7207dcf-e87d-4464-9c4d-ecb4ed4f51c7",
   "metadata": {},
   "source": [
    "### 1.3 Conditional Probability"
   ]
  },
  {
   "cell_type": "markdown",
   "id": "36452ca3-70d8-4bd3-b8d9-9adb480357b0",
   "metadata": {},
   "source": [
    "#### Definition"
   ]
  },
  {
   "cell_type": "markdown",
   "id": "9d0edd65-5d6a-4733-af03-ee68537a8311",
   "metadata": {},
   "source": [
    "$\n",
    "\\begin{align}\n",
    "P(A \\mid B)\n",
    "\\end{align}\n",
    "$"
   ]
  },
  {
   "cell_type": "markdown",
   "id": "ec50407d-20de-41e0-9c46-3a2f4eeff8c5",
   "metadata": {},
   "source": [
    "#### Formula"
   ]
  },
  {
   "cell_type": "markdown",
   "id": "51b5d9f1-0f66-41da-9a17-61f841df5640",
   "metadata": {},
   "source": [
    "$\n",
    "\\begin{align}\n",
    "P(A \\mid B) = \\frac{P(A \\cap B)}{P(B)}\n",
    "\\end{align}\n",
    "$"
   ]
  },
  {
   "cell_type": "markdown",
   "id": "5dbcec12-39c1-4a9f-aa3a-3b3762e9a38c",
   "metadata": {},
   "source": [
    "##### Multiplication Rule\n",
    "\n",
    "$\n",
    "\\begin{align}\n",
    "P(A \\cap B) = P(A \\mid B) \\cdot P(B)\n",
    "\\end{align}\n",
    "$"
   ]
  },
  {
   "cell_type": "markdown",
   "id": "604d1759-af10-43c6-aeb2-caec4a63d1c4",
   "metadata": {},
   "source": [
    "#### Law of Total Probability"
   ]
  },
  {
   "cell_type": "markdown",
   "id": "f09f12e6-2056-42f2-a8c6-f3ceaa7196ab",
   "metadata": {},
   "source": [
    "To compute marginal probability when there are conditional probability is given:"
   ]
  },
  {
   "cell_type": "markdown",
   "id": "3297e7de-efe6-473f-98ab-df53ed23a3a6",
   "metadata": {},
   "source": [
    "$\n",
    "\\begin{align}\n",
    "P(A) = \\sum_{i=1}^{n} P(A \\mid B_i) \\cdot P(B_i)\n",
    "\\end{align}\n",
    "$\n",
    "\n",
    "or \n",
    "\n",
    "$\n",
    "\\begin{align}\n",
    "P(A) = \\sum_{i=1}^{n} P(A \\cap B_i)\n",
    "\\end{align}\n",
    "$"
   ]
  },
  {
   "cell_type": "markdown",
   "id": "1f4bf774-7a05-4a7d-aefc-f8fd6bbd5c6f",
   "metadata": {},
   "source": [
    "A disease affects 10% of the population:\n",
    "1. Among those who have the disease, 80% get \"positive\" test result \n",
    "2. Among those who don't have the disease, 5% get \"positive\" test result. What is P(+ve | Disease) ?\n",
    "\n",
    "\n",
    "\n",
    "A disease affects 10% of the population: \n",
    "1. Among those who have the disease, 80% get \"positive\" test result. \n",
    "2. Among those who don't have the disease, 5% get \"positive\" test result. What is P(+ve ∩ Disease)?"
   ]
  },
  {
   "cell_type": "markdown",
   "id": "974222e9-4507-47b2-9a5b-7b7e9ec7eed9",
   "metadata": {},
   "source": [
    "## 2 Bayes Theorem"
   ]
  },
  {
   "cell_type": "markdown",
   "id": "49dd5326-62f7-4bab-bafb-6bbac0fcbf7a",
   "metadata": {},
   "source": [
    "$\n",
    "\\begin{align}\n",
    "P(A \\mid B) = \\frac{P(B \\mid A) \\cdot P(A)}{P(B)}\n",
    "\\end{align}\n",
    "$\n",
    "\n",
    "Where:\n",
    "\n",
    "1. $P(A \\mid B) := \\text{Posterior probability}$\n",
    "1. $P(B \\mid A) := \\text{Likelihood}$\n",
    "1. $P(A) := \\text{Marginal probability of A}$\n",
    "1. $P(B) := \\text{Marginal probability of B}$"
   ]
  },
  {
   "cell_type": "code",
   "execution_count": null,
   "id": "78c1a2cc-6069-4331-b42f-aeb022981527",
   "metadata": {},
   "outputs": [],
   "source": []
  }
 ],
 "metadata": {
  "kernelspec": {
   "display_name": "Python 3 (ipykernel)",
   "language": "python",
   "name": "python3"
  },
  "language_info": {
   "codemirror_mode": {
    "name": "ipython",
    "version": 3
   },
   "file_extension": ".py",
   "mimetype": "text/x-python",
   "name": "python",
   "nbconvert_exporter": "python",
   "pygments_lexer": "ipython3",
   "version": "3.12.6"
  }
 },
 "nbformat": 4,
 "nbformat_minor": 5
}
