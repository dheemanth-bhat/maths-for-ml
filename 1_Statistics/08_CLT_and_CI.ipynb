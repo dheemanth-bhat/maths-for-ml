{
 "cells": [
  {
   "cell_type": "markdown",
   "id": "bf4174b8-18fa-4c1e-b68e-d4ad2ce3aaef",
   "metadata": {},
   "source": [
    "## 1 Central Limit Theorem"
   ]
  },
  {
   "cell_type": "markdown",
   "id": "52a45ad0-4586-47f2-9319-8da7c99edc98",
   "metadata": {},
   "source": [
    "### 1.1 Sampling Distribution"
   ]
  },
  {
   "cell_type": "markdown",
   "id": "01ea7419-550b-4d42-8cf8-7cf6955b6da4",
   "metadata": {},
   "source": [
    "#### Definition"
   ]
  },
  {
   "cell_type": "markdown",
   "id": "0941e8e2-44db-4c32-9f6f-904b49fbcea1",
   "metadata": {},
   "source": [
    "Distribution of sample means."
   ]
  },
  {
   "cell_type": "markdown",
   "id": "bcb9eeb3-14cb-4717-a2c3-cbe3c07795fa",
   "metadata": {},
   "source": [
    "#### How to form a Sampling Distribution?"
   ]
  },
  {
   "cell_type": "markdown",
   "id": "54de6d82-187b-4c2a-b568-d959acc47bd9",
   "metadata": {},
   "source": [
    "STEP #1: Draw $n$ number of random samples from a population.  \n",
    "STEP #2: Calculate mean for each sample a.k.a sample mean $\\bar{x}$.   \n",
    "STEP #3: Repeat STEP #2 for all remaining samples and collect all sample means.  \n",
    "STEP #4: Plot the collected means, collection of these sample means forms a sampling distribution."
   ]
  },
  {
   "cell_type": "markdown",
   "id": "b5988a9d-90a5-4bcd-93b9-2f0d96dcb8e3",
   "metadata": {},
   "source": [
    "Sampling distribution has its own mean."
   ]
  },
  {
   "cell_type": "markdown",
   "id": "fef899f3-e2d8-4118-bc2a-4116ef1350cf",
   "metadata": {},
   "source": [
    "### 1.2 Central Limit Theorem"
   ]
  },
  {
   "cell_type": "markdown",
   "id": "dde5269f-b3b3-4e18-8e50-62312dc9b0de",
   "metadata": {},
   "source": [
    "#### Theorem"
   ]
  },
  {
   "cell_type": "markdown",
   "id": "87d9e8f4-4fcb-49c0-9a04-41e9607c39f7",
   "metadata": {},
   "source": [
    "Mean of the sample means from Sampling Distribution will be approximately equal to population mean."
   ]
  },
  {
   "cell_type": "markdown",
   "id": "5b10d7c5-92a1-48eb-b870-3ecff5480888",
   "metadata": {},
   "source": [
    "$\n",
    "\\begin{align}\n",
    "\\large\n",
    "\\bar{X} \\sim N\\biggl(\\mu\\;, \\frac{\\sigma}{\\sqrt{n}} \\biggr)\n",
    "\\end{align}\n",
    "$"
   ]
  },
  {
   "cell_type": "markdown",
   "id": "db331044-fc92-4644-b0a4-dd9a1d2a37be",
   "metadata": {},
   "source": [
    "#### Properties of CLT"
   ]
  },
  {
   "cell_type": "markdown",
   "id": "f6db09bd-b659-4de1-be46-cc2443cfed5f",
   "metadata": {},
   "source": [
    "1. Population distribution may or may be normal but Sampling Distribution will always be a Normal Distribution.\n",
    "2. Mean from the Sampling Distribution will be closer to the population mean.\n",
    "3. Closer the population is towards the normal distribution, smaller sample size is fine.\n",
    "4. Mean of sampling distribution tends to become closer to the population mean with decently large sample size.\n",
    "5. As we increase sample size standard deviation in sampling distribution decreases."
   ]
  },
  {
   "cell_type": "markdown",
   "id": "863ed956-cffe-40e4-b2b2-7bdc85501b2f",
   "metadata": {},
   "source": [
    "#### SE in CLT"
   ]
  },
  {
   "cell_type": "markdown",
   "id": "9ef94cee-1fff-4a1c-92b9-7a6206f2b732",
   "metadata": {},
   "source": [
    "1. Standard Error is actually the Standard Deviation of Sampling Distribution.\n",
    "2. Since Standard Error is inversely proportional to Sample size, Larger the sample size smaller the Standard Error."
   ]
  },
  {
   "cell_type": "markdown",
   "id": "afdd12f7-438d-4336-9e31-d3469841d705",
   "metadata": {},
   "source": [
    "> **Note**:\n",
    ">\n",
    "> Typically sample size is suggested to be at least 30 or greater."
   ]
  },
  {
   "cell_type": "code",
   "execution_count": null,
   "id": "f29ab306-ca43-48bc-b020-140b5627c9a4",
   "metadata": {},
   "outputs": [],
   "source": []
  },
  {
   "cell_type": "markdown",
   "id": "b64578f2-b79a-4f69-a311-b20c50025950",
   "metadata": {},
   "source": [
    "### 1.3 Conditions of CLT"
   ]
  },
  {
   "cell_type": "markdown",
   "id": "4fbf0bcc-5506-4f8d-8e6f-5971ad4b376d",
   "metadata": {},
   "source": [
    "#### Condition #1: Randomization"
   ]
  },
  {
   "cell_type": "markdown",
   "id": "3cb29cd2-582d-444a-8d4e-77fdfe2269a3",
   "metadata": {},
   "source": [
    "Data should be randomly sampled, ensuring every population member has an equal chance of being included."
   ]
  },
  {
   "cell_type": "markdown",
   "id": "cef3a4d6-2565-401c-aa91-5d52a034968e",
   "metadata": {},
   "source": [
    "#### Condition #2: Independence"
   ]
  },
  {
   "cell_type": "markdown",
   "id": "97fb6507-8ca5-4315-b450-7dd85c6ae550",
   "metadata": {},
   "source": [
    "1. Each sample value should be independent, with one event's occurrence not affecting another.\n",
    "2. Commonly met in probability sampling methods, which independently select observations."
   ]
  },
  {
   "cell_type": "markdown",
   "id": "61e552c5-2025-4959-9278-dac88a4e4a95",
   "metadata": {},
   "source": [
    "#### Condition #3: Large Sample Condition"
   ]
  },
  {
   "cell_type": "markdown",
   "id": "1836d141-5f58-4ded-8194-58d038977da0",
   "metadata": {},
   "source": [
    "1. A sample size of 30 or more is generally considered \"sufficiently large.\"\n",
    "2. This threshold can vary slightly based on the population distribution's shape."
   ]
  },
  {
   "cell_type": "markdown",
   "id": "16b09cb8-0103-46cd-b015-82f8dfa78689",
   "metadata": {},
   "source": [
    "### 1.4 Examples"
   ]
  },
  {
   "cell_type": "code",
   "execution_count": 1,
   "id": "f69f15e3-ec05-4cae-afe1-eb2f29d475cc",
   "metadata": {},
   "outputs": [],
   "source": [
    "import numpy as np\n",
    "from scipy import stats"
   ]
  },
  {
   "cell_type": "markdown",
   "id": "f61debfb-1d4e-4e33-b46f-25f7bda03c8a",
   "metadata": {},
   "source": [
    "#### Quiz #1"
   ]
  },
  {
   "cell_type": "markdown",
   "id": "006eca95-89fd-4398-a1a5-761db6cd7fc6",
   "metadata": {},
   "source": [
    "Systolic blood pressure of a group of people is known to have an average of 122 mmHg and a standard deviation of 10 mmHg.  \n",
    "Calculate the probability that the average blood pressure of 16 people will be greater than 125 mmHg.  "
   ]
  },
  {
   "cell_type": "markdown",
   "id": "7687802a-2471-4d21-8cb1-ab35bfbb4abd",
   "metadata": {},
   "source": [
    "##### Solution"
   ]
  },
  {
   "cell_type": "code",
   "execution_count": 2,
   "id": "0dd02d0b-d4e9-490d-aace-73a66c92d508",
   "metadata": {},
   "outputs": [],
   "source": [
    "mu = 122\n",
    "std = 10\n",
    "n = 16\n",
    "# Find P(x > 125)\n",
    "# P(x > 125) = 1 - P(x < 125)\n",
    "x = 125"
   ]
  },
  {
   "cell_type": "code",
   "execution_count": 3,
   "id": "31531f86-1f4f-4d1f-b5e7-d6594eb142dc",
   "metadata": {},
   "outputs": [
    {
     "data": {
      "text/plain": [
       "(2.5, 1.2)"
      ]
     },
     "execution_count": 3,
     "metadata": {},
     "output_type": "execute_result"
    }
   ],
   "source": [
    "s_std = std / np.sqrt(n)  # Standard Error\n",
    "z_score = (x - mu) / s_std  # Z-Score\n",
    "s_std.round(4).item(), z_score.round(4).item()"
   ]
  },
  {
   "cell_type": "code",
   "execution_count": 4,
   "id": "bc0fc07f-031c-42ec-ac2f-fa90cc804335",
   "metadata": {},
   "outputs": [
    {
     "data": {
      "text/plain": [
       "0.1151"
      ]
     },
     "execution_count": 4,
     "metadata": {},
     "output_type": "execute_result"
    }
   ],
   "source": [
    "p_x_gt_125 = 1 - stats.norm.cdf(z_score)  # Probability of X > 125\n",
    "p_x_gt_125.round(4).item()"
   ]
  },
  {
   "cell_type": "markdown",
   "id": "f6c21e15-57b1-44f5-8c71-b20d8c3538d4",
   "metadata": {},
   "source": [
    "#### Quiz #2"
   ]
  },
  {
   "cell_type": "markdown",
   "id": "e82eff07-8adc-4cf3-b87a-6dd24acce23b",
   "metadata": {},
   "source": [
    "In an e-commerce website, the average purchase amount per customer is 80 with a standard deviation of 15.  \n",
    "If we randomly select a sample of 50 customers,  \n",
    "what is the probability that the average purchase amount in the sample will be less than $75?"
   ]
  },
  {
   "cell_type": "markdown",
   "id": "48d3d0d5-e4b2-4ef8-b239-eb735dd77de9",
   "metadata": {},
   "source": [
    "##### Solution"
   ]
  },
  {
   "cell_type": "code",
   "execution_count": 5,
   "id": "11f897c8-21bd-4841-bc6c-96d911e1887a",
   "metadata": {},
   "outputs": [],
   "source": [
    "mu = 80\n",
    "std = 15\n",
    "n = 50\n",
    "# p(x < 75)\n",
    "x = 75"
   ]
  },
  {
   "cell_type": "code",
   "execution_count": 6,
   "id": "6221abf2-ac5c-4f29-a37d-f37f04aab220",
   "metadata": {},
   "outputs": [
    {
     "data": {
      "text/plain": [
       "(2.1213, -2.357)"
      ]
     },
     "execution_count": 6,
     "metadata": {},
     "output_type": "execute_result"
    }
   ],
   "source": [
    "s_std = std / np.sqrt(n)  # Standard Error\n",
    "z_score = (x - mu) / s_std  # Z-Score\n",
    "s_std.round(4).item(), z_score.round(4).item()"
   ]
  },
  {
   "cell_type": "code",
   "execution_count": 7,
   "id": "676a8356-8bb9-4997-97b5-097f70ab745b",
   "metadata": {},
   "outputs": [
    {
     "data": {
      "text/plain": [
       "0.0092"
      ]
     },
     "execution_count": 7,
     "metadata": {},
     "output_type": "execute_result"
    }
   ],
   "source": [
    "p_x_lt_75 = stats.norm.cdf(z_score)\n",
    "p_x_lt_75.round(4).item()"
   ]
  },
  {
   "cell_type": "markdown",
   "id": "fe604936-c0f8-4e97-9caa-cc8ae355810d",
   "metadata": {},
   "source": [
    "## 2 Confidence Interval"
   ]
  },
  {
   "cell_type": "markdown",
   "id": "a5e70a8a-303c-4530-b146-698479509b0c",
   "metadata": {},
   "source": [
    "### 2.1 What is Confidence Interval?"
   ]
  },
  {
   "cell_type": "markdown",
   "id": "8fa3a3ac-787f-4ce4-97c6-a08c40a4853e",
   "metadata": {},
   "source": [
    "#### Definition"
   ]
  },
  {
   "cell_type": "markdown",
   "id": "0959104b-7515-452d-8097-7549bb1f2e81",
   "metadata": {},
   "source": [
    "A confidence interval is the mean of your estimate plus and minus the variation in that estimate."
   ]
  },
  {
   "cell_type": "markdown",
   "id": "958f68db-87ae-4c20-82f6-4cb5c2e12a3c",
   "metadata": {},
   "source": [
    "#### Explanation"
   ]
  },
  {
   "cell_type": "markdown",
   "id": "59201045-85ea-443e-83dd-f17d166e2919",
   "metadata": {},
   "source": [
    "1. Mean of the sample extracted from Population is called as Sample mean.\n",
    "2. Point Estimate (single value) have low confidence, instead intervals (range of values) have higher confidence.\n",
    "3. Sample mean is a Point Estimate of population mean hence it is not correct approach to estimate Population mean."
   ]
  },
  {
   "cell_type": "markdown",
   "id": "ecd23fdb-1cdb-4e7d-9ba2-6897685055c1",
   "metadata": {},
   "source": [
    "Two ways to calculate CI:\n",
    "\n",
    "1. CLT\n",
    "2. Bootstrapping"
   ]
  },
  {
   "cell_type": "markdown",
   "id": "a0b4c832-0e0d-4253-b461-cf86bb894304",
   "metadata": {},
   "source": [
    "#### Formula"
   ]
  },
  {
   "cell_type": "markdown",
   "id": "24b2f1e4-ea15-4e7f-95f0-f8acb8fe57b1",
   "metadata": {},
   "source": [
    "$\\text{Confidence Interval} = \\text{Point Estimate} \\pm \\text{Margin of Error}$"
   ]
  },
  {
   "cell_type": "markdown",
   "id": "e882cb1b-02ed-4446-b6c9-ea413447fa6e",
   "metadata": {},
   "source": [
    "#### How to compute CI?"
   ]
  },
  {
   "cell_type": "markdown",
   "id": "c08fe2b6-1422-4037-a4ff-b7a6f97043eb",
   "metadata": {},
   "source": [
    "There are 2 ways to find confidence interval:\n",
    "\n",
    "1. Using CLT\n",
    "2. Using Bootstrapping"
   ]
  },
  {
   "cell_type": "markdown",
   "id": "7bb97f80-a9a8-4d27-b246-26f403a84e13",
   "metadata": {},
   "source": [
    "### 2.2 CI Using CLT"
   ]
  },
  {
   "cell_type": "markdown",
   "id": "8d1c9bb3-0bb8-4ba0-9572-9ccce0834591",
   "metadata": {},
   "source": [
    "#### Definition"
   ]
  },
  {
   "cell_type": "markdown",
   "id": "44ed315e-84eb-4eca-a9c0-5a8890428f8b",
   "metadata": {},
   "source": [
    "When we have mean we use CLT to estimate population mean with some confidence interval."
   ]
  },
  {
   "cell_type": "markdown",
   "id": "1f6c8b51-5261-47a8-b5f0-77bdb67552da",
   "metadata": {},
   "source": [
    "#### Formula"
   ]
  },
  {
   "cell_type": "markdown",
   "id": "0567a9ab-71f2-4b57-b7cd-f1498d0b8595",
   "metadata": {},
   "source": [
    "$\n",
    "\\begin{align}\n",
    "\\text{Confidence Interval} = \\biggl(\\overline{X} \\pm Z \\cdot \\frac{\\sigma}{\\sqrt{n}} \\biggr)\n",
    "\\end{align}\n",
    "$"
   ]
  },
  {
   "cell_type": "markdown",
   "id": "12ddeeb9-e229-4669-9ab5-39b8c6bf6c96",
   "metadata": {},
   "source": [
    "### 2.3 Using Bootstrapping"
   ]
  },
  {
   "cell_type": "markdown",
   "id": "2e8b2d89-2408-48b9-99c9-103ef49cd5ca",
   "metadata": {},
   "source": [
    "#### Definition"
   ]
  },
  {
   "cell_type": "markdown",
   "id": "20b75661-761d-4e93-bef3-b6d5a779eed0",
   "metadata": {},
   "source": [
    "* When we have median we use Bootstrapping to estimate population mean with some confidence interval.\n",
    "* Bootstrapping is sampling **with replacement**."
   ]
  },
  {
   "cell_type": "markdown",
   "id": "9e7cec96-fafe-40f7-afd5-ca46f3566b48",
   "metadata": {},
   "source": [
    "#### Properties"
   ]
  },
  {
   "cell_type": "markdown",
   "id": "5efba5e9-9cbe-4cf6-9c28-0a353860dd60",
   "metadata": {},
   "source": [
    "1. Median from sample is used and hence it tries to estimate Population median.\n",
    "2. Bootstrapping can be used to estimate any percentiles.\n",
    "3. This method is useful when we have very small dataset."
   ]
  },
  {
   "cell_type": "markdown",
   "id": "ca9dd6d5-34bb-4bd8-83ea-f8349fc3d2ef",
   "metadata": {},
   "source": [
    "### 2.4 Examples"
   ]
  },
  {
   "cell_type": "markdown",
   "id": "b73b1e53-03e1-41ec-81e7-4122e94a7152",
   "metadata": {},
   "source": [
    "#### Quiz #1"
   ]
  },
  {
   "cell_type": "markdown",
   "id": "1df875d0-ee2c-4d7f-a008-0ff7904d1c61",
   "metadata": {},
   "source": [
    "The mean height of a sample of 100 adults was found to be 65 inches, with a standard deviation of 2.5 inches.  \n",
    "Compute 95% confidence interval."
   ]
  },
  {
   "cell_type": "markdown",
   "id": "8f37785a-036f-4f38-bca4-aaf0500e9f3f",
   "metadata": {},
   "source": [
    "##### Solution"
   ]
  },
  {
   "cell_type": "code",
   "execution_count": 8,
   "id": "c2ff2d4c-055c-4789-87c3-419b13b565b3",
   "metadata": {},
   "outputs": [],
   "source": [
    "s_mean = 65\n",
    "s_std = 2.5\n",
    "n = 100\n",
    "confidence = 0.95  # 95%\n",
    "# Find x1 and x2"
   ]
  },
  {
   "cell_type": "code",
   "execution_count": 9,
   "id": "b35584d0-1650-4c2c-9621-e1b2711e8bbb",
   "metadata": {},
   "outputs": [
    {
     "data": {
      "text/plain": [
       "0.25"
      ]
     },
     "execution_count": 9,
     "metadata": {},
     "output_type": "execute_result"
    }
   ],
   "source": [
    "std_err = s_std / np.sqrt(n)\n",
    "std_err.round(4).item()"
   ]
  },
  {
   "cell_type": "code",
   "execution_count": 10,
   "id": "3bbb0a62-3c52-4f18-acb2-7bec0b05c6db",
   "metadata": {},
   "outputs": [
    {
     "data": {
      "text/plain": [
       "(-1.96, 1.96)"
      ]
     },
     "execution_count": 10,
     "metadata": {},
     "output_type": "execute_result"
    }
   ],
   "source": [
    "z1 = stats.norm.ppf(0.025)\n",
    "z2 = stats.norm.ppf(0.975)\n",
    "\n",
    "z1.round(4).item(), z2.round(4).item()"
   ]
  },
  {
   "cell_type": "code",
   "execution_count": 11,
   "id": "310b6191-cc51-406a-87cd-a1c621fbc9e6",
   "metadata": {},
   "outputs": [
    {
     "data": {
      "text/plain": [
       "(64.51, 65.49)"
      ]
     },
     "execution_count": 11,
     "metadata": {},
     "output_type": "execute_result"
    }
   ],
   "source": [
    "# Find P(x1) = 2.5%\n",
    "x1 = s_mean + (z1 * std_err)\n",
    "\n",
    "# Find P(x2) = 97.5%\n",
    "x2 = s_mean + (z2 * std_err)\n",
    "\n",
    "x1.round(4).item(), x2.round(4).item()"
   ]
  },
  {
   "cell_type": "markdown",
   "id": "5ff728b5-a113-4898-9b18-86d6daa97e02",
   "metadata": {},
   "source": [
    "or"
   ]
  },
  {
   "cell_type": "code",
   "execution_count": 12,
   "id": "0111e708-352f-46f7-be65-2683bf7e7e3b",
   "metadata": {},
   "outputs": [
    {
     "data": {
      "text/plain": [
       "(64.51, 65.49)"
      ]
     },
     "execution_count": 12,
     "metadata": {},
     "output_type": "execute_result"
    }
   ],
   "source": [
    "x1, x2 = stats.norm.interval(confidence, loc=s_mean, scale=std_err)\n",
    "x1.round(4).item(), x2.round(4).item()"
   ]
  },
  {
   "cell_type": "markdown",
   "id": "11fc4651-78bb-43cb-9da2-acc727b63e03",
   "metadata": {},
   "source": [
    "#### Quiz #2"
   ]
  },
  {
   "cell_type": "markdown",
   "id": "4a9623f7-b898-431d-9f01-eb134add95bb",
   "metadata": {},
   "source": [
    "The sample mean recovery time of 100 patients after taking a drug was seen to be 10.5 days with a standard deviation of 2 days.  \n",
    "Find the 95% confidence interval of the true mean."
   ]
  },
  {
   "cell_type": "markdown",
   "id": "da81cc47-68cb-44cb-9c8c-c0a2cc53e4c0",
   "metadata": {},
   "source": [
    "##### Solution"
   ]
  },
  {
   "cell_type": "code",
   "execution_count": 13,
   "id": "75d7759a-24c2-40e3-8109-58e500e1f70a",
   "metadata": {},
   "outputs": [],
   "source": [
    "s_mean = 10.5\n",
    "s_std = 2\n",
    "n = 100\n",
    "confidence = 0.95  # 95%"
   ]
  },
  {
   "cell_type": "code",
   "execution_count": 14,
   "id": "43976ce7-ce24-4ced-b039-b5f174973726",
   "metadata": {},
   "outputs": [
    {
     "data": {
      "text/plain": [
       "0.2"
      ]
     },
     "execution_count": 14,
     "metadata": {},
     "output_type": "execute_result"
    }
   ],
   "source": [
    "std_err = s_std / np.sqrt(n)\n",
    "std_err.round(4).item()"
   ]
  },
  {
   "cell_type": "code",
   "execution_count": 15,
   "id": "89e57223-3011-4a15-bb3e-d0268595724d",
   "metadata": {},
   "outputs": [
    {
     "data": {
      "text/plain": [
       "(-1.96, 1.96)"
      ]
     },
     "execution_count": 15,
     "metadata": {},
     "output_type": "execute_result"
    }
   ],
   "source": [
    "z1 = stats.norm.ppf(0.025)\n",
    "z2 = stats.norm.ppf(0.975)\n",
    "\n",
    "z1.round(4).item(), z2.round(4).item()"
   ]
  },
  {
   "cell_type": "code",
   "execution_count": 16,
   "id": "bba29b32-baff-45ab-af53-25cfd3b8ae19",
   "metadata": {},
   "outputs": [
    {
     "data": {
      "text/plain": [
       "(10.108, 10.892)"
      ]
     },
     "execution_count": 16,
     "metadata": {},
     "output_type": "execute_result"
    }
   ],
   "source": [
    "# Find P(x1) = 2.5%\n",
    "x1 = s_mean + (z1 * std_err)\n",
    "\n",
    "# Find P(x2) = 97.5%\n",
    "x2 = s_mean + (z2 * std_err)\n",
    "\n",
    "x1.round(4).item(), x2.round(4).item()"
   ]
  },
  {
   "cell_type": "markdown",
   "id": "0bf35ae2-c589-4ece-9c65-989b343376fa",
   "metadata": {},
   "source": [
    "or"
   ]
  },
  {
   "cell_type": "code",
   "execution_count": 17,
   "id": "8809a931-b2ab-4120-aaec-85dd00fac2e4",
   "metadata": {},
   "outputs": [
    {
     "data": {
      "text/plain": [
       "(10.108, 10.892)"
      ]
     },
     "execution_count": 17,
     "metadata": {},
     "output_type": "execute_result"
    }
   ],
   "source": [
    "x1, x2 = stats.norm.interval(confidence, loc=s_mean, scale=std_err)\n",
    "x1.round(4).item(), x2.round(4).item()"
   ]
  },
  {
   "cell_type": "markdown",
   "id": "49489e76-9524-4c98-84bb-5b39b51e983e",
   "metadata": {},
   "source": [
    "#### Quiz #3"
   ]
  },
  {
   "cell_type": "markdown",
   "id": "127fd951-5c90-4e3a-8127-33a720e14fdb",
   "metadata": {},
   "source": [
    "From a sample of 80 endangered birds, the average wingspan was found to be 45 cm, with a population standard deviation of 10 cm.  \n",
    "What is the correct confidence interval of the mean wingspan of the entire population with 90% confidence."
   ]
  },
  {
   "cell_type": "markdown",
   "id": "af3778e6-8849-42a2-af29-5ce3afa41a5d",
   "metadata": {},
   "source": [
    "##### Solution"
   ]
  },
  {
   "cell_type": "code",
   "execution_count": 18,
   "id": "d9c320c8-29ef-4280-9079-71f37690b1a9",
   "metadata": {},
   "outputs": [],
   "source": [
    "s_mean = 45\n",
    "std = 10\n",
    "n = 80\n",
    "confidence = 0.9  # 90%"
   ]
  },
  {
   "cell_type": "code",
   "execution_count": 19,
   "id": "af25b0b8-bdcd-477f-b3da-bd4777418a47",
   "metadata": {},
   "outputs": [
    {
     "data": {
      "text/plain": [
       "1.118"
      ]
     },
     "execution_count": 19,
     "metadata": {},
     "output_type": "execute_result"
    }
   ],
   "source": [
    "std_err = std / np.sqrt(n)\n",
    "std_err.round(4).item()"
   ]
  },
  {
   "cell_type": "code",
   "execution_count": 20,
   "id": "7ca94304-0845-44f4-95af-e60dd008c77d",
   "metadata": {},
   "outputs": [
    {
     "data": {
      "text/plain": [
       "(-1.6449, 1.6449)"
      ]
     },
     "execution_count": 20,
     "metadata": {},
     "output_type": "execute_result"
    }
   ],
   "source": [
    "z1 = stats.norm.ppf(0.05)\n",
    "z2 = stats.norm.ppf(0.95)\n",
    "\n",
    "z1.round(4).item(), z2.round(4).item()"
   ]
  },
  {
   "cell_type": "code",
   "execution_count": 21,
   "id": "770ddf9e-7e5e-4804-92a7-195bf653c735",
   "metadata": {},
   "outputs": [
    {
     "data": {
      "text/plain": [
       "(43.161, 46.839)"
      ]
     },
     "execution_count": 21,
     "metadata": {},
     "output_type": "execute_result"
    }
   ],
   "source": [
    "# Find P(x1) = 5%\n",
    "x1 = s_mean + (z1 * std_err)\n",
    "\n",
    "# Find P(x2) = 95%\n",
    "x2 = s_mean + (z2 * std_err)\n",
    "\n",
    "x1.round(4).item(), x2.round(4).item()"
   ]
  },
  {
   "cell_type": "markdown",
   "id": "2e98f530-2d6e-4dfe-9073-e477ce0b2744",
   "metadata": {},
   "source": [
    "or"
   ]
  },
  {
   "cell_type": "code",
   "execution_count": 23,
   "id": "1af18ced-22c7-4c4a-8b4c-7b047378df50",
   "metadata": {},
   "outputs": [
    {
     "data": {
      "text/plain": [
       "(43.161, 46.839)"
      ]
     },
     "execution_count": 23,
     "metadata": {},
     "output_type": "execute_result"
    }
   ],
   "source": [
    "x1, x2 = stats.norm.interval(confidence, loc=s_mean, scale=std_err)\n",
    "x1.round(4).item(), x2.round(4).item()"
   ]
  },
  {
   "cell_type": "markdown",
   "id": "1c443ee9-86e5-4821-be87-61e2bbfe9c6d",
   "metadata": {},
   "source": [
    "#### Quiz #4"
   ]
  },
  {
   "cell_type": "markdown",
   "id": "42dde0c0-1f29-41d5-b6f0-9fa27e95dca9",
   "metadata": {},
   "source": [
    "In a software project, the team estimates bug resolution time at an average of 6 hours with a standard deviation of 2 hours.  \n",
    "To estimate the mean resolution time with 99% confidence, the project manager samples 25 resolved bugs.  \n",
    "What is the correct confidence interval?"
   ]
  },
  {
   "cell_type": "markdown",
   "id": "d6442a4c-475c-483e-8fe0-82732d93b3e4",
   "metadata": {},
   "source": [
    "##### Solution"
   ]
  },
  {
   "cell_type": "code",
   "execution_count": 24,
   "id": "333d7e27-4485-46df-ac80-47faa3bf9855",
   "metadata": {},
   "outputs": [],
   "source": [
    "s_mean = 6\n",
    "std = 2\n",
    "n = 25\n",
    "confidence = 0.99"
   ]
  },
  {
   "cell_type": "code",
   "execution_count": 25,
   "id": "aad77a0a-31ed-4d21-b4d2-7fc63db19028",
   "metadata": {},
   "outputs": [
    {
     "data": {
      "text/plain": [
       "0.4"
      ]
     },
     "execution_count": 25,
     "metadata": {},
     "output_type": "execute_result"
    }
   ],
   "source": [
    "std_err = std / np.sqrt(n)\n",
    "std_err.round(4).item()"
   ]
  },
  {
   "cell_type": "code",
   "execution_count": 26,
   "id": "f85e0804-dc7a-48d5-b610-b6253c65672e",
   "metadata": {},
   "outputs": [
    {
     "data": {
      "text/plain": [
       "(4.9697, 7.0303)"
      ]
     },
     "execution_count": 26,
     "metadata": {},
     "output_type": "execute_result"
    }
   ],
   "source": [
    "x1, x2 = stats.norm.interval(confidence, loc=s_mean, scale=std_err)\n",
    "x1.round(4).item(), x2.round(4).item()"
   ]
  }
 ],
 "metadata": {
  "kernelspec": {
   "display_name": "Python 3 (ipykernel)",
   "language": "python",
   "name": "python3"
  },
  "language_info": {
   "codemirror_mode": {
    "name": "ipython",
    "version": 3
   },
   "file_extension": ".py",
   "mimetype": "text/x-python",
   "name": "python",
   "nbconvert_exporter": "python",
   "pygments_lexer": "ipython3",
   "version": "3.12.6"
  }
 },
 "nbformat": 4,
 "nbformat_minor": 5
}
