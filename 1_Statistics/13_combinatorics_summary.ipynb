{
 "cells": [
  {
   "cell_type": "markdown",
   "id": "f36fd018-d56e-4c54-af66-929594152f7f",
   "metadata": {},
   "source": [
    "## Probability"
   ]
  },
  {
   "cell_type": "markdown",
   "id": "22d0e482-df65-43e8-8389-2dc8dcb530af",
   "metadata": {},
   "source": [
    "#### Set Union\n",
    "\n",
    "$\n",
    "\\begin{align}\n",
    "A \\cup B = A + B - A \\cap B\n",
    "\\end{align}\n",
    "$"
   ]
  },
  {
   "cell_type": "markdown",
   "id": "4cd4856d-b74c-4ed3-95eb-df9a66d45a7e",
   "metadata": {},
   "source": [
    "### Events"
   ]
  },
  {
   "cell_type": "markdown",
   "id": "f8866548-a769-44fb-be31-06a5e0117abd",
   "metadata": {},
   "source": [
    "#### Mutually Exclusive Events\n",
    "\n",
    "For given events $A$, $B$ if $A \\cap B = \\emptyset$"
   ]
  },
  {
   "cell_type": "markdown",
   "id": "50a8f9c1-8199-434b-96ea-a4ad7828ecd6",
   "metadata": {},
   "source": [
    "#### Joint Events\n",
    "\n",
    "For given events $A$, $B$ if $A \\cap B \\neq \\{\\}$"
   ]
  },
  {
   "cell_type": "markdown",
   "id": "800cc431-8fe4-498c-aad1-b4cc8dbfd2a6",
   "metadata": {},
   "source": [
    "#### Independent Events"
   ]
  },
  {
   "cell_type": "markdown",
   "id": "65c0ef1d-2508-49ad-b141-a7cdb12827bd",
   "metadata": {},
   "source": [
    "#### Multiplication rule\n",
    "\n",
    "If two events A and B are independent:\n",
    "\n",
    "$\n",
    "\\begin{align}\n",
    "P(A \\cap B) = P(A) \\cdot P(B)\n",
    "\\end{align}\n",
    "$"
   ]
  },
  {
   "cell_type": "markdown",
   "id": "c2d08357-4d67-455e-9afd-b292ab8f6f61",
   "metadata": {},
   "source": [
    "#### Exhaustive Events\n",
    "\n",
    "Formula to calculate probability of Exhaustive Events\n",
    "\n",
    "$\n",
    "\\begin{align}\n",
    "P(A_1 \\cup A_2 \\cup \\ldots \\cup A_n) = 1\n",
    "\\end{align}\n",
    "$"
   ]
  },
  {
   "cell_type": "markdown",
   "id": "deabe62c-72d7-4bad-86d3-3a3e5ac855d3",
   "metadata": {},
   "source": [
    "#### Addition Rule\n",
    "\n",
    "If two events are Joint events i.e., $A \\cap B \\neq \\{\\}$\n",
    "\n",
    "$\n",
    "\\begin{align}\n",
    "P(A \\cup B) = P(A) + P(B) - P(A \\cap B)\n",
    "\\end{align}\n",
    "$\n",
    "\n",
    "If two events are Mutually Exclusive Events i.e., $A \\cap B = \\emptyset$\n",
    "\n",
    "$\n",
    "\\begin{align}\n",
    "P(A \\cup B) = P(A) + P(B)\n",
    "\\end{align}\n",
    "$"
   ]
  },
  {
   "cell_type": "markdown",
   "id": "1b602a28-f1a8-459e-b791-2b2a1bd5033d",
   "metadata": {},
   "source": [
    "####  Relative complement Probability\n",
    "\n",
    "$A \\setminus B$ $:=$ The set of elements in $A$ but not in $B$\n",
    "\n",
    "$\n",
    "\\begin{align}\n",
    "P(A \\cap B^{\\complement}) = P(A) - P(A \\cap B)\n",
    "\\end{align}\n",
    "$\n",
    "\n",
    "or\n",
    "\n",
    "\n",
    "$\n",
    "\\begin{align}\n",
    "P(A \\setminus B) = P(A) - P(A \\cap B)\n",
    "\\end{align}\n",
    "$"
   ]
  },
  {
   "cell_type": "markdown",
   "id": "5c17d1b3-5cf7-4de0-95a2-6bf313dea2bf",
   "metadata": {},
   "source": [
    "### Conditional probability"
   ]
  },
  {
   "cell_type": "markdown",
   "id": "37251ca5-ed65-415d-971c-6d5a3344f52c",
   "metadata": {},
   "source": [
    "$\n",
    "\\begin{align}\n",
    "P(A \\mid B) = \\frac{P(A \\cap B)}{P(B)}\n",
    "\\end{align}\n",
    "$"
   ]
  },
  {
   "cell_type": "markdown",
   "id": "aaafff82-2ca1-4f7b-9850-637f41627d4a",
   "metadata": {},
   "source": [
    "#### Multiplication Rule\n",
    "\n",
    "$\n",
    "\\begin{align}\n",
    "P(A \\cap B) = P(A \\mid B) \\cdot P(B)\n",
    "\\end{align}\n",
    "$"
   ]
  },
  {
   "cell_type": "markdown",
   "id": "05b775e1-db5c-46f8-8075-92cb058a1f7f",
   "metadata": {},
   "source": [
    "#### Law of Total Probability\n",
    "\n",
    "$\n",
    "\\begin{align}\n",
    "P(A) = \\sum_{i=1}^{n} P(A \\mid B_i) \\cdot P(B_i)\n",
    "\\end{align}\n",
    "$\n",
    "\n",
    "or \n",
    "\n",
    "$\n",
    "\\begin{align}\n",
    "P(A) = \\sum_{i=1}^{n} P(A \\cap B_i)\n",
    "\\end{align}\n",
    "$"
   ]
  },
  {
   "cell_type": "markdown",
   "id": "b1cdda04-5669-492c-ab20-6997bafa0d1a",
   "metadata": {},
   "source": [
    "### Bayes Theorem"
   ]
  },
  {
   "cell_type": "markdown",
   "id": "09d9e40d-d340-4ecd-a7a3-115c137b98c8",
   "metadata": {},
   "source": [
    "$\n",
    "\\begin{align}\n",
    "P(A \\mid B) = \\frac{P(B \\mid A) \\cdot P(A)}{P(B)}\n",
    "\\end{align}\n",
    "$\n",
    "\n",
    "Where:\n",
    "\n",
    "1. $P(A \\mid B) := \\text{Posterior probability}$\n",
    "1. $P(B \\mid A) := \\text{Likelihood}$\n",
    "1. $P(A) := \\text{Prior} \\; \\text{which is also a Marginal probability of A}$\n",
    "1. $P(B) := \\text{Marginal probability of B}$"
   ]
  },
  {
   "cell_type": "markdown",
   "id": "311dff9e-77a6-4a67-88e2-a2038910e3b8",
   "metadata": {},
   "source": [
    "## Combinatorics"
   ]
  },
  {
   "cell_type": "markdown",
   "id": "bdd3a134-2750-4e81-ac19-47a939cd7b02",
   "metadata": {},
   "source": [
    "### Permutations\n",
    "\n",
    "When duplicates are not allowed:\n",
    "\n",
    "$\n",
    "\\begin{align}\n",
    "{}^{n}P_r = \\frac{n!}{(n - r)!}\n",
    "\\end{align}\n",
    "$\n",
    "\n",
    "When duplicates are allowed: \n",
    "\n",
    "$\n",
    "\\begin{align}\n",
    "\\text{(Number of elements)}^\\text{(Number of positions)}\n",
    "\\end{align}\n",
    "$"
   ]
  },
  {
   "cell_type": "markdown",
   "id": "b2b99830-faf4-424c-a28e-7d78a48e5d1b",
   "metadata": {},
   "source": [
    "### Combinations\n",
    "\n",
    "$\n",
    "\\begin{align}\n",
    "{}^nC_r = \\frac{n!}{r! \\cdot (n - r)!}\n",
    "\\end{align}\n",
    "$\n",
    "\n",
    "or \n",
    "\n",
    "$\n",
    "\\begin{align}\n",
    "{}^nC_r = \\frac{{}^{n}P_r}{r!}\n",
    "\\end{align}\n",
    "$\n",
    "\n",
    "> **Note**\n",
    ">\n",
    "> $ {}^nC_1 = n $\n",
    ">\n",
    "> $ {}^nC_0 = {}^nC_n = 1 $"
   ]
  },
  {
   "cell_type": "markdown",
   "id": "8345f12c-3e46-417b-b84e-e3084de28c93",
   "metadata": {},
   "source": []
  }
 ],
 "metadata": {
  "kernelspec": {
   "display_name": "Python 3 (ipykernel)",
   "language": "python",
   "name": "python3"
  },
  "language_info": {
   "codemirror_mode": {
    "name": "ipython",
    "version": 3
   },
   "file_extension": ".py",
   "mimetype": "text/x-python",
   "name": "python",
   "nbconvert_exporter": "python",
   "pygments_lexer": "ipython3",
   "version": "3.12.6"
  }
 },
 "nbformat": 4,
 "nbformat_minor": 5
}
