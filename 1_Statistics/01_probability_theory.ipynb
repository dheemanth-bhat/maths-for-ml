{
 "cells": [
  {
   "cell_type": "markdown",
   "id": "8e861a7c-bf8a-4807-8f62-0088a55e380f",
   "metadata": {},
   "source": [
    "## 1 Introduction"
   ]
  },
  {
   "cell_type": "markdown",
   "id": "55a365c6-361c-48ae-9bfe-34b748b6307c",
   "metadata": {},
   "source": [
    "Before understanding probability theory and to apply various formulas, we have to understand the below listed formal terms given to common day to days words:\n",
    "\n",
    "1. Experiment\n",
    "2. Outcomes\n",
    "3. Sample Space\n",
    "4. Trial\n",
    "5. Event"
   ]
  },
  {
   "cell_type": "markdown",
   "id": "201e0b14-8337-4472-8fb1-e6bd3b0783ec",
   "metadata": {},
   "source": [
    "## 2 Basic Definitions"
   ]
  },
  {
   "cell_type": "markdown",
   "id": "ac6ac82c-72a0-45e3-af83-f678e90f2d21",
   "metadata": {},
   "source": [
    "### 2.1 Experiment"
   ]
  },
  {
   "cell_type": "markdown",
   "id": "d254b301-bfb3-48f6-9840-b9ecf36c6881",
   "metadata": {},
   "source": [
    "#### Definition"
   ]
  },
  {
   "cell_type": "markdown",
   "id": "f7603cd0-17a3-4f6b-a138-e65c769124dd",
   "metadata": {},
   "source": [
    "Experiment is an activity (or collection of activities) that we want to perform."
   ]
  },
  {
   "cell_type": "markdown",
   "id": "88e8c371-5164-435c-8127-6541b6144162",
   "metadata": {},
   "source": [
    "#### Examples"
   ]
  },
  {
   "cell_type": "markdown",
   "id": "96374846-6b6f-4e13-8526-ed4b5eb8e7fc",
   "metadata": {},
   "source": [
    "1. Calculate $a^2 + b^2 + 2ab$\n",
    "2. Flipping a coin\n",
    "3. Rolling a 6 sided dice."
   ]
  },
  {
   "cell_type": "markdown",
   "id": "b8efd68e-41b3-433f-8526-41d9e917d5d3",
   "metadata": {},
   "source": [
    "An experiment can be complex in nature involving multiple activities.\n",
    "\n",
    "1. Rolling an dice and flipping a coin.\n",
    "2. Choosing a shirts and trousers from a closet."
   ]
  },
  {
   "cell_type": "markdown",
   "id": "6e426619-8fe9-4951-b79f-f8d13e88c887",
   "metadata": {},
   "source": [
    "### 2.2 Types of experiments"
   ]
  },
  {
   "cell_type": "markdown",
   "id": "bcef49ea-3e64-4245-932d-100843cf75f2",
   "metadata": {},
   "source": [
    "1. Deterministic Experiment\n",
    "2. Probabilistic / Random Experiment"
   ]
  },
  {
   "cell_type": "markdown",
   "id": "25c83a9f-2bae-4ed4-a90e-f035ae9d33f3",
   "metadata": {},
   "source": [
    "#### 1 Deterministic Experiment"
   ]
  },
  {
   "cell_type": "markdown",
   "id": "4265cf51-69a4-4de5-a3d0-169565452e36",
   "metadata": {},
   "source": [
    "##### Definition"
   ]
  },
  {
   "cell_type": "markdown",
   "id": "bf3b0504-0262-4cc7-b0a2-27ad5f8df40b",
   "metadata": {},
   "source": [
    "An experiment whose outcome is always fixed."
   ]
  },
  {
   "cell_type": "markdown",
   "id": "5dc392b5-095d-4f95-8538-adba599b0220",
   "metadata": {},
   "source": [
    "##### Example"
   ]
  },
  {
   "cell_type": "markdown",
   "id": "e5487c65-5f88-4af5-8b8f-7589460a239f",
   "metadata": {},
   "source": [
    "1. An experiment to Calculate $a^2 + b^2 + 2ab$ where a = 2 and b = 3 is always 25"
   ]
  },
  {
   "cell_type": "markdown",
   "id": "3e336b96-90ce-4df9-9656-5e26ce4f7172",
   "metadata": {},
   "source": [
    "#### 2 Probabilistic / Random Experiment"
   ]
  },
  {
   "cell_type": "markdown",
   "id": "3d6630d7-c1b4-456f-aded-7f2cab2191ce",
   "metadata": {},
   "source": [
    "##### Definition"
   ]
  },
  {
   "cell_type": "markdown",
   "id": "f76c673f-746e-4d56-bec0-a724d0640d19",
   "metadata": {},
   "source": [
    "An experiment whose outcome is not fixed."
   ]
  },
  {
   "cell_type": "markdown",
   "id": "bbd51273-1656-4676-a23d-3cf2fad62bcb",
   "metadata": {},
   "source": [
    "##### Example"
   ]
  },
  {
   "cell_type": "markdown",
   "id": "4bfc2176-9e8f-4462-b7be-87b47ebc12b6",
   "metadata": {},
   "source": [
    "1. Flipping a coin\n",
    "2. Tossing a dice."
   ]
  },
  {
   "cell_type": "markdown",
   "id": "6231985f-c4e8-4866-a6b1-9876c4a71f51",
   "metadata": {},
   "source": [
    "### 2.3 Outcomes"
   ]
  },
  {
   "cell_type": "markdown",
   "id": "4072def5-a2ef-42be-846a-5de3c0ad2205",
   "metadata": {},
   "source": [
    "#### Definition"
   ]
  },
  {
   "cell_type": "markdown",
   "id": "a789f699-72ef-4f35-885f-d11aef71f432",
   "metadata": {},
   "source": [
    "One or more possible end results of an experiment is called as outcome.\n",
    "\n",
    "1. For a Deterministic Experiment there is always one single output.\n",
    "2. For a Probabilistic Experiment there can be range-of / multiple outputs."
   ]
  },
  {
   "cell_type": "markdown",
   "id": "6206b82c-4ae8-4909-a5d4-b90e8ed3c903",
   "metadata": {},
   "source": [
    "#### Examples"
   ]
  },
  {
   "cell_type": "markdown",
   "id": "6613386c-c482-41db-af3b-d974277cd691",
   "metadata": {},
   "source": [
    "##### Example #1:\n",
    "\n",
    "Experiment: $\\text{Rolling a dice}$\n",
    "\n",
    "Outcomes: $\\{1\\}, \\{2\\}, ..., \\{6\\}$\n",
    "\n",
    "All possible outcomes: $\\{1, 2, 3, 4, 5, 6\\}$"
   ]
  },
  {
   "cell_type": "markdown",
   "id": "e9238a3b-7b11-4188-87a0-a058d3574922",
   "metadata": {},
   "source": [
    "### 1.4 Sample Space"
   ]
  },
  {
   "cell_type": "markdown",
   "id": "784b8bbc-c51c-48c6-87b8-bc796f1a6fbc",
   "metadata": {},
   "source": [
    "#### Definition"
   ]
  },
  {
   "cell_type": "markdown",
   "id": "bcbc60c4-eaa0-4eac-a43f-645005e92cdd",
   "metadata": {},
   "source": [
    "1. Sample space is a collection of all possible outcomes.\n",
    "2. Sample space is often denoted using alphabet $S$\n",
    "3. Size of Sample space is called as Cardinality."
   ]
  },
  {
   "cell_type": "markdown",
   "id": "516076b0-0e6c-48a3-96e5-60a53dae20da",
   "metadata": {},
   "source": [
    "#### Examples"
   ]
  },
  {
   "cell_type": "markdown",
   "id": "15ffc7c9-a60f-44fd-af38-fe58da40db83",
   "metadata": {},
   "source": [
    "##### Example #1\n",
    "\n",
    "Experiment: $\\text{Toss a coin}$\n",
    "\n",
    "Sample Space $S = \\{H, T\\}$"
   ]
  },
  {
   "cell_type": "markdown",
   "id": "2330be20-eabb-4d0c-b097-3fe4360b5bb5",
   "metadata": {},
   "source": [
    "##### Example #2\n",
    "\n",
    "Experiment: $\\text{Rolling a Dice}$\n",
    "\n",
    "Sample Space: $S = \\{1, 2, 3, 4, 5, 6\\}$"
   ]
  },
  {
   "cell_type": "markdown",
   "id": "07b2b8f9-1559-43bb-a8b1-4da37dbd9443",
   "metadata": {},
   "source": [
    "### 1.5 Trial"
   ]
  },
  {
   "cell_type": "markdown",
   "id": "b8f594f3-1d2b-47ea-b8db-2b5a9dc8f09c",
   "metadata": {},
   "source": [
    "#### Definition"
   ]
  },
  {
   "cell_type": "markdown",
   "id": "2e750a12-2654-4618-b0ab-32eceb7cb286",
   "metadata": {},
   "source": [
    "A trial is a single iteration of an experiment."
   ]
  },
  {
   "cell_type": "markdown",
   "id": "d4dd28e1-d371-45be-aeaf-fdec4cf67857",
   "metadata": {},
   "source": [
    "#### Examples"
   ]
  },
  {
   "cell_type": "markdown",
   "id": "46dac3cf-a4df-4d05-81a1-a16e8686c801",
   "metadata": {},
   "source": [
    "Experiment: $\\text{Flipping a coin}$\n",
    "\n",
    "Trial: Each flip of the coin."
   ]
  },
  {
   "cell_type": "markdown",
   "id": "5c8e9875-5003-4d4c-9d7d-63b58fd99cc8",
   "metadata": {},
   "source": [
    "$\n",
    "\\begin{align}\n",
    "\\text{Size of sample space} = (\\text{Total number of possible outputs})^{(\\text{Number of Trials})}\n",
    "\\end{align}\n",
    "$"
   ]
  },
  {
   "cell_type": "markdown",
   "id": "5abbc163-2dd6-4af8-b4b7-b49c3a1acce0",
   "metadata": {},
   "source": [
    "### 1.6 Event"
   ]
  },
  {
   "cell_type": "markdown",
   "id": "a91e9356-fdc9-437a-870c-302e82b3b5ae",
   "metadata": {},
   "source": [
    "#### Definition"
   ]
  },
  {
   "cell_type": "markdown",
   "id": "1721f8f2-f2dc-4afc-9a87-3fbf3c2ce685",
   "metadata": {},
   "source": [
    "1. An Event is said to have occurred if the trial results in a favorable outcome.  \n",
    "2. An Event is a variation of an experiment often explicitly mentioning the criteria for favorable outcomes.\n",
    "3. In probability theory we try to calculate the **Probability of occurrence of an event**.\n",
    "4. An event is always a subset of Sample Space."
   ]
  },
  {
   "cell_type": "markdown",
   "id": "ddf66dae-4d36-4c7c-873c-c34dd5eb5483",
   "metadata": {},
   "source": [
    "#### Example"
   ]
  },
  {
   "cell_type": "markdown",
   "id": "df1b2b41-afc9-4529-bd1d-7bc3940cfa69",
   "metadata": {},
   "source": [
    "Experiment: $\\text{Rolling a dice}$\n",
    "\n",
    "Event: $\\text{Roll a dice such that number is greater than 2.}$\n",
    "\n",
    "Outcomes: $\\{3, 4, 5, 6\\}$"
   ]
  },
  {
   "cell_type": "markdown",
   "id": "9de14e81-439f-4dbf-bd77-9bd7c13d1c15",
   "metadata": {},
   "source": [
    "> **Note**:\n",
    ">\n",
    "> For any set an empty set is considered as its subset. **Event can have empty set $\\emptyset$ as it outcome.**"
   ]
  },
  {
   "cell_type": "markdown",
   "id": "d333e0fe-441f-482b-bd95-beb00c8e4e18",
   "metadata": {},
   "source": [
    "If Sample Space has N outcomes then total number of possible events are 2<sup>n</sup>"
   ]
  },
  {
   "cell_type": "markdown",
   "id": "6c85d08e-7e96-4871-b539-59bd976d2bff",
   "metadata": {},
   "source": [
    "### 1.7 Expected value"
   ]
  },
  {
   "cell_type": "markdown",
   "id": "e67a80fc-699a-4359-98bb-b34e582caf2f",
   "metadata": {},
   "source": [
    "#### Definition"
   ]
  },
  {
   "cell_type": "markdown",
   "id": "f8ae08a5-2eb7-41f5-b57c-69c0a238710b",
   "metadata": {},
   "source": [
    "Expectation of a random variable X, is the weighted average of the values that X takes, with the weights being the probabilities."
   ]
  },
  {
   "cell_type": "markdown",
   "id": "5d00f16a-4b6b-49c4-8891-305059e04072",
   "metadata": {},
   "source": [
    "#### Example"
   ]
  },
  {
   "cell_type": "markdown",
   "id": "941296e8-00c7-484f-9d3d-f42e053f07bd",
   "metadata": {},
   "source": []
  },
  {
   "cell_type": "markdown",
   "id": "12a959d5-f246-4aff-8f8e-5730341e809a",
   "metadata": {},
   "source": [
    "## 3 Set Operations"
   ]
  },
  {
   "cell_type": "markdown",
   "id": "160e6d93-3e03-491d-840c-939da53be60b",
   "metadata": {},
   "source": [
    "1. Sample space is called as Universal set.\n",
    "2. Events are the subsets of Universal set."
   ]
  },
  {
   "cell_type": "markdown",
   "id": "bb5d9caf-c708-49bc-b5c5-97a24d6b1a2e",
   "metadata": {},
   "source": [
    "### 3.1 Union"
   ]
  },
  {
   "cell_type": "markdown",
   "id": "f5d3aaa8-629d-46ee-bd91-26aff892a8ea",
   "metadata": {},
   "source": [
    "$\n",
    "\\begin{align}\n",
    "A \\cup B = A + B - A \\cap B\n",
    "\\end{align}\n",
    "$"
   ]
  },
  {
   "cell_type": "markdown",
   "id": "10596087-6dac-407a-ba6f-c217a167eb5e",
   "metadata": {},
   "source": [
    "### 3.2 Intersection"
   ]
  },
  {
   "cell_type": "code",
   "execution_count": null,
   "id": "7f1f1fc5-fef3-4500-a676-d027c1cec05e",
   "metadata": {},
   "outputs": [],
   "source": []
  },
  {
   "cell_type": "markdown",
   "id": "f9627451-b5bc-4f5f-957c-5e426f7737be",
   "metadata": {},
   "source": [
    "### 3.3 Complement"
   ]
  },
  {
   "cell_type": "code",
   "execution_count": null,
   "id": "018bd324-f18a-4755-b2bd-a80bce11f0d2",
   "metadata": {},
   "outputs": [],
   "source": []
  },
  {
   "cell_type": "markdown",
   "id": "999d2f67-addb-47d2-8ade-062c62a961dd",
   "metadata": {},
   "source": [
    "## 4 Probability Calculation"
   ]
  },
  {
   "cell_type": "markdown",
   "id": "db5fed7f-7065-40ec-9023-5bafe6348cca",
   "metadata": {},
   "source": [
    "### 4.1 Types of probability"
   ]
  },
  {
   "cell_type": "markdown",
   "id": "ba02d366-2936-486d-a71e-214a45ca90aa",
   "metadata": {},
   "source": [
    "1. Marginal Probability\n",
    "2. Conditional Probability\n",
    "3. Joint Probability"
   ]
  },
  {
   "cell_type": "markdown",
   "id": "26c3ccbc-2471-49c4-b735-23b6b98944a1",
   "metadata": {},
   "source": [
    "### 4.2 Marginal Probability"
   ]
  },
  {
   "cell_type": "markdown",
   "id": "a121dc92-74c4-4752-9581-49665bf8c1bc",
   "metadata": {},
   "source": [
    "#### Definition"
   ]
  },
  {
   "cell_type": "markdown",
   "id": "fb4cf6e5-71be-4262-9808-80518785d5b5",
   "metadata": {},
   "source": [
    "1. Marginal Probability is the most basic type of Probability.\n",
    "2. In Marginal Probability we try to calculate the probability of an event occurring."
   ]
  },
  {
   "cell_type": "markdown",
   "id": "8d05eade-a4e2-4805-a659-7be4c1611417",
   "metadata": {},
   "source": [
    "#### Formula"
   ]
  },
  {
   "cell_type": "markdown",
   "id": "5a1cc78f-a335-4dff-ad2e-cdc5c404c54b",
   "metadata": {},
   "source": [
    "Probability of an event $A$ occurring can be calculated as:\n",
    "\n",
    "$\n",
    "\\begin{align}\n",
    "P(A) = \\frac{\\text{Total Number of favorable outcomes in an event}}{\\text{Total number of outcomes}} = \\frac{n(A)}{n(S)}\n",
    "\\end{align}\n",
    "$"
   ]
  },
  {
   "cell_type": "code",
   "execution_count": null,
   "id": "4ac0d08b-bb5a-44ea-9965-c8fe9906c0d6",
   "metadata": {},
   "outputs": [],
   "source": []
  },
  {
   "cell_type": "code",
   "execution_count": null,
   "id": "370ae150-7ae2-42e6-a4eb-af7ec405c6cd",
   "metadata": {},
   "outputs": [],
   "source": []
  },
  {
   "cell_type": "markdown",
   "id": "f6f24cf4-70f1-4bb8-9340-255d1a91845b",
   "metadata": {},
   "source": [
    "### Addition Rule"
   ]
  },
  {
   "cell_type": "markdown",
   "id": "e56fe076-71c9-4a33-85d1-fcc833c90bf6",
   "metadata": {},
   "source": [
    "$\n",
    "\\begin{align}\n",
    "P(A \\cup B) = P(A) + P(B) - P(A \\cap B)\n",
    "\\end{align}\n",
    "$"
   ]
  },
  {
   "cell_type": "markdown",
   "id": "555e4e2c-4c9e-4025-91a9-261d63eb5e58",
   "metadata": {},
   "source": [
    "## 5 Type of Events"
   ]
  },
  {
   "cell_type": "markdown",
   "id": "23e301cb-ccdf-430f-bd8a-570806bdbf3f",
   "metadata": {},
   "source": [
    "1. Mutually Exclusive Events / Disjoint Events\n",
    "2. Exhaustive Events\n",
    "3. Joint Events / Non-mutually Exclusive Events\n",
    "4. Independent Events"
   ]
  },
  {
   "cell_type": "markdown",
   "id": "5407385a-39b3-4d57-b06d-c2d759079412",
   "metadata": {},
   "source": [
    "### 5.1 Mutually Exclusive Events"
   ]
  },
  {
   "cell_type": "markdown",
   "id": "40b2f5c9-cb18-4120-990f-8b431fea799d",
   "metadata": {},
   "source": [
    "#### Definition"
   ]
  },
  {
   "cell_type": "markdown",
   "id": "d67bb9bb-6294-490a-aa9d-0cb7be8caa62",
   "metadata": {},
   "source": [
    "For given events $A$, $B$ if $A \\cap B = \\emptyset$ then they are called as Mutually exclusive events or Disjoint events.\n",
    "\n",
    "> **Note**:\n",
    ">\n",
    "> $\\emptyset$ represents null set."
   ]
  },
  {
   "cell_type": "markdown",
   "id": "b932f347-c6fd-47d1-89f8-9cd0cac3a2e6",
   "metadata": {},
   "source": [
    "#### Formula "
   ]
  },
  {
   "cell_type": "markdown",
   "id": "bdaa5a6e-2f65-4052-9493-b1a4182d9011",
   "metadata": {},
   "source": [
    "Formula to calculate probability of Mutually Exclusive Events:\n",
    "\n",
    "Probability that either event $A$ or event $B$ can occur is calculated as.\n",
    "\n",
    "$\n",
    "\\begin{align}\n",
    "P(A \\cup B) = P(A) + P(B)\n",
    "\\end{align}\n",
    "$"
   ]
  },
  {
   "cell_type": "markdown",
   "id": "2ee62353-438f-4fc6-8d37-48e69fcadc6a",
   "metadata": {},
   "source": [
    "> **Note**:\n",
    ">\n",
    "> Same as Addition rule but $P(A \\cap B)$ is equal to zero."
   ]
  },
  {
   "cell_type": "markdown",
   "id": "1f517b24-fc4c-4b72-a05a-67aa21f640f5",
   "metadata": {},
   "source": [
    "### 5.2 Joint Events"
   ]
  },
  {
   "cell_type": "markdown",
   "id": "fe975cb0-4f45-48cc-b625-54f6bd7d2054",
   "metadata": {},
   "source": [
    "#### Definition"
   ]
  },
  {
   "cell_type": "markdown",
   "id": "a0ccbaac-923f-4af4-a253-5e465021dc95",
   "metadata": {},
   "source": [
    "For given events $A$, $B$ if $A \\cap B \\neq \\{\\}$ then they are called as Non-Mutually exclusive events or Joint events.\n",
    "\n",
    "> **Note**:\n",
    ">\n",
    "> $\\emptyset$ or $\\{\\}$ represents null set or empty set."
   ]
  },
  {
   "cell_type": "markdown",
   "id": "42239239-4178-496a-aa9c-055555f17e18",
   "metadata": {},
   "source": [
    "#### Formula "
   ]
  },
  {
   "cell_type": "markdown",
   "id": "27d555b4-8ae8-44e0-b97d-9b887f640ab7",
   "metadata": {},
   "source": [
    "Formula to calculate probability of Joint Events that are Dependent events:\n",
    "\n",
    "$\n",
    "\\begin{align}\n",
    "P(A \\cap B) = P(A \\mid B) \\cdot P(B)\n",
    "\\end{align}\n",
    "$"
   ]
  },
  {
   "cell_type": "markdown",
   "id": "1accc25e-a6e9-4ef6-b15b-5f4f1a66f891",
   "metadata": {},
   "source": [
    "Formula to calculate probability of Joint Events that are Independent events:\n",
    "\n",
    "$\n",
    "\\begin{align}\n",
    "P(A \\cap B) = P(A) \\cdot P(B)\n",
    "\\end{align}\n",
    "$"
   ]
  },
  {
   "cell_type": "markdown",
   "id": "32626931-c03d-4b60-a774-a3c100cdeb95",
   "metadata": {},
   "source": [
    "### 5.3 Independent Events"
   ]
  },
  {
   "cell_type": "markdown",
   "id": "636d2f43-9104-42ce-897f-311cc6f8ac2e",
   "metadata": {},
   "source": [
    "#### Definition"
   ]
  },
  {
   "cell_type": "markdown",
   "id": "99e27ef3-42c5-4ea3-ab2c-1954bcddcb5f",
   "metadata": {},
   "source": [
    "Outcome of one event does not impact outcome of other events. There are no correlation between the events."
   ]
  },
  {
   "cell_type": "markdown",
   "id": "e85bb59f-22e7-4b8b-bdd6-27ec32f691b3",
   "metadata": {},
   "source": [
    "#### Example"
   ]
  },
  {
   "cell_type": "markdown",
   "id": "fdc45dc6-9a13-4c60-9e42-189caf65da12",
   "metadata": {},
   "source": [
    "###### Experiment \n",
    "\n",
    "Rolling a dice and Tossing a Coin."
   ]
  },
  {
   "cell_type": "markdown",
   "id": "5dfef406-69de-48b1-b4d2-cbcf03ba6556",
   "metadata": {},
   "source": [
    "#### Formula "
   ]
  },
  {
   "cell_type": "markdown",
   "id": "6cdab621-4a6d-42c0-a24d-a7d5c860ddd8",
   "metadata": {},
   "source": [
    "If two events are independent, the probability of both events happening together is:\n",
    "\n",
    "###### Multiplication rule\n",
    "\n",
    "$\n",
    "\\begin{align}\n",
    "P(A \\cap B) = P(A) \\cdot P(B)\n",
    "\\end{align}\n",
    "$"
   ]
  },
  {
   "cell_type": "markdown",
   "id": "e6967ba9-9fc8-4e07-8c44-85ec843f7e04",
   "metadata": {},
   "source": [
    "### 5.4 Exhaustive Events"
   ]
  },
  {
   "cell_type": "markdown",
   "id": "b196de3e-ef5d-47f5-b29e-86865cbe1e90",
   "metadata": {},
   "source": [
    "#### Definition"
   ]
  },
  {
   "cell_type": "markdown",
   "id": "beb1b328-4c34-4220-a472-7977bdcd7ece",
   "metadata": {},
   "source": [
    "Exhaustive events (Sample space) $A_1 \\cup A_2 \\cup \\ldots \\cup A_n = S$"
   ]
  },
  {
   "cell_type": "markdown",
   "id": "742aac42-0dcd-41b4-a373-4ad01b0eb7d4",
   "metadata": {},
   "source": [
    "#### Formula "
   ]
  },
  {
   "cell_type": "markdown",
   "id": "f80faad3-7cea-4c97-ba36-6482a967b90d",
   "metadata": {},
   "source": [
    "Formula to calculate probability of Exhaustive Events\n",
    "\n",
    "$\n",
    "\\begin{align}\n",
    "P(A_1 \\cup A_2 \\cup \\ldots \\cup A_n) = 1\n",
    "\\end{align}\n",
    "$"
   ]
  },
  {
   "cell_type": "markdown",
   "id": "a711e576-4961-4139-ad52-9778900bdd0b",
   "metadata": {},
   "source": [
    "### 5.5 Dependent Events"
   ]
  },
  {
   "cell_type": "markdown",
   "id": "d10dbbe3-28b7-46f0-a86e-dc275367799a",
   "metadata": {},
   "source": [
    "##### Definition"
   ]
  },
  {
   "cell_type": "code",
   "execution_count": null,
   "id": "031c528b-8faa-4098-85d9-be7dfa9a7323",
   "metadata": {},
   "outputs": [],
   "source": []
  },
  {
   "cell_type": "code",
   "execution_count": null,
   "id": "f409224a-33b5-4233-8331-66a20ed80bda",
   "metadata": {},
   "outputs": [],
   "source": []
  },
  {
   "cell_type": "code",
   "execution_count": null,
   "id": "806ac16c-49fc-4717-ac84-321b70ae136e",
   "metadata": {},
   "outputs": [],
   "source": []
  },
  {
   "cell_type": "code",
   "execution_count": null,
   "id": "fe145373-2fd8-4268-99e6-5fe3d075cc1c",
   "metadata": {},
   "outputs": [],
   "source": []
  },
  {
   "cell_type": "markdown",
   "id": "168014de-29ac-44e7-b4c5-699363b477f6",
   "metadata": {},
   "source": [
    "1. Disjoint Events / Mutually Exclusive Events $A \\cap B = \\{\\}$\n",
    "2. Exhaustive Events (Sample space) $A \\cup B = S$\n",
    "3. Joint Events / Non-mutually Exclusive Event $A \\cap B \\neq \\{\\}$"
   ]
  },
  {
   "cell_type": "markdown",
   "id": "5cde99aa-ad88-4d4a-8673-6bfca2ab9c9a",
   "metadata": {},
   "source": [
    "## 5 Appendix"
   ]
  },
  {
   "cell_type": "markdown",
   "id": "69e28b48-216b-49e2-9c4a-d7e978812eaf",
   "metadata": {},
   "source": [
    "### 5.1 List of Formulas"
   ]
  },
  {
   "cell_type": "markdown",
   "id": "5348c729-99e7-4f26-b4eb-d5dda534a03d",
   "metadata": {},
   "source": [
    "#### Formula #1: Basic/Marginal Probability\n",
    "\n",
    "Basic probability calculation:\n",
    "\n",
    "$\n",
    "\\begin{align}\n",
    "P(A) = \\frac{\\text{Total Number of favorable outcomes in an Event}}{\\text{Total number of outcomes}} = \\frac{n(A)}{n(S)}\n",
    "\\end{align}\n",
    "$"
   ]
  },
  {
   "cell_type": "markdown",
   "id": "c9ba8c56-de07-4151-813a-7a079745e530",
   "metadata": {},
   "source": [
    "#### Formula #2: Set Union\n",
    "\n",
    "$\n",
    "\\begin{align}\n",
    "A \\cup B = A + B - A \\cap B\n",
    "\\end{align}\n",
    "$"
   ]
  },
  {
   "cell_type": "markdown",
   "id": "1d1e9685-1636-4c53-8d5a-c6f29011d695",
   "metadata": {},
   "source": [
    "#### Formula #3: Multiplication rule\n",
    "\n",
    "If two events A and B are independent:\n",
    "\n",
    "$\n",
    "\\begin{align}\n",
    "P(A \\cap B) = P(A) * P(B)\n",
    "\\end{align}\n",
    "$"
   ]
  },
  {
   "cell_type": "markdown",
   "id": "b62a1dd9-d7a0-4225-a233-6ca90a5ab9ce",
   "metadata": {},
   "source": [
    "#### Formula #4: Addition Rule\n",
    "\n",
    "If two events are Joint events i.e., $A \\cap B \\neq \\{\\}$\n",
    "\n",
    "$\n",
    "\\begin{align}\n",
    "P(A \\cup B) = P(A) + P(B) - P(A \\cap B)\n",
    "\\end{align}\n",
    "$\n",
    "\n",
    "If two events are Mutually Exclusive Events i.e., $A \\cap B = \\emptyset$\n",
    "\n",
    "$\n",
    "\\begin{align}\n",
    "P(A \\cup B) = P(A) + P(B)\n",
    "\\end{align}\n",
    "$"
   ]
  },
  {
   "cell_type": "markdown",
   "id": "8ae63067-7c10-4b22-9c2d-3adc787a460f",
   "metadata": {},
   "source": [
    "#### Formula #5: Relative complement Probability\n",
    "\n",
    "$A \\setminus B$ $:=$ The set of elements in $A$ but not in $B$\n",
    "\n",
    "$\n",
    "\\begin{align}\n",
    "P(A \\cap B^{\\complement}) = P(A) - P(A \\cap B)\n",
    "\\end{align}\n",
    "$\n",
    "\n",
    "or\n",
    "\n",
    "\n",
    "$\n",
    "\\begin{align}\n",
    "P(A \\setminus B) = P(A) - P(A \\cap B)\n",
    "\\end{align}\n",
    "$"
   ]
  },
  {
   "cell_type": "markdown",
   "id": "aade8b4e-abcd-400a-8a25-5e3d1485f778",
   "metadata": {},
   "source": [
    "### 5.2 Tricks"
   ]
  },
  {
   "cell_type": "markdown",
   "id": "6e826daf-db21-4b8e-a010-6eab90cd599a",
   "metadata": {},
   "source": [
    "1. And means -> Multiply\n",
    "2. Or means  -> Addition\n",
    "3. \"at least $n$\" means -> Minimum to Maximum -> $n$ to $S$\n",
    "4. \"at most $n$\" means -> Maximum to Minimum -> $0$ to $n$\n",
    "5. \"selection\" / \"picking up\" -> Combination"
   ]
  },
  {
   "cell_type": "markdown",
   "id": "662bc301-f256-4244-8d65-08401d8bb26b",
   "metadata": {},
   "source": [
    "Types of probability problems:\n",
    "\n",
    "1. And\n",
    "2. Or\n",
    "3. And & Or\n",
    "4. One\n",
    "5. None\n",
    "6. At least\n",
    "7. At most"
   ]
  },
  {
   "cell_type": "code",
   "execution_count": null,
   "id": "8da69341-8775-497c-9410-fc35ea7142fb",
   "metadata": {},
   "outputs": [],
   "source": []
  },
  {
   "cell_type": "code",
   "execution_count": null,
   "id": "062578c7-0967-45e9-8537-1e2d0d7ff226",
   "metadata": {},
   "outputs": [],
   "source": []
  },
  {
   "cell_type": "code",
   "execution_count": null,
   "id": "1f3dbd33-15be-4472-9ef6-462333a63606",
   "metadata": {},
   "outputs": [],
   "source": []
  },
  {
   "cell_type": "code",
   "execution_count": null,
   "id": "4e629af3-1bfa-4db5-a88f-de28e5a19a2b",
   "metadata": {},
   "outputs": [],
   "source": []
  },
  {
   "cell_type": "code",
   "execution_count": null,
   "id": "ea3de565-5593-467b-a272-9435e1067a79",
   "metadata": {},
   "outputs": [],
   "source": []
  },
  {
   "cell_type": "markdown",
   "id": "45bd59af-cedd-4117-8706-588e3c2413a4",
   "metadata": {},
   "source": [
    "In first class you gave following three statements:\n",
    "\n",
    "1. An event is always a subset of sample space.\n",
    "2. An event can be empty set.\n",
    "3. Empty set is not an outcome in sample space.\n",
    "\n",
    "Isn't the 2nd statement contradicting/nullifying 1st and 3rd statement."
   ]
  },
  {
   "cell_type": "code",
   "execution_count": null,
   "id": "33219dc3-ce3d-40c0-b2d2-caec0f7c62df",
   "metadata": {},
   "outputs": [],
   "source": []
  }
 ],
 "metadata": {
  "kernelspec": {
   "display_name": "Python 3 (ipykernel)",
   "language": "python",
   "name": "python3"
  },
  "language_info": {
   "codemirror_mode": {
    "name": "ipython",
    "version": 3
   },
   "file_extension": ".py",
   "mimetype": "text/x-python",
   "name": "python",
   "nbconvert_exporter": "python",
   "pygments_lexer": "ipython3",
   "version": "3.12.6"
  }
 },
 "nbformat": 4,
 "nbformat_minor": 5
}
