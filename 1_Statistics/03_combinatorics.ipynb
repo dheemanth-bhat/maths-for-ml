{
 "cells": [
  {
   "cell_type": "markdown",
   "id": "f9f322a9-eadf-4ba6-ae8d-e6466b659cbb",
   "metadata": {},
   "source": [
    "## 1 Combinatorics"
   ]
  },
  {
   "cell_type": "markdown",
   "id": "d0d053fa-017e-4fb4-a8b8-57534f377ae7",
   "metadata": {},
   "source": [
    "Types of Combinatorics:\n",
    "\n",
    "1. Permutations\n",
    "2. Combinations"
   ]
  },
  {
   "cell_type": "markdown",
   "id": "38c16570-ae72-4bb3-90ac-26a868b32ae0",
   "metadata": {},
   "source": [
    "### 1.1 Permutations"
   ]
  },
  {
   "cell_type": "markdown",
   "id": "77028a3d-c6c0-4527-9d26-40a60d779fc0",
   "metadata": {},
   "source": [
    "#### Definition"
   ]
  },
  {
   "cell_type": "markdown",
   "id": "da7f7076-2ed7-465f-8a86-017334806e19",
   "metadata": {},
   "source": [
    "Given $n$ objects arrange them in $r$ places."
   ]
  },
  {
   "cell_type": "markdown",
   "id": "fffa2e92-cc68-41d3-a4ff-35923023585d",
   "metadata": {},
   "source": [
    "Order of arrangements matter."
   ]
  },
  {
   "cell_type": "markdown",
   "id": "0a6dc5ac-4e5c-4a77-8254-1415a58df579",
   "metadata": {},
   "source": [
    "#### Formula"
   ]
  },
  {
   "cell_type": "markdown",
   "id": "8f7e66f7-e5a5-422d-b4ac-aaa2472df9bd",
   "metadata": {},
   "source": [
    "When duplicates are not allowed:\n",
    "\n",
    "$\n",
    "\\begin{align}\n",
    "{}^{n}P_r = \\frac{n!}{(n - r)!}\n",
    "\\end{align}\n",
    "$"
   ]
  },
  {
   "cell_type": "markdown",
   "id": "8009e7f3-b8ef-4593-bfa8-ae8f95f757d3",
   "metadata": {},
   "source": [
    "When duplicates are allowed: \n",
    "\n",
    "$\n",
    "\\begin{align}\n",
    "\\text{(Number of elements)}^\\text{(Number of positions)}\n",
    "\\end{align}\n",
    "$"
   ]
  },
  {
   "cell_type": "markdown",
   "id": "7586ec58-0a72-4be8-8087-f53068351889",
   "metadata": {},
   "source": [
    "### 1.2 Combinations"
   ]
  },
  {
   "cell_type": "markdown",
   "id": "ceddedbe-b540-4862-987a-6a7ae548b166",
   "metadata": {},
   "source": [
    "#### Definition"
   ]
  },
  {
   "cell_type": "markdown",
   "id": "bdbe9e65-55c9-4d42-8d3e-61ce50779d41",
   "metadata": {},
   "source": []
  },
  {
   "cell_type": "markdown",
   "id": "300c8ac4-b516-42e6-9ee9-8b334cfa8295",
   "metadata": {},
   "source": [
    "Order of selection does not matter."
   ]
  },
  {
   "cell_type": "markdown",
   "id": "d0266eab-9c09-4a64-9b4d-54eca0c277e4",
   "metadata": {},
   "source": [
    "#### Formula"
   ]
  },
  {
   "cell_type": "markdown",
   "id": "77d89bbd-4e36-4120-b969-20f72b85bdfc",
   "metadata": {},
   "source": [
    "$\n",
    "\\begin{align}\n",
    "{}^nC_r = \\frac{n!}{r! \\cdot (n - r)!}\n",
    "\\end{align}\n",
    "$\n",
    "\n",
    "or \n",
    "\n",
    "$\n",
    "\\begin{align}\n",
    "{}^nC_r = \\frac{{}^{n}P_r}{r!}\n",
    "\\end{align}\n",
    "$"
   ]
  },
  {
   "cell_type": "markdown",
   "id": "c45bfefd-cc10-4590-bd70-37423d5fea60",
   "metadata": {},
   "source": [
    "> **Note**\n",
    ">\n",
    "> $ {}^nC_1 = n $\n",
    ">\n",
    "> $ {}^nC_0 = {}^nC_n = 1 $"
   ]
  },
  {
   "cell_type": "code",
   "execution_count": null,
   "id": "e0c1bf00-2ea8-43fa-a39f-1d9b8eba5a29",
   "metadata": {},
   "outputs": [],
   "source": []
  }
 ],
 "metadata": {
  "kernelspec": {
   "display_name": "Python 3 (ipykernel)",
   "language": "python",
   "name": "python3"
  },
  "language_info": {
   "codemirror_mode": {
    "name": "ipython",
    "version": 3
   },
   "file_extension": ".py",
   "mimetype": "text/x-python",
   "name": "python",
   "nbconvert_exporter": "python",
   "pygments_lexer": "ipython3",
   "version": "3.12.6"
  }
 },
 "nbformat": 4,
 "nbformat_minor": 5
}
