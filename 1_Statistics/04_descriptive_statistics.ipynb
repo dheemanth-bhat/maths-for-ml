{
 "cells": [
  {
   "cell_type": "markdown",
   "id": "6b8ae31b-614d-4aee-aab9-22d3ef967cc2",
   "metadata": {},
   "source": [
    "## 1 Statistics"
   ]
  },
  {
   "cell_type": "markdown",
   "id": "6bd7bb2d-da01-44df-a126-173161fd6122",
   "metadata": {},
   "source": [
    "### 1.1 Overview"
   ]
  },
  {
   "cell_type": "markdown",
   "id": "a71a5f8d-c19f-4a2a-84c7-0113480eeb04",
   "metadata": {},
   "source": [
    "There are two types of Statistics:\n",
    "\n",
    "1. Descriptive Statistics\n",
    "2. Inferential Statistics"
   ]
  },
  {
   "cell_type": "markdown",
   "id": "5daadeeb-17e1-4b75-9680-7bc5eb7e15b3",
   "metadata": {},
   "source": [
    "![types of statistics](images/types_of_stats.png)"
   ]
  },
  {
   "cell_type": "markdown",
   "id": "cb5ca0fd-77bf-47af-b4f6-d9fee1e6bd4f",
   "metadata": {},
   "source": [
    "### 1.2 Descriptive Statistics"
   ]
  },
  {
   "cell_type": "markdown",
   "id": "9d16f52b-38ff-4eed-ad66-d6ce73b1ce17",
   "metadata": {},
   "source": [
    "#### Definition"
   ]
  },
  {
   "cell_type": "markdown",
   "id": "36b9e8dd-9616-4a27-8227-a93c34781fcf",
   "metadata": {},
   "source": [
    "1. Describing the existing or historical data.\n",
    "2. Some common examples is EDA."
   ]
  },
  {
   "cell_type": "markdown",
   "id": "b74c4674-d5cf-406b-9b48-2bb01bc3448a",
   "metadata": {},
   "source": [
    "As part of descriptive statistics we try to identify/measure below behavior in data:\n",
    "\n",
    "1. Measure of central tendency\n",
    "2. Measure of Variability"
   ]
  },
  {
   "cell_type": "markdown",
   "id": "86c58361-e6bb-4b3a-89d4-ea5b7460eabb",
   "metadata": {},
   "source": [
    "### 1.3 Inferential Statistics"
   ]
  },
  {
   "cell_type": "markdown",
   "id": "f04613b8-622e-4b1c-b2a1-f6fb88d18fdc",
   "metadata": {},
   "source": [
    "1. A sample is drawn from a population and make inferences or draw conclusions about the entire population."
   ]
  },
  {
   "cell_type": "markdown",
   "id": "0e976de8-423b-43bc-804d-46f8dc0575e5",
   "metadata": {},
   "source": [
    "## 2 Measure of central tendency"
   ]
  },
  {
   "cell_type": "markdown",
   "id": "343642f6-4f65-469e-acad-6f92df8ae9d5",
   "metadata": {},
   "source": [
    "Measuring the centrality of data.  \n",
    "\n",
    "Why do we have to measure the centrality of data?  \n",
    "\n",
    "When we measure the centrality of data, we are essentially trying to summarize a dataset with a single representative value. Real-world datasets can have millions of points. Instead of listing all of them, we want a compact representation."
   ]
  },
  {
   "cell_type": "markdown",
   "id": "63fc00d3-f7cd-4e4e-ab88-4b4f7f54c67b",
   "metadata": {},
   "source": [
    "#### Types of Central tendencies"
   ]
  },
  {
   "cell_type": "markdown",
   "id": "acf33a3a-a405-4640-964e-5b6d48acfd5c",
   "metadata": {},
   "source": [
    "1. Mean\n",
    "2. Median\n",
    "3. Mode"
   ]
  },
  {
   "cell_type": "markdown",
   "id": "cd6305bd-d139-443c-b7f7-19108617a8bd",
   "metadata": {},
   "source": [
    "### 2.1 Mean"
   ]
  },
  {
   "cell_type": "markdown",
   "id": "a4dac677-aafe-47de-853e-c781cdf014d1",
   "metadata": {},
   "source": [
    "#### Definition"
   ]
  },
  {
   "cell_type": "markdown",
   "id": "18eb91f6-1882-4817-adcf-7452440f14a0",
   "metadata": {},
   "source": [
    "1. Sum of all values in the array divided by number of elements in the array.\n",
    "2. Mean gets affected by outliers."
   ]
  },
  {
   "cell_type": "markdown",
   "id": "ba51f437-6688-4600-8d21-f5ce39c8df6d",
   "metadata": {},
   "source": [
    "#### Formula"
   ]
  },
  {
   "cell_type": "markdown",
   "id": "3efdb718-e45a-4876-933e-dde810dd3f88",
   "metadata": {},
   "source": [
    "$\n",
    "\\large\n",
    "\\begin{align}\n",
    "\\mu = \\frac{1}{n} \\sum_{i=1}^{n} x_i\n",
    "\\end{align}\n",
    "$"
   ]
  },
  {
   "cell_type": "markdown",
   "id": "fa203c29-153d-4b21-950e-6044c522d423",
   "metadata": {},
   "source": [
    "### 2.2 Median"
   ]
  },
  {
   "cell_type": "markdown",
   "id": "6ae5976a-24be-4354-8b00-961d78fdff94",
   "metadata": {},
   "source": [
    "#### Definition"
   ]
  },
  {
   "cell_type": "markdown",
   "id": "c4e569d2-702d-4106-ace8-67c4c373291c",
   "metadata": {},
   "source": [
    "1. Midpoint of **sorted** data.\n",
    "2. Median is **robust** (not affected) by outliers."
   ]
  },
  {
   "cell_type": "markdown",
   "id": "4fe1ad78-736c-4044-aaaf-f8a198b27a90",
   "metadata": {},
   "source": [
    "#### Formula"
   ]
  },
  {
   "cell_type": "markdown",
   "id": "710ffbd5-9ded-44a9-a8ac-088a01605336",
   "metadata": {},
   "source": [
    "##### Case #1: Odd number of elements"
   ]
  },
  {
   "cell_type": "markdown",
   "id": "5ebb74be-1281-4454-9057-268523c2f70f",
   "metadata": {},
   "source": [
    "$\n",
    "\\huge\n",
    "\\begin{align}\n",
    "x_{\\frac{n + 1}{2}}\n",
    "\\end{align}\n",
    "$"
   ]
  },
  {
   "cell_type": "markdown",
   "id": "1fd8eef5-7b5b-400a-b650-1a864c0b5e10",
   "metadata": {},
   "source": [
    "##### Case #2: Even number of elements"
   ]
  },
  {
   "cell_type": "markdown",
   "id": "029bbb8b-1219-4c70-a4ff-e2d4a8b2c11f",
   "metadata": {},
   "source": [
    "$\n",
    "\\huge\n",
    "\\begin{align}\n",
    "\\frac{1}{2}(x_{\\frac{n}{2}} + x_{\\frac{n}{2} + 1})\n",
    "\\end{align}\n",
    "$"
   ]
  },
  {
   "cell_type": "markdown",
   "id": "ae27c963-7a13-43cc-85dc-f495ed50197f",
   "metadata": {},
   "source": [
    "or"
   ]
  },
  {
   "cell_type": "markdown",
   "id": "1157eb7f-7f0d-48b4-8e37-57d3c606af92",
   "metadata": {},
   "source": [
    "$\n",
    "\\huge\n",
    "\\begin{align}\n",
    "\\frac{x_{(\\frac{n}{2})} + x_{(\\frac{n}{2} + 1)}}{2}\n",
    "\\end{align}\n",
    "$"
   ]
  },
  {
   "cell_type": "markdown",
   "id": "04d150ea-52d1-4db6-b559-01bd15f01b2a",
   "metadata": {},
   "source": [
    "### 2.3 Mode"
   ]
  },
  {
   "cell_type": "markdown",
   "id": "e9921d92-c510-4d0d-99cc-f845de69e1d2",
   "metadata": {},
   "source": [
    "#### Definition"
   ]
  },
  {
   "cell_type": "markdown",
   "id": "b17ae780-4c98-4904-8153-38fee1ef5a13",
   "metadata": {},
   "source": [
    "Mode gives the most frequent elements.  \n",
    "\n",
    "Dataset can have more than one mode. There are following types of modes:\n",
    "\n",
    "1. Uni-Model data\n",
    "2. Bi-Model data\n",
    "3. Multi-Model data"
   ]
  },
  {
   "cell_type": "markdown",
   "id": "10f97081-cf6e-44fe-8542-7b1290a4316f",
   "metadata": {},
   "source": [
    "> **Note**:\n",
    "> \n",
    "> Mean and Median are suitable for continuous data. Mode is suitable for discrete data."
   ]
  },
  {
   "cell_type": "markdown",
   "id": "077c31b2-8995-4f91-adf6-6f22e6401808",
   "metadata": {},
   "source": [
    "### 2.4 Weighed mean"
   ]
  },
  {
   "cell_type": "markdown",
   "id": "7c2e2766-70b9-4cc7-8617-f1810b85d904",
   "metadata": {},
   "source": [
    "#### Definition"
   ]
  },
  {
   "cell_type": "markdown",
   "id": "9e642d5b-7756-47d0-b5ee-862d7f358f75",
   "metadata": {},
   "source": [
    "A weighted average is a way to find the average of a set of numbers when some numbers are more important than others, giving them more \"weight\" in the final calculation.  \n",
    "It is calculated by multiplying each data point by its assigned weight, summing these products, and then dividing by the sum of all the weights"
   ]
  },
  {
   "cell_type": "markdown",
   "id": "f4335a04-e867-4b2f-9c9e-efee81779f18",
   "metadata": {},
   "source": [
    "#### Formula"
   ]
  },
  {
   "cell_type": "markdown",
   "id": "22942c3f-213e-4a04-a999-7f11aac1a082",
   "metadata": {},
   "source": [
    "$\n",
    "\\huge\n",
    "\\begin{align}\n",
    "\\frac{\\sum_{i = 1}^{n} w_i * x_i}{\\sum_{i = 1}^{n} w_i}\n",
    "\\end{align}\n",
    "$"
   ]
  },
  {
   "cell_type": "markdown",
   "id": "6059fd62-341f-4b6e-8cb4-6be1227c11fc",
   "metadata": {},
   "source": [
    "> **Note**:\n",
    ">\n",
    "> Weighed mean is used while calculating Loss function for imbalanced dataset."
   ]
  },
  {
   "cell_type": "markdown",
   "id": "7e17756f-8c67-475e-88d7-3ab303b265a1",
   "metadata": {},
   "source": [
    "### 2.5 Examples"
   ]
  },
  {
   "cell_type": "markdown",
   "id": "a90a0c0f-8cc2-47ae-baf3-aecc31698182",
   "metadata": {},
   "source": [
    "#### Quiz #1"
   ]
  },
  {
   "cell_type": "markdown",
   "id": "c8aed0f2-c316-4f24-8fe0-5959b0d07218",
   "metadata": {},
   "source": [
    "There are 4 people whose average age is 24.  \n",
    "We know the age of three people: 20, 22, and 28.  \n",
    "What is the median age of these 4 people?\n",
    "\n",
    "1. 22\n",
    "2. 24\n",
    "3. 25\n",
    "4. 26"
   ]
  },
  {
   "cell_type": "code",
   "execution_count": 1,
   "id": "f0d13150-c8fb-469d-b044-bc7bf1b88b00",
   "metadata": {},
   "outputs": [
    {
     "data": {
      "text/plain": [
       "26"
      ]
     },
     "execution_count": 1,
     "metadata": {},
     "output_type": "execute_result"
    }
   ],
   "source": [
    "# (20 + 22 + 28 + x) / 4 = 24\n",
    "x = (4 * 24) - (20 + 22 + 28)\n",
    "x  # Missing age"
   ]
  },
  {
   "cell_type": "code",
   "execution_count": 2,
   "id": "62091ef8-1ee7-4dbf-8681-93b077be730c",
   "metadata": {},
   "outputs": [
    {
     "data": {
      "text/plain": [
       "24.0"
      ]
     },
     "execution_count": 2,
     "metadata": {},
     "output_type": "execute_result"
    }
   ],
   "source": [
    "ages = [20, 22, 26, 28]\n",
    "median = (22 + 26) / 2\n",
    "median"
   ]
  },
  {
   "cell_type": "markdown",
   "id": "2762ee50-d458-40f7-9028-993e9e175432",
   "metadata": {},
   "source": [
    "#### Quiz #2"
   ]
  },
  {
   "cell_type": "markdown",
   "id": "2b17b671-30b2-4e87-9611-aaee640ed675",
   "metadata": {},
   "source": [
    "A survey of number of pets in a town saw that:\n",
    "1. 30% people had 0 pets\n",
    "2. 40% people had 1 pet\n",
    "3. 10% people had 2 pets\n",
    "4. 20% people had 3 pets\n",
    "\n",
    "What is the average number of pets? "
   ]
  },
  {
   "cell_type": "code",
   "execution_count": 3,
   "id": "2f23d507-e618-4e3f-b042-faeae99fe84b",
   "metadata": {},
   "outputs": [
    {
     "data": {
      "text/plain": [
       "1.2"
      ]
     },
     "execution_count": 3,
     "metadata": {},
     "output_type": "execute_result"
    }
   ],
   "source": [
    "((30 * 0) + (40 * 1) + (10 * 2) + (20 * 3)) / 100"
   ]
  },
  {
   "cell_type": "markdown",
   "id": "87ca0c1f-48ac-476f-bdf9-9886353d60ca",
   "metadata": {},
   "source": [
    "#### Quiz #3"
   ]
  },
  {
   "cell_type": "markdown",
   "id": "e514ff44-dfc2-4504-82be-ff745fec9a22",
   "metadata": {},
   "source": [
    "The mean weight of 2 children in a family is 40 Kgs.  \n",
    "If the weight of the mother is included, the mean becomes 45.  \n",
    "What is the weight of the mother?\n",
    "\n",
    "1. 45\n",
    "2. 50\n",
    "3. 55\n",
    "4. 60\n",
    "5. 65"
   ]
  },
  {
   "cell_type": "code",
   "execution_count": 4,
   "id": "c47722f1-fc40-4c50-93a4-9410fde2e1f1",
   "metadata": {},
   "outputs": [
    {
     "data": {
      "text/plain": [
       "55"
      ]
     },
     "execution_count": 4,
     "metadata": {},
     "output_type": "execute_result"
    }
   ],
   "source": [
    "# (k1 + k2) / 2 = 40\n",
    "# (80 + m) / 3 = 45\n",
    "m = (45 * 3) - 80\n",
    "m"
   ]
  },
  {
   "cell_type": "markdown",
   "id": "f0652066-c020-4277-9973-78e8c1845cd7",
   "metadata": {},
   "source": [
    "## 3 Measure of Variability"
   ]
  },
  {
   "cell_type": "markdown",
   "id": "0b9a5425-72a1-481b-ab13-49aa7262131c",
   "metadata": {},
   "source": [
    "1. Range\n",
    "2. Variance\n",
    "3. Standard Deviation\n",
    "4. Inter-quartile range (IQR)"
   ]
  },
  {
   "cell_type": "markdown",
   "id": "e2de65ea-ead6-4524-b81f-6fe2a5299237",
   "metadata": {},
   "source": [
    "### 3.1 Range"
   ]
  },
  {
   "cell_type": "markdown",
   "id": "e87ad08a-df4f-4d34-9fff-612106d32c93",
   "metadata": {},
   "source": [
    "#### Definition"
   ]
  },
  {
   "cell_type": "markdown",
   "id": "bb644e8d-a9db-45a3-bfa3-f1da348c3c36",
   "metadata": {},
   "source": [
    "Range is sensitive to outliers. Instead of range, a variation on range called as Inter Quartile Range is used."
   ]
  },
  {
   "cell_type": "markdown",
   "id": "d720bd2f-fee8-4dca-9565-95350a1216f7",
   "metadata": {},
   "source": [
    "#### Formula"
   ]
  },
  {
   "cell_type": "markdown",
   "id": "fc8d604f-0298-42c8-9558-9a58232cced7",
   "metadata": {},
   "source": [
    "$\\text{Range} = \\text{Max element} - \\text{Min element}$"
   ]
  },
  {
   "cell_type": "markdown",
   "id": "a918e4f8-3ccf-4f75-8b72-a5049dba0b12",
   "metadata": {},
   "source": [
    "### 3.2 Quantiles"
   ]
  },
  {
   "cell_type": "markdown",
   "id": "c49ccb61-f051-407c-873b-b23f3502bb38",
   "metadata": {},
   "source": [
    "#### Definition"
   ]
  },
  {
   "cell_type": "markdown",
   "id": "99a0b30d-d80c-4c22-9327-1fb91f7d277a",
   "metadata": {},
   "source": [
    "A quantile is a value that divides a probability distribution (or dataset) into intervals with equal probabilities.  \n",
    "In other words, if you sort your data in increasing order, quantiles are the \"cut points\" that split the data into equally sized subsets."
   ]
  },
  {
   "cell_type": "markdown",
   "id": "5c00ccdc-062b-465b-96ad-d691be714333",
   "metadata": {},
   "source": [
    "1. Quantiles break data into equal parts. Some popular Quantiles are Percentiles, Quartiles and Deciles.\n",
    "2. **Quartiles** are a special type of Quantiles that break data into **4 equal parts**.\n",
    "3. **Percentiles** are a type of Quantiles that break data into **100 equal parts**."
   ]
  },
  {
   "cell_type": "markdown",
   "id": "43a930e3-b9de-405f-89c0-150bc7098155",
   "metadata": {},
   "source": [
    "### 3.2 Inter-Quartile Range (IQR)"
   ]
  },
  {
   "cell_type": "markdown",
   "id": "98d5d7a3-dd82-4e35-86ab-a432047f975b",
   "metadata": {},
   "source": [
    "#### Definition"
   ]
  },
  {
   "cell_type": "markdown",
   "id": "60fb62fe-0b23-4eb4-a65f-e27bb738313d",
   "metadata": {},
   "source": [
    "1. IQR is difference between 75th and 25th percentile.\n",
    "2. IQR measures the statistical dispersion i.e., it describes the spread in the data.\n",
    "3. IQR is median-based measure of spread, i.e., it tells us how far the data-points are from the Median."
   ]
  },
  {
   "cell_type": "markdown",
   "id": "2de48280-b197-44d8-aa52-98d269f840c2",
   "metadata": {},
   "source": [
    "* Q1 25th percentile\n",
    "* Q2 50th percentile (aka median)\n",
    "* Q3 75th percentile"
   ]
  },
  {
   "cell_type": "markdown",
   "id": "7fc0832a-bc57-4689-bd2a-5f5a63953a3f",
   "metadata": {},
   "source": [
    "#### Formula"
   ]
  },
  {
   "cell_type": "markdown",
   "id": "c6fd8d00-a4f4-47db-9eae-b163c3a15858",
   "metadata": {},
   "source": [
    "$\\text{IQR} = \\text{Q3} - \\text{Q1}$"
   ]
  },
  {
   "cell_type": "markdown",
   "id": "354c944c-0fef-4c7c-8bdd-086ecd3506c7",
   "metadata": {},
   "source": [
    "> **Note**:\n",
    "> \n",
    "> 1. Larger the IQR higher the spread in data aka variance.\n",
    "> 2. IQR uses **Median as central tendency** (center of data)."
   ]
  },
  {
   "cell_type": "markdown",
   "id": "6f1e6f99-e7f2-4811-adb9-ce23726c2122",
   "metadata": {},
   "source": [
    "### 3.3 Variance"
   ]
  },
  {
   "cell_type": "markdown",
   "id": "56c69d0a-13fd-4d1f-a6f9-8dbb5a6fca17",
   "metadata": {
    "jp-MarkdownHeadingCollapsed": true
   },
   "source": [
    "#### Definition"
   ]
  },
  {
   "cell_type": "markdown",
   "id": "7389cf12-fe45-43ca-809d-f59302b12668",
   "metadata": {},
   "source": [
    "1. Average of square of distance from mean.\n",
    "2. Variance measures the statistical dispersion i.e., it describes the spread in the data.\n",
    "3. Variance is mean-based measure of spread i.e., it tell us how far the data-points are from the Mean."
   ]
  },
  {
   "cell_type": "markdown",
   "id": "e378692d-0696-42e1-83be-9d05bdf2abe0",
   "metadata": {},
   "source": [
    "#### Formula"
   ]
  },
  {
   "cell_type": "markdown",
   "id": "fdad56d0-c01e-474d-bae9-1809edfe5886",
   "metadata": {},
   "source": [
    "$\n",
    "\\large\n",
    "\\begin{align}\n",
    "\\sigma^2 = \\frac{1}{n} \\sum_{i=1}^{n} (x_i - \\mu)^2\n",
    "\\end{align}\n",
    "$"
   ]
  },
  {
   "cell_type": "markdown",
   "id": "666bb2aa-33e5-4db4-8a06-e4972de38af8",
   "metadata": {},
   "source": [
    "> **Note**:\n",
    ">\n",
    "> 1. Lesser the Variance in dataset its better.\n",
    "> 2. Variance uses **Mean as central tendency** (center of data)."
   ]
  },
  {
   "cell_type": "markdown",
   "id": "67573790-42a4-44f7-ab72-3e04e91b3db2",
   "metadata": {},
   "source": [
    "### 3.4 Standard Deviation"
   ]
  },
  {
   "cell_type": "markdown",
   "id": "f119aa39-f847-4176-8361-214fa226059d",
   "metadata": {},
   "source": [
    "#### Definition"
   ]
  },
  {
   "cell_type": "markdown",
   "id": "be40d664-162b-4b6b-80cd-b8d3dae20bd8",
   "metadata": {},
   "source": [
    "Standard Deviation is square root of Variance."
   ]
  },
  {
   "cell_type": "markdown",
   "id": "cebc8790-7f2f-44ab-957d-a83589a2fb0e",
   "metadata": {},
   "source": [
    "#### Formula"
   ]
  },
  {
   "cell_type": "markdown",
   "id": "98fb9205-2a05-4ee9-ae90-60822bcb3b9e",
   "metadata": {},
   "source": [
    "$\\text{Standard Deviation} = \\sqrt{\\text{Variance}}$\n",
    "\n",
    "or\n",
    "\n",
    "$\n",
    "\\large\n",
    "\\begin{align}\n",
    "\\sigma = \\sqrt{\\frac{1}{n} \\sum_{i=1}^{n} (x_i - \\mu)^2}\n",
    "\\end{align}\n",
    "$"
   ]
  },
  {
   "cell_type": "markdown",
   "id": "0cfc4563-ae75-4131-9b47-5c5b4fdd5c0f",
   "metadata": {},
   "source": [
    "> **Note**:\n",
    ">\n",
    "> Lesser the Standard Deviation in dataset its better."
   ]
  }
 ],
 "metadata": {
  "kernelspec": {
   "display_name": "Python 3 (ipykernel)",
   "language": "python",
   "name": "python3"
  },
  "language_info": {
   "codemirror_mode": {
    "name": "ipython",
    "version": 3
   },
   "file_extension": ".py",
   "mimetype": "text/x-python",
   "name": "python",
   "nbconvert_exporter": "python",
   "pygments_lexer": "ipython3",
   "version": "3.12.6"
  }
 },
 "nbformat": 4,
 "nbformat_minor": 5
}
