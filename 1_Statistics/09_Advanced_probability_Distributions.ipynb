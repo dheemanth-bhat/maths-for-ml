{
 "cells": [
  {
   "cell_type": "markdown",
   "id": "f52e1e73-d216-4c09-8225-5a8615f65dca",
   "metadata": {},
   "source": [
    "## 1 Advanced Probability Distributions"
   ]
  },
  {
   "cell_type": "markdown",
   "id": "5a8bc966-4295-4312-8009-d5246a817d64",
   "metadata": {},
   "source": [
    "1. Log Normal Distribution\n",
    "2. Poison Distribution\n",
    "3. Exponential Distribution\n",
    "4. Geometric Distribution"
   ]
  },
  {
   "cell_type": "markdown",
   "id": "3edaeadb-4266-4089-95e3-b6e5310d1902",
   "metadata": {},
   "source": [
    "## 2 Log Normal Distribution"
   ]
  },
  {
   "cell_type": "code",
   "execution_count": null,
   "id": "a122e18a-3aa7-4bb1-8e95-615d75f3a374",
   "metadata": {},
   "outputs": [],
   "source": []
  },
  {
   "cell_type": "markdown",
   "id": "d34c3393-b442-480d-a7a9-f10bedfebb10",
   "metadata": {},
   "source": [
    "## 3 Poison Distribution"
   ]
  },
  {
   "cell_type": "markdown",
   "id": "78b63c52-8b5e-4186-9814-e730af6b56c9",
   "metadata": {},
   "source": [
    "### 3.1 What is Poison Distribution?"
   ]
  },
  {
   "cell_type": "markdown",
   "id": "25cbfbc6-3451-4722-a632-ef8030320c62",
   "metadata": {},
   "source": [
    "#### Definition"
   ]
  },
  {
   "cell_type": "markdown",
   "id": "6308b62e-a54d-4463-88d8-17bed1b51256",
   "metadata": {},
   "source": [
    "1. Poisson distribution models the **number of events in a fixed interval of time**.\n",
    "2. Poison Distribution is a Discrete Distribution."
   ]
  },
  {
   "cell_type": "markdown",
   "id": "a640a19a-7a25-4cde-87a7-26ee86aa5aaf",
   "metadata": {},
   "source": [
    "#### Variables"
   ]
  },
  {
   "cell_type": "markdown",
   "id": "38ee3592-220f-47ff-b061-9755c8442ba2",
   "metadata": {},
   "source": [
    "1. Fixed interval\n",
    "2. Average rate ($\\lambda$)"
   ]
  },
  {
   "cell_type": "markdown",
   "id": "164ef2a1-2711-40ab-ad2a-e8a2cf78bcc0",
   "metadata": {},
   "source": [
    "#### Formula"
   ]
  },
  {
   "cell_type": "markdown",
   "id": "173f2c26-d496-4675-a374-5d2597779f32",
   "metadata": {},
   "source": [
    "$\n",
    "\\begin{align}\n",
    "\\large\n",
    "P(x = k) = \\frac{\\lambda^k \\cdot e^{-\\lambda}}{k!}\n",
    "\\end{align}\n",
    "$"
   ]
  },
  {
   "cell_type": "markdown",
   "id": "d0ac9cdf-657f-4166-9311-705adc25dd7f",
   "metadata": {},
   "source": [
    "#### Expected Value"
   ]
  },
  {
   "cell_type": "markdown",
   "id": "13cc0018-82fe-43e1-9d7c-ad5d7249ea8b",
   "metadata": {},
   "source": [
    "$\n",
    "\\large\n",
    "\\begin{align}\n",
    "E[X] = \\lambda\n",
    "\\end{align}\n",
    "$"
   ]
  },
  {
   "cell_type": "markdown",
   "id": "b80c4206-8a0c-44e9-881d-fcbd75333c83",
   "metadata": {},
   "source": [
    "#### Properties"
   ]
  },
  {
   "cell_type": "markdown",
   "id": "6318b5c4-aef3-4c98-8635-7e670e494539",
   "metadata": {},
   "source": [
    "1. As lambda increases the variance (spread in the data) increases.\n",
    "2. As lambda increases distribution tends to be closer to normal distribution."
   ]
  },
  {
   "cell_type": "markdown",
   "id": "9b5e6aff-1897-4198-96b7-2e8887569e74",
   "metadata": {},
   "source": [
    "### 3.2 Examples"
   ]
  },
  {
   "cell_type": "code",
   "execution_count": 1,
   "id": "2d38472a-f100-4cd3-bce6-861e34a431e2",
   "metadata": {},
   "outputs": [],
   "source": [
    "import math\n",
    "from fractions import Fraction as F\n",
    "import numpy as np\n",
    "from scipy import stats"
   ]
  },
  {
   "cell_type": "markdown",
   "id": "e60ab250-909f-459a-91e1-7f039b95a1d6",
   "metadata": {},
   "source": [
    "#### Quiz #1"
   ]
  },
  {
   "cell_type": "markdown",
   "id": "5e49f340-2cb4-4fab-ba40-3731ee37b578",
   "metadata": {},
   "source": [
    "In 1 hr time 10 cars have passed through a toll booth:\n",
    "\n",
    "1. What is the probability of exactly 25 vehicles passing through the toll booth in next 1 hr?\n",
    "2. What is the probability of more than 40 vehicles passing through the toll booth in next 1 hr?"
   ]
  },
  {
   "cell_type": "markdown",
   "id": "31a16601-ae06-4e3a-9628-b529cf89aec1",
   "metadata": {},
   "source": [
    "##### Solution"
   ]
  },
  {
   "cell_type": "code",
   "execution_count": 2,
   "id": "bf44916e-a21c-4358-b859-fd6d0597849e",
   "metadata": {},
   "outputs": [],
   "source": [
    "mu = 10\n",
    "k = 25\n",
    "e = 2.71"
   ]
  },
  {
   "cell_type": "code",
   "execution_count": 3,
   "id": "32b0f50a-e884-44e4-863b-739e42652476",
   "metadata": {},
   "outputs": [
    {
     "data": {
      "text/plain": [
       "3.01759820292243e-05"
      ]
     },
     "execution_count": 3,
     "metadata": {},
     "output_type": "execute_result"
    }
   ],
   "source": [
    "((mu**k) * (e ** (-mu))) / math.factorial(k)"
   ]
  },
  {
   "cell_type": "code",
   "execution_count": 4,
   "id": "9d589721-a56a-4f8f-a6a8-b77e696b22e4",
   "metadata": {},
   "outputs": [],
   "source": [
    "# Find(x = 25)\n",
    "x = 25"
   ]
  },
  {
   "cell_type": "code",
   "execution_count": 5,
   "id": "1a2802ad-7b7e-4577-9783-1ef573fcbca1",
   "metadata": {},
   "outputs": [
    {
     "data": {
      "text/plain": [
       "0.0"
      ]
     },
     "execution_count": 5,
     "metadata": {},
     "output_type": "execute_result"
    }
   ],
   "source": [
    "p_x_25 = stats.poisson.pmf(k=x, mu=mu)\n",
    "p_x_25.round(4).item()"
   ]
  },
  {
   "cell_type": "code",
   "execution_count": 6,
   "id": "b2c4d906-91b9-4f61-aa95-db5b779e90b2",
   "metadata": {},
   "outputs": [],
   "source": [
    "# Find: P(x >= 40)\n",
    "# 1 - P(x <= 39)\n",
    "x = 39"
   ]
  },
  {
   "cell_type": "code",
   "execution_count": 7,
   "id": "c9d5065c-5059-4101-8706-701e4d4333d0",
   "metadata": {},
   "outputs": [
    {
     "data": {
      "text/plain": [
       "0.0"
      ]
     },
     "execution_count": 7,
     "metadata": {},
     "output_type": "execute_result"
    }
   ],
   "source": [
    "p_x_ge_40 = 1 - stats.poisson.cdf(k=x, mu=mu)\n",
    "p_x_ge_40.round(4).item()"
   ]
  },
  {
   "cell_type": "markdown",
   "id": "ded0d2fb-03c4-4864-aab1-42bf5dcd92f7",
   "metadata": {},
   "source": [
    "What is the prob of exactly 20 errors in log file for a particular server in the next 10 hours?"
   ]
  },
  {
   "cell_type": "markdown",
   "id": "30698f8a-dcdc-4414-986d-f98b2edaa6c2",
   "metadata": {},
   "source": [
    "> **Note**:\n",
    ">\n",
    "> Question is missing information to determine rate hence taking a random value of 5 errors in 1 hour."
   ]
  },
  {
   "cell_type": "code",
   "execution_count": 8,
   "id": "4e77ce1d-4c93-42ab-bd43-5769988b947e",
   "metadata": {},
   "outputs": [],
   "source": [
    "#  1hr -> 5\n",
    "# 10hr -> ?\n",
    "\n",
    "mu = 10 * 3\n",
    "k = 20\n",
    "e = 2.71"
   ]
  },
  {
   "cell_type": "code",
   "execution_count": 9,
   "id": "6716e9e5-3616-4137-9186-4b6edbd38c88",
   "metadata": {},
   "outputs": [
    {
     "data": {
      "text/plain": [
       "0.0147"
      ]
     },
     "execution_count": 9,
     "metadata": {},
     "output_type": "execute_result"
    }
   ],
   "source": [
    "p_x_20 = ((mu**k) * (e ** (-mu))) / math.factorial(k)\n",
    "round(p_x_20, 4)"
   ]
  },
  {
   "cell_type": "markdown",
   "id": "f58e8b09-72b7-46e5-a5c4-da53f324b72f",
   "metadata": {},
   "source": [
    "#### Quiz #2"
   ]
  },
  {
   "cell_type": "markdown",
   "id": "23f7f232-78be-4c64-a09c-d80c567c5412",
   "metadata": {},
   "source": [
    "Suppose a particular hospital experiences an average of 2 births per hour.  \n",
    "We can use the formula above to determine the probability of experiencing 0, 1, 2, 3 births, etc. in a given hour:"
   ]
  },
  {
   "cell_type": "markdown",
   "id": "07e2d2bc-6a96-44c9-bef3-15034fa8d21e",
   "metadata": {},
   "source": [
    "##### Solution"
   ]
  },
  {
   "cell_type": "code",
   "execution_count": 10,
   "id": "40e13e67-8d53-4b9f-b845-e89dc7a8c788",
   "metadata": {},
   "outputs": [],
   "source": [
    "mu = 2  # Birth rate\n",
    "# k = 0, 1, 2, 3"
   ]
  },
  {
   "cell_type": "code",
   "execution_count": 11,
   "id": "a0c7f309-5b2b-49b6-9db6-1166cf06501a",
   "metadata": {},
   "outputs": [
    {
     "data": {
      "text/plain": [
       "0.1353"
      ]
     },
     "execution_count": 11,
     "metadata": {},
     "output_type": "execute_result"
    }
   ],
   "source": [
    "p_x_0 = stats.poisson.pmf(k=0, mu=mu)\n",
    "p_x_0.round(4).item()"
   ]
  },
  {
   "cell_type": "code",
   "execution_count": 12,
   "id": "f61835a9-f6cb-4356-8465-11197e908498",
   "metadata": {},
   "outputs": [
    {
     "data": {
      "text/plain": [
       "0.2707"
      ]
     },
     "execution_count": 12,
     "metadata": {},
     "output_type": "execute_result"
    }
   ],
   "source": [
    "p_x_1 = stats.poisson.pmf(k=1, mu=mu)\n",
    "p_x_1.round(4).item()"
   ]
  },
  {
   "cell_type": "code",
   "execution_count": 13,
   "id": "0c19bcc3-ab88-4616-9660-039164721bc0",
   "metadata": {},
   "outputs": [
    {
     "data": {
      "text/plain": [
       "0.2707"
      ]
     },
     "execution_count": 13,
     "metadata": {},
     "output_type": "execute_result"
    }
   ],
   "source": [
    "p_x_2 = stats.poisson.pmf(k=2, mu=mu)\n",
    "p_x_2.round(4).item()"
   ]
  },
  {
   "cell_type": "code",
   "execution_count": 14,
   "id": "702d9276-4699-49f9-9cab-aaf32ec70318",
   "metadata": {},
   "outputs": [
    {
     "data": {
      "text/plain": [
       "0.1804"
      ]
     },
     "execution_count": 14,
     "metadata": {},
     "output_type": "execute_result"
    }
   ],
   "source": [
    "p_x_3 = stats.poisson.pmf(k=3, mu=mu)\n",
    "p_x_3.round(4).item()"
   ]
  },
  {
   "cell_type": "markdown",
   "id": "0ad69b89-e0e9-4764-aba6-73463dda52c8",
   "metadata": {},
   "source": [
    "#### Quiz #3"
   ]
  },
  {
   "cell_type": "markdown",
   "id": "69284511-909e-4c64-ab24-79874e490279",
   "metadata": {},
   "source": [
    "Imagine we have collected data for all the football matches ever happened, now we want to analyze the distribution of goals.  \n",
    "We observe that the average goal per 90 mins match is 2.5, So the rate will be 2.5 goals per match (λ = 2.5)."
   ]
  },
  {
   "cell_type": "markdown",
   "id": "bb784de6-7188-4ec0-8fb2-b7b33b522aa8",
   "metadata": {},
   "source": [
    "1. If I want to know the probability of getting 1 goal in last 30 mins?"
   ]
  },
  {
   "cell_type": "markdown",
   "id": "217fd13b-4a5d-4479-8783-038e52320a3c",
   "metadata": {},
   "source": [
    "##### Solution"
   ]
  },
  {
   "cell_type": "code",
   "execution_count": 15,
   "id": "58e3b4d3-1b97-4c43-839e-d105b7727f51",
   "metadata": {},
   "outputs": [],
   "source": [
    "# 90min -> 2.5\n",
    "# 30min -> ?\n",
    "mu = 30 * 2.5 / 90\n",
    "\n",
    "# Find: P(x = 1)\n",
    "x = 1"
   ]
  },
  {
   "cell_type": "code",
   "execution_count": 16,
   "id": "a8a61690-c9dd-41ad-9d27-4e59fd135a56",
   "metadata": {},
   "outputs": [
    {
     "data": {
      "text/plain": [
       "0.3622"
      ]
     },
     "execution_count": 16,
     "metadata": {},
     "output_type": "execute_result"
    }
   ],
   "source": [
    "p_x_1 = stats.poisson.pmf(k=x, mu=mu)\n",
    "p_x_1.round(4).item()"
   ]
  },
  {
   "cell_type": "markdown",
   "id": "46458c10-22a3-4d3a-9082-61d086ffd008",
   "metadata": {},
   "source": [
    "#### Quiz #4"
   ]
  },
  {
   "cell_type": "markdown",
   "id": "24978469-ec22-4520-bbc9-50b2420f0833",
   "metadata": {},
   "source": [
    "The shop is open for 8 hours. The average number of customers is 74 - assume Poisson distributed.\n",
    "\n",
    "1. What is the probability that in 2 hours, there will be at most 15 customers?\n",
    "2. What is the probability that in 2 hours, there will be at least 7 customers?"
   ]
  },
  {
   "cell_type": "markdown",
   "id": "e5d97a31-f629-4bf4-a0ca-7b609ec6a7a0",
   "metadata": {},
   "source": [
    "##### Solution"
   ]
  },
  {
   "cell_type": "code",
   "execution_count": 17,
   "id": "c2291e85-89d7-4a91-b632-dd48b9f28c8d",
   "metadata": {},
   "outputs": [],
   "source": [
    "# 8hrs -> 74\n",
    "# 2hrs -> ?\n",
    "mu = 2 * 74 / 8\n",
    "\n",
    "# Find: P(x <= 15)\n",
    "x = 15"
   ]
  },
  {
   "cell_type": "code",
   "execution_count": 18,
   "id": "e617c251-7d91-4fe2-a348-ad3d06e9b271",
   "metadata": {},
   "outputs": [
    {
     "data": {
      "text/plain": [
       "0.249"
      ]
     },
     "execution_count": 18,
     "metadata": {},
     "output_type": "execute_result"
    }
   ],
   "source": [
    "p_x_le_15 = stats.poisson.cdf(k=x, mu=mu)\n",
    "p_x_le_15.round(4).item()"
   ]
  },
  {
   "cell_type": "code",
   "execution_count": 19,
   "id": "34fd9d1c-6aaf-45fd-af80-ee523f9e872e",
   "metadata": {},
   "outputs": [],
   "source": [
    "# Find: P(k >= 7)\n",
    "# 1 - P(k <= 6)\n",
    "x = 6"
   ]
  },
  {
   "cell_type": "code",
   "execution_count": 20,
   "id": "971c7c98-c1a5-488d-92e6-ffd211526b9f",
   "metadata": {},
   "outputs": [
    {
     "data": {
      "text/plain": [
       "0.9993"
      ]
     },
     "execution_count": 20,
     "metadata": {},
     "output_type": "execute_result"
    }
   ],
   "source": [
    "p_x_le_6 = 1 - stats.poisson.cdf(k=x, mu=mu)\n",
    "p_x_le_6.round(4).item()"
   ]
  },
  {
   "cell_type": "markdown",
   "id": "c92e63d9-4c5b-415d-aaf9-fdcb6e4b14c0",
   "metadata": {},
   "source": [
    "#### Quiz #5"
   ]
  },
  {
   "cell_type": "markdown",
   "id": "bb5ab311-532a-41c1-8aa2-dd1c382586f6",
   "metadata": {},
   "source": [
    "It is known that a certain website makes 10 sales per hour.  \n",
    "In a given hour, what is the probability that the site makes exactly 8 sales?"
   ]
  },
  {
   "cell_type": "markdown",
   "id": "4d3324e7-3e0a-471e-b720-ec543e5fc756",
   "metadata": {},
   "source": [
    "##### Solution"
   ]
  },
  {
   "cell_type": "code",
   "execution_count": 21,
   "id": "355f9b32-3f6d-4e38-ac93-17d8bec6db2a",
   "metadata": {},
   "outputs": [],
   "source": [
    "mu = 10\n",
    "k = 8"
   ]
  },
  {
   "cell_type": "code",
   "execution_count": 22,
   "id": "01540e34-cd1d-4240-9583-89e2a2f2e4d3",
   "metadata": {},
   "outputs": [
    {
     "data": {
      "text/plain": [
       "0.1126"
      ]
     },
     "execution_count": 22,
     "metadata": {},
     "output_type": "execute_result"
    }
   ],
   "source": [
    "stats.poisson.pmf(mu=mu, k=k).round(4).item()"
   ]
  },
  {
   "cell_type": "markdown",
   "id": "d17079c5-b87c-4e5f-8031-34d7284bfb49",
   "metadata": {},
   "source": [
    "### 3.3 Poisson approximation to Binomial"
   ]
  },
  {
   "cell_type": "markdown",
   "id": "a7e594f3-6139-479b-bf7a-b7943e5e35b4",
   "metadata": {},
   "source": [
    "#### Conditions for Poisson approximation to Binomial"
   ]
  },
  {
   "cell_type": "markdown",
   "id": "1521a24c-ed20-46d3-acc3-f209a1750515",
   "metadata": {},
   "source": [
    "The Binomial distribution converges towards the Poisson distribution as the number of trials $n$ goes to infinity while the product $n \\cdot p$ converges to a finite limit.   \n",
    "Therefore, the Poisson distribution with parameter $\\lambda = n \\cdot p$ can be used as an approximation to $B(n, p)$ of the binomial distribution   \n",
    "**if $n$ is sufficiently large and $p$ is sufficiently small**.\n",
    "\n",
    "For a reasonable approximation:  \n",
    "\n",
    "- if $n \\geq 20$ and $p \\leq 0.05$ such that $n \\cdot p \\leq 1$\n",
    "- or if $n > 50$ and $p < 0.1$ such that $n \\cdot p < 5$\n",
    "- or if $n \\geq 100$ and $n \\cdot p \\leq 10$.\n",
    "\n",
    "If the above conditions met the we can use the Poisson distribution to estimate the probabilities of different event counts.  "
   ]
  },
  {
   "cell_type": "markdown",
   "id": "6361104a-0007-426c-90e0-2e3dff31da0d",
   "metadata": {},
   "source": [
    "### 3.4 Examples"
   ]
  },
  {
   "cell_type": "markdown",
   "id": "4f9581b3-fef1-497b-98d5-1f43fe405947",
   "metadata": {},
   "source": [
    "#### Quiz #1"
   ]
  },
  {
   "cell_type": "markdown",
   "id": "42e50e28-1345-4392-b174-a3e3b7ed9eba",
   "metadata": {},
   "source": [
    "There are 80 students in a kinder garden class.  \n",
    "Each one of them has 0.015 probability of forgetting their lunch on any given day.\n",
    "\n",
    "1. What is the average or expected number of students who forgot lunch in the class?  \n",
    "2. What is the probability that exactly 3 of them will forget their lunch today?"
   ]
  },
  {
   "cell_type": "markdown",
   "id": "a87909f2-0ed0-4adc-960d-2a8a4d7ef77a",
   "metadata": {},
   "source": [
    "##### Solution"
   ]
  },
  {
   "cell_type": "code",
   "execution_count": 23,
   "id": "3fa4ce1f-05c8-498a-84fa-0c43f9c0ec7e",
   "metadata": {},
   "outputs": [],
   "source": [
    "n = 80\n",
    "p = 0.015\n",
    "mu = 1.2\n",
    "\n",
    "# Find: P(x = 3)\n",
    "x = 3"
   ]
  },
  {
   "cell_type": "code",
   "execution_count": 24,
   "id": "567cdedc-38bd-49b4-b321-c57e1f388d3c",
   "metadata": {},
   "outputs": [
    {
     "data": {
      "text/plain": [
       "1.2"
      ]
     },
     "execution_count": 24,
     "metadata": {},
     "output_type": "execute_result"
    }
   ],
   "source": [
    "exp = n * p\n",
    "exp"
   ]
  },
  {
   "cell_type": "code",
   "execution_count": 25,
   "id": "e93640a7-848c-455e-87fd-4e789707428d",
   "metadata": {},
   "outputs": [
    {
     "data": {
      "text/plain": [
       "0.0867"
      ]
     },
     "execution_count": 25,
     "metadata": {},
     "output_type": "execute_result"
    }
   ],
   "source": [
    "stats.poisson.pmf(mu=mu, k=x).round(4).item()"
   ]
  },
  {
   "cell_type": "markdown",
   "id": "cac8cd51-4adf-4893-ae9b-4f6337576e7f",
   "metadata": {},
   "source": [
    "Poisson approximation to Binomial Distribution."
   ]
  },
  {
   "cell_type": "markdown",
   "id": "4c7f8fb2-80c4-4153-adf0-d87f53f1206d",
   "metadata": {},
   "source": [
    "So, **in the context of our problem**, $n = 80$ and $p = 0.015$, the conditions $n \\cdot p < 10$ and $p \\leq 0.1$ are satisfied.  \n",
    "We can use the Poisson distribution with $\\lambda = 80 * 0.015$ as an approximation to the Binomial Distribution."
   ]
  },
  {
   "cell_type": "code",
   "execution_count": 26,
   "id": "df80b4ee-b5fa-4b59-9838-b4826c6013a6",
   "metadata": {},
   "outputs": [],
   "source": [
    "n = 80\n",
    "p = 0.015"
   ]
  },
  {
   "cell_type": "code",
   "execution_count": 27,
   "id": "4f6501ea-2c1e-4d95-b3b0-2e6c8d9e0a56",
   "metadata": {},
   "outputs": [
    {
     "data": {
      "text/plain": [
       "0.0866"
      ]
     },
     "execution_count": 27,
     "metadata": {},
     "output_type": "execute_result"
    }
   ],
   "source": [
    "stats.binom.pmf(k=x, n=n, p=p).round(4).item()"
   ]
  },
  {
   "cell_type": "markdown",
   "id": "b49a610f-e45b-4a07-9cb7-3c94d79577c9",
   "metadata": {},
   "source": [
    "#### Quiz #2"
   ]
  },
  {
   "cell_type": "markdown",
   "id": "b0304d9c-34ca-49b2-a042-b287a101e7f2",
   "metadata": {},
   "source": [
    "You receive 240 messages per hour on average - assume Poisson distributed.  \n",
    "Rate of messages arriving per second is (1/15).  \n",
    "\n",
    "What is the probability of having no message in 10 seconds?"
   ]
  },
  {
   "cell_type": "markdown",
   "id": "ec6deefd-e5ea-4562-a257-78cdec052a1f",
   "metadata": {},
   "source": [
    "##### Solution"
   ]
  },
  {
   "cell_type": "markdown",
   "id": "4e6616e5-7a2f-4fde-b0be-65c7bc6857e4",
   "metadata": {},
   "source": [
    "Verify rate:"
   ]
  },
  {
   "cell_type": "code",
   "execution_count": 28,
   "id": "d4cf2581-d306-4736-af1b-c8e8beb746cf",
   "metadata": {},
   "outputs": [
    {
     "name": "stdout",
     "output_type": "stream",
     "text": [
      "1/15\n"
     ]
    }
   ],
   "source": [
    "# 3600 -> 240\n",
    "#    1 -> ?\n",
    "print(F(240, 3600))\n",
    "mu = 1 / 15"
   ]
  },
  {
   "cell_type": "code",
   "execution_count": 29,
   "id": "c304c138-8411-4455-805b-b025ba1d6451",
   "metadata": {},
   "outputs": [],
   "source": [
    "#  1 -> 1/15\n",
    "# 10 -> ?\n",
    "mu = 10 * (1 / 15)\n",
    "\n",
    "# Find: P(x = 0)\n",
    "x = 0"
   ]
  },
  {
   "cell_type": "code",
   "execution_count": 30,
   "id": "bb605bb7-c263-4177-8fc1-a93627b6f35e",
   "metadata": {},
   "outputs": [
    {
     "data": {
      "text/plain": [
       "0.5134"
      ]
     },
     "execution_count": 30,
     "metadata": {},
     "output_type": "execute_result"
    }
   ],
   "source": [
    "p_x_0 = stats.poisson.pmf(mu=mu, k=x)\n",
    "p_x_0.round(4).item()"
   ]
  },
  {
   "cell_type": "markdown",
   "id": "378a3c59-2d3c-4b25-87e7-8321ce2c09f3",
   "metadata": {},
   "source": [
    "## 4 Exponential Distribution"
   ]
  },
  {
   "cell_type": "markdown",
   "id": "5a08ddfa-28d6-4fac-bfb6-6128759e5372",
   "metadata": {},
   "source": [
    "### Definition"
   ]
  },
  {
   "cell_type": "markdown",
   "id": "0a9e27f4-25f5-4c66-a8f2-27058e9b915c",
   "metadata": {},
   "source": [
    "1. Exponential distribution models the **time between consecutive events**.\n",
    "2. Exponential distribution is a Continuous Distribution."
   ]
  },
  {
   "cell_type": "markdown",
   "id": "769ec5db-c361-4759-bb55-c7c8cc61d5c7",
   "metadata": {},
   "source": [
    "### Formula"
   ]
  },
  {
   "cell_type": "markdown",
   "id": "7995ce27-60e2-4ae6-8e3a-fc87630c5d53",
   "metadata": {},
   "source": [
    "$\n",
    "\\begin{align}\n",
    "\\large\n",
    "P(T \\le x) = 1 - e^{-\\lambda x}\n",
    "\\end{align}\n",
    "$"
   ]
  },
  {
   "cell_type": "markdown",
   "id": "a6752110-7707-4e30-96ee-f78565bf048d",
   "metadata": {},
   "source": [
    "$\n",
    "\\begin{align}\n",
    "\\large\n",
    "P(x, \\lambda) = \\lambda \\cdot e^{-\\lambda x}\n",
    "\\end{align}\n",
    "$"
   ]
  },
  {
   "cell_type": "markdown",
   "id": "689e9bec-59da-49e0-817f-ffa05aa31adc",
   "metadata": {},
   "source": [
    "#### Scale"
   ]
  },
  {
   "cell_type": "markdown",
   "id": "e305e90f-c0ca-4037-83c8-5de54feb2245",
   "metadata": {},
   "source": [
    "$\n",
    "\\begin{align}\n",
    "\\beta = \\frac{1}{\\lambda}\n",
    "\\end{align}\n",
    "$"
   ]
  },
  {
   "cell_type": "markdown",
   "id": "54ff1b7e-8d01-4ad6-a396-c7c2bc9d9d77",
   "metadata": {},
   "source": [
    "#### Rate"
   ]
  },
  {
   "cell_type": "markdown",
   "id": "5b3fa7ee-4a62-4441-9a47-69b018c937fb",
   "metadata": {},
   "source": [
    "$\n",
    "\\begin{align}\n",
    "\\lambda = \\frac{1}{\\beta}\n",
    "\\end{align}\n",
    "$"
   ]
  },
  {
   "cell_type": "markdown",
   "id": "d9dc8e84-34bc-4c4e-a2cf-759f16a1b9ca",
   "metadata": {},
   "source": [
    "#### Expected Value"
   ]
  },
  {
   "cell_type": "markdown",
   "id": "9716588a-ca1f-41cf-8125-36da8ad3e225",
   "metadata": {},
   "source": [
    "$\n",
    "\\large\n",
    "\\begin{align}\n",
    "E[X] = \\beta = \\frac{1}{\\lambda}\n",
    "\\end{align}\n",
    "$"
   ]
  },
  {
   "cell_type": "markdown",
   "id": "03d37bdc-072c-457f-8e26-c9ed176a353d",
   "metadata": {},
   "source": [
    "### Examples"
   ]
  },
  {
   "cell_type": "markdown",
   "id": "77671c27-ec5e-48ad-bd0c-3a0e43564eed",
   "metadata": {},
   "source": [
    "#### Quiz #1"
   ]
  },
  {
   "cell_type": "markdown",
   "id": "bc4a10f0-1618-4b4b-a096-61000ece5ca8",
   "metadata": {},
   "source": [
    "You receive 240 messages per hour on average - assume Poisson distributed.  \n",
    "Rate of messages arriving per second is (1/15)\n",
    "\n",
    "What is the probability of waiting for more than 10 seconds for the next message?"
   ]
  },
  {
   "cell_type": "markdown",
   "id": "c557be7e-efa9-4bba-baf6-a7bb1347a553",
   "metadata": {},
   "source": [
    "##### Solution"
   ]
  },
  {
   "cell_type": "code",
   "execution_count": 31,
   "id": "c0653075-9218-4214-b912-a3a7fbe72ac7",
   "metadata": {},
   "outputs": [],
   "source": [
    "mu = 1 / 15\n",
    "scale = 1 / mu\n",
    "\n",
    "# Find: P(x > 10)\n",
    "# 1 - P(x < 10)\n",
    "x = 10"
   ]
  },
  {
   "cell_type": "code",
   "execution_count": 32,
   "id": "9a31a840-9ab4-4a29-8c56-8330e9982475",
   "metadata": {},
   "outputs": [
    {
     "data": {
      "text/plain": [
       "0.5134"
      ]
     },
     "execution_count": 32,
     "metadata": {},
     "output_type": "execute_result"
    }
   ],
   "source": [
    "p_x_gt_10 = 1 - stats.expon.cdf(x=x, scale=scale)\n",
    "p_x_gt_10.round(4).item()"
   ]
  },
  {
   "cell_type": "markdown",
   "id": "0f6d9167-8785-42cc-8d4e-789636491ea8",
   "metadata": {},
   "source": [
    "#### Quiz #2"
   ]
  },
  {
   "cell_type": "markdown",
   "id": "8f994eba-d995-4c0e-a53a-f932d647939d",
   "metadata": {},
   "source": [
    "You are working as a data engineer who has to resolve any bugs/failures of machine learning models in production.  \n",
    "The time taken to debug is exponentially distributed with mean of 5 minutes.  "
   ]
  },
  {
   "cell_type": "markdown",
   "id": "743ce740-ce35-4d4e-8e78-29a401a90e0d",
   "metadata": {},
   "source": [
    "Find the probability of debugging in 4 to 5 minutes?"
   ]
  },
  {
   "cell_type": "markdown",
   "id": "1e3a9224-ab78-4c23-b7d6-1f13609022a6",
   "metadata": {},
   "source": [
    "##### Solution"
   ]
  },
  {
   "cell_type": "markdown",
   "id": "e93a2449-44c0-40a5-b439-0e9d9ea54552",
   "metadata": {},
   "source": [
    "how many bugs solved in 1 min?  \n",
    "One bug in 5 mins  \n",
    "&nbsp;&nbsp;?&nbsp;&nbsp;&nbsp; bug in 1 min "
   ]
  },
  {
   "cell_type": "code",
   "execution_count": 33,
   "id": "926cb31a-c3c8-406d-942c-21110dddea9a",
   "metadata": {},
   "outputs": [],
   "source": [
    "# 5mins -> 1 bug\n",
    "# 1mins -> ?\n",
    "mu = 1 / 5\n",
    "scale = 1 / mu\n",
    "\n",
    "# Find P(x = 5) - P(x = 4)\n",
    "# x = 4, 5"
   ]
  },
  {
   "cell_type": "code",
   "execution_count": 34,
   "id": "726e7b34-7747-4831-a7b8-4ef429d9a331",
   "metadata": {},
   "outputs": [
    {
     "data": {
      "text/plain": [
       "0.0814"
      ]
     },
     "execution_count": 34,
     "metadata": {},
     "output_type": "execute_result"
    }
   ],
   "source": [
    "x1, x2 = 4, 5\n",
    "p_x_4 = stats.expon.cdf(x=x1, scale=scale)\n",
    "p_x_5 = stats.expon.cdf(x=x2, scale=scale)\n",
    "\n",
    "(p_x_5 - p_x_4).round(4).item()"
   ]
  },
  {
   "cell_type": "markdown",
   "id": "76a30fff-528d-4bf2-8c95-c021ad14796d",
   "metadata": {},
   "source": [
    "Find the probability of needing more than 6 minutes to debug."
   ]
  },
  {
   "cell_type": "markdown",
   "id": "73b850f7-bc38-4c8a-b3f4-5b69274f5bb4",
   "metadata": {},
   "source": [
    "##### Solution"
   ]
  },
  {
   "cell_type": "code",
   "execution_count": 35,
   "id": "3eb1b6c5-75ca-41de-ac32-2da810fc0812",
   "metadata": {},
   "outputs": [],
   "source": [
    "# P(x > 6)\n",
    "# 1 - P(x < 6)\n",
    "x = 6"
   ]
  },
  {
   "cell_type": "code",
   "execution_count": 36,
   "id": "9a3408c0-59a4-48a2-9828-26596e2efbe6",
   "metadata": {},
   "outputs": [
    {
     "data": {
      "text/plain": [
       "0.3012"
      ]
     },
     "execution_count": 36,
     "metadata": {},
     "output_type": "execute_result"
    }
   ],
   "source": [
    "x_gt_6 = 1 - stats.expon.cdf(x=6, scale=scale)\n",
    "x_gt_6.round(4).item()"
   ]
  },
  {
   "cell_type": "markdown",
   "id": "c612267c-d182-48c2-9a48-1e78b1a74484",
   "metadata": {},
   "source": [
    "### Memory less property of exponential distribution"
   ]
  },
  {
   "cell_type": "markdown",
   "id": "13507d09-a5b9-4447-9e15-418fe2eee634",
   "metadata": {},
   "source": [
    "The memory-less property essentially means that the time you've already spent on an event doesn't affect the future waiting time.  \n",
    "In the context of the exponential distribution, it means that the probability of needing more time in the future is the same, regardless of how much time has already passed.\n",
    "\n",
    "For example,  \n",
    "\n",
    "Given that you have already spent 3 minutes, what is the probability of needing more than 9 minutes.\n",
    "\n",
    "$\n",
    "\\begin{align}\n",
    "P(x > 9\\; \\textbar \\; x > 3) = \\frac{P(x > 9 \\; \\cap \\; x > 3)}{P(x > 3)}\n",
    "\\end{align}\n",
    "$\n",
    "\n",
    "$\n",
    "\\begin{align}\n",
    "P(x > 9 \\; \\textbar \\; x > 3) = \\frac{P(x > 9)}{P(x > 3)}\n",
    "\\end{align}\n",
    "$"
   ]
  },
  {
   "cell_type": "markdown",
   "id": "4ef82792-97df-47f7-88ca-b751469bbd98",
   "metadata": {},
   "source": [
    "#### Quiz #1"
   ]
  },
  {
   "cell_type": "markdown",
   "id": "1f008d19-86bf-408b-8db6-174f075309c9",
   "metadata": {},
   "source": [
    "You are working as a data engineer who has to resolve any bugs/failures of machine learning models in production.  \n",
    "The time taken to debug is exponentially distributed with mean of 5 minutes.  \n",
    "\n",
    "Given that you have already spent 3 minutes, what is the probability of needing more than 9 minutes."
   ]
  },
  {
   "cell_type": "markdown",
   "id": "93f88d4e-09d1-4a5b-9f69-b928dd840c05",
   "metadata": {},
   "source": [
    "##### Solution"
   ]
  },
  {
   "cell_type": "code",
   "execution_count": 37,
   "id": "d89428e3-9f01-4182-aa79-d6f7e5f03562",
   "metadata": {},
   "outputs": [],
   "source": [
    "# 5mins -> 1 bug\n",
    "# 1mins -> ?\n",
    "mu = 1 / 5\n",
    "scale = 1 / mu\n",
    "\n",
    "# Find P(x > 9), P(x > 3)\n",
    "# 1 - P(x < 9), 1 - P(x < 3)\n",
    "# x = 9, 3"
   ]
  },
  {
   "cell_type": "code",
   "execution_count": 38,
   "id": "b5796c92-2d99-4eb0-a1e1-c9c11510a2ca",
   "metadata": {},
   "outputs": [
    {
     "data": {
      "text/plain": [
       "0.3012"
      ]
     },
     "execution_count": 38,
     "metadata": {},
     "output_type": "execute_result"
    }
   ],
   "source": [
    "x1, x2 = 9, 3\n",
    "p_x_gt_9 = 1 - stats.expon.cdf(x=x1, scale=scale)\n",
    "p_x_gt_3 = 1 - stats.expon.cdf(x=x2, scale=scale)\n",
    "\n",
    "(p_x_gt_9 / p_x_gt_3).round(4).item()"
   ]
  },
  {
   "cell_type": "markdown",
   "id": "4ba0b153-cf1e-4bfc-955b-710b63751c33",
   "metadata": {},
   "source": [
    "## 5 Geometric Distribution"
   ]
  },
  {
   "cell_type": "markdown",
   "id": "3f1a89ab-dda7-4d6b-bc2c-97ca14efccf6",
   "metadata": {},
   "source": [
    "### 5.1 What is Geometric Distribution?"
   ]
  },
  {
   "cell_type": "markdown",
   "id": "a1d21a4a-3b49-41ac-8e20-4ad09d9e7610",
   "metadata": {},
   "source": [
    "#### Definition"
   ]
  },
  {
   "cell_type": "markdown",
   "id": "9123516d-0533-4700-b8c7-3730376f3269",
   "metadata": {},
   "source": [
    "1. Geometric distribution calculates **probability of the first success occurring during a Bernoulli trial**\n",
    "2. Geometric distribution is a Discrete Distribution."
   ]
  },
  {
   "cell_type": "markdown",
   "id": "6134bd1c-f096-41cd-b5b7-7d4962e08a4d",
   "metadata": {},
   "source": [
    "1. Geometric Distribution models the **number of independent trials needed to achieve the first success** in a series of Bernoulli trials, where each trial has a constant probability of success.\n",
    "2. Geometric Distribution is a **Discrete probability distribution**"
   ]
  },
  {
   "cell_type": "markdown",
   "id": "701a56a2-4309-4950-9d64-54c91fe11a56",
   "metadata": {},
   "source": [
    "#### Formula"
   ]
  },
  {
   "cell_type": "markdown",
   "id": "585c6cbb-e498-4f61-8624-72ecedbf72e1",
   "metadata": {},
   "source": [
    "$\n",
    "\\begin{align}\n",
    "\\large\n",
    "P(x = k) = (1 - p)^{k - 1} \\cdot p\n",
    "\\end{align}\n",
    "$"
   ]
  },
  {
   "cell_type": "markdown",
   "id": "47779650-4f7a-479c-8a6e-9cd51ae4aa60",
   "metadata": {},
   "source": [
    "#### Expected value"
   ]
  },
  {
   "cell_type": "markdown",
   "id": "15b0a7b7-c57a-41b6-9c20-84f7760e165e",
   "metadata": {},
   "source": [
    "$\n",
    "\\begin{align}\n",
    "\\large\n",
    "E(x) = \\frac{1}{\\text{probability of success}}\n",
    "\\end{align}\n",
    "$"
   ]
  },
  {
   "cell_type": "markdown",
   "id": "447336cd-0251-45de-93e6-024f8d2ab871",
   "metadata": {},
   "source": [
    "### 5.2 Examples"
   ]
  },
  {
   "cell_type": "markdown",
   "id": "ee4c48b7-b178-4119-acce-94b25eb7f7da",
   "metadata": {},
   "source": [
    "#### Quiz #1"
   ]
  },
  {
   "cell_type": "markdown",
   "id": "cfb15a02-354e-404b-a8b5-88e396bdf818",
   "metadata": {},
   "source": [
    "You are flipping a fair coin repeatedly until you get heads for the first time.  \n",
    "You're interested in finding out, on average, how many times you need to flip the coin before you get that first heads."
   ]
  },
  {
   "cell_type": "markdown",
   "id": "49a20b5e-0290-4b48-8f89-3fbc872d45ce",
   "metadata": {},
   "source": [
    "##### Solution"
   ]
  },
  {
   "cell_type": "code",
   "execution_count": 39,
   "id": "e5077b8c-4c1f-4482-800a-3e5c7c0f14d0",
   "metadata": {},
   "outputs": [],
   "source": [
    "p = 0.5\n",
    "# Find k"
   ]
  },
  {
   "cell_type": "code",
   "execution_count": 40,
   "id": "16f1a2f8-d874-4b7f-bed9-19061e1bec65",
   "metadata": {},
   "outputs": [
    {
     "data": {
      "text/plain": [
       "2.0"
      ]
     },
     "execution_count": 40,
     "metadata": {},
     "output_type": "execute_result"
    }
   ],
   "source": [
    "exp = 1 / p\n",
    "exp"
   ]
  },
  {
   "cell_type": "markdown",
   "id": "36dbea22-ab48-4150-8a95-c0bc7a1a435d",
   "metadata": {},
   "source": [
    "#### Quiz #2"
   ]
  },
  {
   "cell_type": "markdown",
   "id": "4d17a872-abd7-48b0-99ef-fd2c81c2dd52",
   "metadata": {},
   "source": [
    "Suppose you are playing a game where success rate of winning a prize is 0.7  \n",
    "\n",
    "1. What is the probability of winning a prize on 4th attempt?\n",
    "1. What is the probability that you don't win in 2 attempts?\n",
    "1. What is the expected number of trials to get the first success?"
   ]
  },
  {
   "cell_type": "markdown",
   "id": "b7faf485-1962-4942-bc1d-0fe6266f3de0",
   "metadata": {},
   "source": [
    "##### Solution"
   ]
  },
  {
   "cell_type": "code",
   "execution_count": 41,
   "id": "84a19b04-ee69-48fc-99be-4354930f4476",
   "metadata": {},
   "outputs": [],
   "source": [
    "p = 0.7"
   ]
  },
  {
   "cell_type": "code",
   "execution_count": 42,
   "id": "8ee5f188-2121-43da-8e3f-b27e40e2b49b",
   "metadata": {},
   "outputs": [],
   "source": [
    "# Find: P(x = 4)\n",
    "x = 4"
   ]
  },
  {
   "cell_type": "code",
   "execution_count": 43,
   "id": "980f8f25-d073-4754-9663-95180711b1ac",
   "metadata": {},
   "outputs": [
    {
     "data": {
      "text/plain": [
       "0.0189"
      ]
     },
     "execution_count": 43,
     "metadata": {},
     "output_type": "execute_result"
    }
   ],
   "source": [
    "p_x_4 = stats.geom.pmf(k=x, p=p)\n",
    "p_x_4.round(4).item()"
   ]
  },
  {
   "cell_type": "code",
   "execution_count": 44,
   "id": "a7372494-7077-45f0-8423-215b59ade54a",
   "metadata": {},
   "outputs": [],
   "source": [
    "# Find: P(x >= 3)\n",
    "# 1 - P(X <= 2)\n",
    "x = 2"
   ]
  },
  {
   "cell_type": "code",
   "execution_count": 45,
   "id": "d126adf8-0607-44c5-9f24-7f4ba7c406c0",
   "metadata": {},
   "outputs": [
    {
     "data": {
      "text/plain": [
       "0.09"
      ]
     },
     "execution_count": 45,
     "metadata": {},
     "output_type": "execute_result"
    }
   ],
   "source": [
    "p_x_gt_3 = 1 - stats.geom.cdf(k=x, p=p)\n",
    "p_x_gt_3.round(4).item()"
   ]
  },
  {
   "cell_type": "code",
   "execution_count": 46,
   "id": "e588a295-0f3e-4497-a6ed-4ab019d74ba5",
   "metadata": {},
   "outputs": [
    {
     "data": {
      "text/plain": [
       "1.4286"
      ]
     },
     "execution_count": 46,
     "metadata": {},
     "output_type": "execute_result"
    }
   ],
   "source": [
    "exp = 1 / p\n",
    "round(exp, 4)"
   ]
  }
 ],
 "metadata": {
  "kernelspec": {
   "display_name": "Python 3 (ipykernel)",
   "language": "python",
   "name": "python3"
  },
  "language_info": {
   "codemirror_mode": {
    "name": "ipython",
    "version": 3
   },
   "file_extension": ".py",
   "mimetype": "text/x-python",
   "name": "python",
   "nbconvert_exporter": "python",
   "pygments_lexer": "ipython3",
   "version": "3.12.6"
  }
 },
 "nbformat": 4,
 "nbformat_minor": 5
}
