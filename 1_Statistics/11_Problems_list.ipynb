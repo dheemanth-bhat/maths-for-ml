{
 "cells": [
  {
   "cell_type": "markdown",
   "id": "d228abd2-56fd-4ebb-baee-9c9d1f53b119",
   "metadata": {},
   "source": [
    "## 1 Binomial Distribution"
   ]
  },
  {
   "cell_type": "markdown",
   "id": "146fc808-5fed-4647-a3e5-fbbf62198f44",
   "metadata": {},
   "source": [
    "### Question #"
   ]
  },
  {
   "cell_type": "markdown",
   "id": "075671b9-6bd2-4e0c-8779-89b1829c85ee",
   "metadata": {},
   "source": [
    "A bag has 3 red balls and 2 blue balls.  \n",
    "A ball in chosen at random 4 time.  \n",
    "What is the probability of getting:\n",
    "\n",
    "1. Zero red balls\n",
    "2. One red balls\n",
    "3. Two red balls\n",
    "4. Three red balls\n",
    "5. Four red balls"
   ]
  },
  {
   "cell_type": "markdown",
   "id": "0d1db5c2-05eb-42ce-b48c-53281fc6a6f2",
   "metadata": {},
   "source": [
    "### Question #"
   ]
  },
  {
   "cell_type": "markdown",
   "id": "0cf11ea3-c354-4e10-a425-164f1039b06d",
   "metadata": {},
   "source": [
    "A factory produces LED bulbs, and each bulb has a 5% chance of being defective.  \n",
    "A quality inspector randomly selects 20 bulbs from the production line.  \n",
    "\n",
    "What is the probability that exactly 2 bulbs are defective?"
   ]
  },
  {
   "cell_type": "markdown",
   "id": "6a60e141-08f6-4074-be04-8927dfd5e5de",
   "metadata": {},
   "source": [
    "### Question #"
   ]
  },
  {
   "cell_type": "markdown",
   "id": "df002c15-6777-44f7-8173-154c23fc8fab",
   "metadata": {},
   "source": [
    "Suppose that we float 10 quizzes, with 4 options each.  \n",
    "Only 1 option is correct, and we are guessing the answers.  \n",
    "What is the probability that we will get at least 4 answers correct?"
   ]
  },
  {
   "cell_type": "markdown",
   "id": "cff7c13f-df95-42cb-b247-a7d509bc9d70",
   "metadata": {},
   "source": [
    "### Question #"
   ]
  },
  {
   "cell_type": "markdown",
   "id": "1d7ec04d-0c61-4eb7-9126-45f62f1baa7c",
   "metadata": {},
   "source": [
    "Suppose that we float 10 quizzes, with 4 options each. Only 1 option is correct.  \n",
    "What is the probability that we will get exactly 2 answers correct?"
   ]
  },
  {
   "cell_type": "markdown",
   "id": "51a58749-b089-45b5-a40e-df485bcfac43",
   "metadata": {},
   "source": [
    "### Question #"
   ]
  },
  {
   "cell_type": "code",
   "execution_count": null,
   "id": "6a545db0-172a-457a-af28-58fc186926a3",
   "metadata": {},
   "outputs": [],
   "source": []
  },
  {
   "cell_type": "markdown",
   "id": "6b467b23-4545-4558-9557-c5a02952b9c7",
   "metadata": {},
   "source": [
    "## 2 Uniform Distribution"
   ]
  },
  {
   "cell_type": "markdown",
   "id": "7308af61-c0ee-4916-bab5-b577b75159d0",
   "metadata": {},
   "source": [
    "### Question #"
   ]
  },
  {
   "cell_type": "markdown",
   "id": "ef9b9175-409c-425b-bc15-dcdc8f5f6adc",
   "metadata": {},
   "source": [
    "Suppose the weight of dolphins is uniformly distributed between 100 pounds and 150 pounds.  \n",
    "If we randomly select a dolphin at random, then determine the probability that the chosen  \n",
    "dolphin will weigh between 120 and 130 pounds."
   ]
  },
  {
   "cell_type": "markdown",
   "id": "d94cb893-20f4-4d40-93c0-c6d015f949c9",
   "metadata": {},
   "source": []
  },
  {
   "cell_type": "markdown",
   "id": "10812c8e-eefd-4043-a876-0f6fdd1d747f",
   "metadata": {},
   "source": [
    "## 3 Normal Distribution"
   ]
  },
  {
   "cell_type": "markdown",
   "id": "6853b2a2-4f72-49c0-9f3c-d983b99ed28d",
   "metadata": {},
   "source": [
    "### Question #"
   ]
  },
  {
   "cell_type": "markdown",
   "id": "d0224fad-3b19-4688-8434-fcc18a3d6896",
   "metadata": {},
   "source": [
    "The height of people is Gaussian with mean 65 inches and standard deviation 2.5 inches.  \n",
    "What is the fraction of people whose height is between 60 and 72.5?"
   ]
  },
  {
   "cell_type": "markdown",
   "id": "993414cc-5cee-4836-80cc-5e6c965e6041",
   "metadata": {},
   "source": [
    "### Question #"
   ]
  },
  {
   "cell_type": "markdown",
   "id": "b6e8df50-644d-43ec-aac6-9164338d34ee",
   "metadata": {},
   "source": [
    "The height of people is Gaussian with mean 65 inches and standard deviation 2.5 inches.  \n",
    "What fraction of people are shorter than 67.5?"
   ]
  },
  {
   "cell_type": "markdown",
   "id": "b8fe827d-a295-43a6-8d5d-f1ca0d255ec0",
   "metadata": {},
   "source": [
    "### Question #"
   ]
  },
  {
   "cell_type": "markdown",
   "id": "5b1aa8b5-0abf-45d1-a5c7-59d072a3657b",
   "metadata": {},
   "source": [
    "The height of people is Gaussian with mean 65 inches and standard deviation 2.5 inches.  \n",
    "What fraction of people are shorter than 70?"
   ]
  },
  {
   "cell_type": "markdown",
   "id": "5d88302d-ef99-4b16-9414-31134158f77a",
   "metadata": {},
   "source": [
    "### Question #"
   ]
  },
  {
   "cell_type": "markdown",
   "id": "e2fc73e1-3fd2-4640-b588-e00a7a97a93c",
   "metadata": {},
   "source": [
    "The height of people is Gaussian with mean 65 inches and standard deviation 2.5 inches.  \n",
    "What fraction of people are shorter than 69.1?"
   ]
  },
  {
   "cell_type": "markdown",
   "id": "ae1d4b0a-c4e5-4a51-936c-522356160623",
   "metadata": {},
   "source": [
    "### Question #"
   ]
  },
  {
   "cell_type": "markdown",
   "id": "0d8eb9ba-b726-4c33-a5f3-cc24dc54a7be",
   "metadata": {},
   "source": [
    "The height of people is Gaussian with mean 65 inches and standard deviation 2.5 inches.  \n",
    "What fraction of people are shorter than 67.5?"
   ]
  },
  {
   "cell_type": "markdown",
   "id": "4df595f8-a394-499c-ba99-27f6e1078e23",
   "metadata": {},
   "source": [
    "### Question #"
   ]
  },
  {
   "cell_type": "markdown",
   "id": "16cd5c73-8324-4f09-a748-3580bb54c0a0",
   "metadata": {},
   "source": [
    "Balls produced by the manufacturer have a mean diameter of 50 mm and std dev 2 mm.  \n",
    "What fraction of balls have a diameter smaller than 53 mm?"
   ]
  },
  {
   "cell_type": "markdown",
   "id": "44c45cd0-40a4-4f7a-9de9-34daccf8308c",
   "metadata": {},
   "source": [
    "### Question #"
   ]
  },
  {
   "cell_type": "markdown",
   "id": "b0ce6030-1b87-4c83-9889-01b10509990c",
   "metadata": {},
   "source": [
    "The height of people is Gaussian Distribution with mean height of 65 inches and standard deviation of 2.5 inches.  \n",
    "One person says \"96% of people are shorter than me.\" What is that person's height?"
   ]
  },
  {
   "cell_type": "markdown",
   "id": "23d85ada-2b94-4d05-b4d6-a5d82b76e297",
   "metadata": {},
   "source": [
    "### Question #"
   ]
  },
  {
   "cell_type": "markdown",
   "id": "81acf362-d4f9-432b-b35b-c5b29a7d2ea5",
   "metadata": {},
   "source": [
    "Skaters take a mean of 7.42 seconds and std dev of 0.34 seconds for 500 meters.  \n",
    "What should his speed be such that he is faster than 95% of his competitors?"
   ]
  },
  {
   "cell_type": "markdown",
   "id": "b7e87ee7-99a6-4aea-8111-d26e7383e7f7",
   "metadata": {},
   "source": [
    "### Question #"
   ]
  },
  {
   "cell_type": "markdown",
   "id": "0ef440bf-a392-4277-9ab2-b362ed4dcb81",
   "metadata": {},
   "source": [
    "A retail outlet sells around 1000 toothpastes a week, with standard deviation = 200.  \n",
    "If we have 1300 stock units as our inventory, then \n",
    "\n",
    "1. What is the probability you'd need to replenish stocks?\n",
    "2. How much inventory should you have, such that there is only 3% chance of running out of stock mid-week?"
   ]
  },
  {
   "cell_type": "code",
   "execution_count": null,
   "id": "2f946ff7-6d39-4d34-ac85-e00089ed3ad5",
   "metadata": {},
   "outputs": [],
   "source": []
  },
  {
   "cell_type": "markdown",
   "id": "5e580382-5f0b-4eeb-9e92-d074e3ae5286",
   "metadata": {},
   "source": [
    "## 4 Poison Distribution"
   ]
  },
  {
   "cell_type": "markdown",
   "id": "01e5269d-e2f5-458d-ab56-38450669ead4",
   "metadata": {},
   "source": []
  },
  {
   "cell_type": "markdown",
   "id": "fba002d7-62e7-401b-bd7f-e67b9454c9b3",
   "metadata": {},
   "source": []
  },
  {
   "cell_type": "markdown",
   "id": "7529b6ad-b7c7-45f9-9230-78083962e695",
   "metadata": {},
   "source": []
  },
  {
   "cell_type": "markdown",
   "id": "558dbe0f-ad0c-44e8-a6f4-d387e04c5efd",
   "metadata": {},
   "source": [
    "## 5 Exponential Distribution"
   ]
  },
  {
   "cell_type": "markdown",
   "id": "0d2bdadf-20a4-460b-8c63-d871c40591ad",
   "metadata": {},
   "source": []
  },
  {
   "cell_type": "markdown",
   "id": "975d1471-4a78-4a1f-ad7e-1d50b71045bb",
   "metadata": {},
   "source": []
  },
  {
   "cell_type": "markdown",
   "id": "7973e3a7-909d-4504-ac8e-8e4d690d3a1a",
   "metadata": {},
   "source": []
  },
  {
   "cell_type": "markdown",
   "id": "a733a89e-58c9-47fb-a072-24dcd8e3d845",
   "metadata": {},
   "source": [
    "### 6 Geometric Distribution"
   ]
  },
  {
   "cell_type": "markdown",
   "id": "aaa8ceb5-fcd0-479c-a7b8-b876fbb33185",
   "metadata": {},
   "source": []
  },
  {
   "cell_type": "markdown",
   "id": "38ffa1ac-22aa-483f-80d9-dd70ad29d290",
   "metadata": {},
   "source": []
  },
  {
   "cell_type": "markdown",
   "id": "685097aa-edea-4324-8495-83db8a51f8a0",
   "metadata": {},
   "source": []
  },
  {
   "cell_type": "markdown",
   "id": "5dbf82c9-3f23-445c-8212-988896596c33",
   "metadata": {},
   "source": []
  },
  {
   "cell_type": "markdown",
   "id": "6593199a-db0d-4462-aa03-d95d79c695e4",
   "metadata": {},
   "source": []
  },
  {
   "cell_type": "markdown",
   "id": "9cb87301-d4aa-4cc8-8e08-938796ecc46c",
   "metadata": {},
   "source": []
  },
  {
   "cell_type": "markdown",
   "id": "f3a54c9e-6ca6-4877-8dc5-71375a0a7f8f",
   "metadata": {},
   "source": []
  },
  {
   "cell_type": "markdown",
   "id": "978d8493-da9e-49dc-838f-305d1476db86",
   "metadata": {},
   "source": []
  },
  {
   "cell_type": "markdown",
   "id": "b5829be9-f17e-4847-8a7e-7f2090fc7e29",
   "metadata": {},
   "source": []
  },
  {
   "cell_type": "markdown",
   "id": "4b39148c-1d9b-437a-8565-480be4584509",
   "metadata": {},
   "source": []
  },
  {
   "cell_type": "markdown",
   "id": "f1a33f63-bdf3-4f84-83ee-b98c83714c29",
   "metadata": {},
   "source": []
  },
  {
   "cell_type": "markdown",
   "id": "d671ca0f-57b2-4a49-abd2-381d23cb1bf5",
   "metadata": {},
   "source": []
  },
  {
   "cell_type": "markdown",
   "id": "6dddbcb3-4766-4d32-9ac7-375f03a108bd",
   "metadata": {},
   "source": []
  },
  {
   "cell_type": "markdown",
   "id": "63dc5ee7-1a17-4ee1-bf5c-2330d73808b6",
   "metadata": {},
   "source": []
  }
 ],
 "metadata": {
  "kernelspec": {
   "display_name": "Python 3 (ipykernel)",
   "language": "python",
   "name": "python3"
  },
  "language_info": {
   "codemirror_mode": {
    "name": "ipython",
    "version": 3
   },
   "file_extension": ".py",
   "mimetype": "text/x-python",
   "name": "python",
   "nbconvert_exporter": "python",
   "pygments_lexer": "ipython3",
   "version": "3.12.6"
  }
 },
 "nbformat": 4,
 "nbformat_minor": 5
}
