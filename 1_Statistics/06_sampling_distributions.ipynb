{
 "cells": [
  {
   "cell_type": "markdown",
   "id": "1f85f516-bf52-45a6-9393-9156bc03a51e",
   "metadata": {},
   "source": [
    "## 1 Datasets"
   ]
  },
  {
   "cell_type": "markdown",
   "id": "2fcb3713-0ca0-4951-bd1c-37fea0114fee",
   "metadata": {},
   "source": [
    "### 1.1 Population"
   ]
  },
  {
   "cell_type": "markdown",
   "id": "5cf70600-a105-4a2c-88fd-bc3d38db0802",
   "metadata": {},
   "source": [
    "#### Definition"
   ]
  },
  {
   "cell_type": "markdown",
   "id": "22733b39-e0de-4742-a037-388f54b59501",
   "metadata": {},
   "source": [
    "All the items under the scope of study."
   ]
  },
  {
   "cell_type": "markdown",
   "id": "ef0b6400-e8d1-4a1e-9203-69f6b1cee851",
   "metadata": {},
   "source": [
    "### 1.2 Sample"
   ]
  },
  {
   "cell_type": "markdown",
   "id": "e930af59-e8bd-494a-90e7-509c1f05775f",
   "metadata": {},
   "source": [
    "#### Definition"
   ]
  },
  {
   "cell_type": "markdown",
   "id": "b08648fc-4503-470c-a1cb-c0394842a17c",
   "metadata": {},
   "source": [
    "While population is entire data set under the study, Sample is an **unbiased subset of population**."
   ]
  },
  {
   "cell_type": "markdown",
   "id": "dbcd97f4-1329-4fbd-96de-7ed5c93108f7",
   "metadata": {},
   "source": [
    "### 1.3 Sampling"
   ]
  },
  {
   "cell_type": "markdown",
   "id": "01ae2452-5e5d-41f9-b917-f6a1c72bd860",
   "metadata": {},
   "source": [
    "#### Definition"
   ]
  },
  {
   "cell_type": "markdown",
   "id": "57cc2a47-7364-4d54-b390-1a36d946e760",
   "metadata": {},
   "source": [
    "* Process of picking data-points from population is called as Sampling. Sampling is done based on some strategy.\n",
    "* Samples can have duplicates. Such samples are called as Sampling **with replacement**."
   ]
  },
  {
   "cell_type": "markdown",
   "id": "bd11289c-65ba-4fef-8b0e-44c44cdc197d",
   "metadata": {},
   "source": [
    "#### Why Sampling?"
   ]
  },
  {
   "cell_type": "markdown",
   "id": "c75ba53b-26a6-4c92-a56f-e4ce488ec17b",
   "metadata": {},
   "source": [
    "1. Due to practicality, It is not possible to perform statistics on entire population of data set, hence we do sampling.\n",
    "2. Any statistics applied on Sample data is trying to infer statistical metrics from Sample for the Population.\n",
    "3. A **well designed sample** can provide an accurate estimate of the population characteristics with significantly less time and error."
   ]
  },
  {
   "cell_type": "markdown",
   "id": "5830ee91-f001-4f58-b336-ba42a1144d37",
   "metadata": {},
   "source": [
    "## 2 Sample Statistics"
   ]
  },
  {
   "cell_type": "markdown",
   "id": "68f3b8c6-d4c5-43ec-8465-747722c7b34f",
   "metadata": {},
   "source": [
    "### 2.1 Sample Mean"
   ]
  },
  {
   "cell_type": "markdown",
   "id": "a1a08bdc-1e63-40fc-96ae-290481ecf4de",
   "metadata": {},
   "source": [
    "#### Definition"
   ]
  },
  {
   "cell_type": "markdown",
   "id": "2ec57266-640b-4672-88a7-3154bc04b16c",
   "metadata": {},
   "source": [
    "Mean of sample."
   ]
  },
  {
   "cell_type": "markdown",
   "id": "d704c69b-f00e-43b2-ad9a-1e9b3a6e0fc4",
   "metadata": {},
   "source": [
    "#### Formula"
   ]
  },
  {
   "cell_type": "markdown",
   "id": "67faa609-0b5f-4056-9e15-20709495e57d",
   "metadata": {},
   "source": [
    "$\n",
    "\\begin{align}\n",
    "\\large\n",
    "\\bar{x} = \\frac{1}{n} \\sum_{i=1}^{n} x_i\n",
    "\\end{align}\n",
    "$"
   ]
  },
  {
   "cell_type": "markdown",
   "id": "b8da2b16-2b3b-4501-a5c7-0f4757a2c90b",
   "metadata": {},
   "source": [
    "> **Note**:\n",
    "> \n",
    "> Larger the sample size closer the mean is to population mean."
   ]
  },
  {
   "cell_type": "markdown",
   "id": "ed7fa58d-4650-4676-9e5f-b481ce6d494a",
   "metadata": {},
   "source": [
    "### 2.2 Sample Variance"
   ]
  },
  {
   "cell_type": "markdown",
   "id": "608428c5-f281-49d5-a106-97bafbb17cd6",
   "metadata": {},
   "source": [
    "#### Definition"
   ]
  },
  {
   "cell_type": "markdown",
   "id": "4257f05f-b1ab-4435-a435-e77132864f93",
   "metadata": {},
   "source": [
    "Variance of sample."
   ]
  },
  {
   "cell_type": "markdown",
   "id": "b91bd16f-6bbb-4bfc-aee1-670bd245330d",
   "metadata": {},
   "source": [
    "#### Formula"
   ]
  },
  {
   "cell_type": "markdown",
   "id": "01ab723b-cf0f-418a-ad96-33f5041876e3",
   "metadata": {},
   "source": [
    "$\n",
    "\\begin{align}\n",
    "\\large\n",
    "s^2 = \\frac{1}{n-1} \\sum_{i=1}^{n} (x_i - \\bar{x})^2\n",
    "\\end{align}\n",
    "$"
   ]
  },
  {
   "cell_type": "markdown",
   "id": "5030529e-d7c9-4285-8eac-b77d756874b8",
   "metadata": {},
   "source": [
    "#### Why $n - 1$?"
   ]
  },
  {
   "cell_type": "markdown",
   "id": "d3062ad1-1563-41f9-b63f-14b8162bb67a",
   "metadata": {},
   "source": [
    "1. $n - 1$ is done to increase the variance in sample. It is called as \"Bessel's Correction\".\n",
    "2. It is important for ensuring that the sample variance provides an unbiased estimate of population variance. In other words its done to reduce the bias of variance in sample.\n",
    "3. $n - 1$ is decided based on Degree of Freedom."
   ]
  },
  {
   "cell_type": "markdown",
   "id": "5f30ddd6-3766-4cd2-a54c-c278771ef0b3",
   "metadata": {},
   "source": [
    "#### Degree of Freedom"
   ]
  },
  {
   "cell_type": "markdown",
   "id": "ba5de035-f6a8-46ad-b9b9-bc16285582bb",
   "metadata": {},
   "source": [
    "Now, we have $n - 1$ data-points can vary freely; the last value is constrained by the others, as the mean must be same."
   ]
  },
  {
   "cell_type": "markdown",
   "id": "9abafbb1-511d-49ac-93dd-e5d70251a79b",
   "metadata": {},
   "source": [
    "> **Note**:\n",
    ">\n",
    "> $n - 1$ is done to increase the variance in sample.  \n",
    "> In other words its done to reduce the bias of variance in sample.  \n",
    "> Its called as **Bessel's correction**.  "
   ]
  },
  {
   "cell_type": "markdown",
   "id": "b2ab616a-5023-4a73-a209-d393a8effd01",
   "metadata": {},
   "source": [
    "### 2.3 Sample Standard Deviation"
   ]
  },
  {
   "cell_type": "markdown",
   "id": "4789b966-0749-4cfa-b517-62dde4e1a134",
   "metadata": {},
   "source": [
    "#### Definition"
   ]
  },
  {
   "cell_type": "markdown",
   "id": "9c5dc8ae-4658-424d-864e-ec8463a38484",
   "metadata": {},
   "source": [
    "Standard deviation of Sample."
   ]
  },
  {
   "cell_type": "markdown",
   "id": "f9803cc8-e955-40fc-b6ac-c68193cf6fce",
   "metadata": {},
   "source": [
    "#### Formula"
   ]
  },
  {
   "cell_type": "markdown",
   "id": "bee4e0d9-e9c1-4120-b9ff-b5cb598addfe",
   "metadata": {},
   "source": [
    "$\\text{Standard Deviation} = \\sqrt{\\text{Variance}}$\n",
    "\n",
    "or\n",
    "\n",
    "$\n",
    "\\begin{align}\n",
    "\\large\n",
    "s = \\sqrt{\\frac{1}{n-1} \\sum_{i=1}^{n} (X_i - \\bar{X})^2}\n",
    "\\end{align}\n",
    "$"
   ]
  },
  {
   "cell_type": "markdown",
   "id": "3bb56363-b824-4775-b97d-57dd0a0c617c",
   "metadata": {},
   "source": [
    "### 2.4 Why Sample Statistics?"
   ]
  },
  {
   "cell_type": "markdown",
   "id": "a94d85f0-e863-43e8-bdc7-6c23fdebb99a",
   "metadata": {},
   "source": [
    "#### Reasons"
   ]
  },
  {
   "cell_type": "markdown",
   "id": "7c0659ef-6484-402e-b042-7764fd06bf18",
   "metadata": {},
   "source": [
    "1. Since its is not feasible to study/derive statistical metrics from Population, goal of Sample Statistics is to estimate Population Statistics.\n",
    "2. While estimating Population Statistics from Sampling Statistics there can be errors."
   ]
  },
  {
   "cell_type": "markdown",
   "id": "45878c87-a58a-4a02-8381-a9e872bc3bfb",
   "metadata": {},
   "source": [
    "### 2.5 Point Estimates"
   ]
  },
  {
   "cell_type": "markdown",
   "id": "ea2ef227-81f2-4ccb-91e9-12b9340b2e60",
   "metadata": {},
   "source": [
    "#### Definition"
   ]
  },
  {
   "cell_type": "markdown",
   "id": "a5a02b84-fa5e-497c-b1bf-39b9e5a8bbd7",
   "metadata": {},
   "source": [
    "1. Estimating mean, variance, standard deviation of entire population using sample is called as **Point Estimate**.\n",
    "2. Point Estimate of mean of Population is mean of sample.\n",
    "3. Point Estimate of variance of Population is variance of sample.\n",
    "4. Point Estimate of standard deviation of Population is standard deviation of sample."
   ]
  },
  {
   "cell_type": "markdown",
   "id": "f3b689f8-0856-4431-a13d-7b0bae105416",
   "metadata": {},
   "source": [
    "> **Note**:\n",
    ">\n",
    "> Like describing statistical metrics (mean, median, etc.) from population is part of **Descriptive Statistics**,  \n",
    "> inferring point estimates from Sample is part of **Inferential Statistics**."
   ]
  },
  {
   "cell_type": "markdown",
   "id": "424f5ebb-5c9f-4c42-bd2b-372e19ea2a6a",
   "metadata": {},
   "source": [
    "### 2.6 Standard Error"
   ]
  },
  {
   "cell_type": "markdown",
   "id": "4c485f6b-13a1-4447-8d2f-19a7e14f6d0e",
   "metadata": {},
   "source": [
    "#### Definition"
   ]
  },
  {
   "cell_type": "markdown",
   "id": "98dc9bdf-3879-4eaf-bd92-637778d3dd3e",
   "metadata": {},
   "source": [
    "1. The standard error (SE) indicates how much the sample mean is expected to deviate from the population mean when different samples are drawn.\n",
    "2. Standard Error helps us in assessing the reliability of estimates derived from samples.\n",
    "3. A smaller standard error suggests that the sample statistic is likely to be close to the population parameter.\n",
    "4. While a larger standard error indicates more variability and less precision in the estimate."
   ]
  },
  {
   "cell_type": "markdown",
   "id": "8399bcee-f123-4d44-abb2-b5cff775be19",
   "metadata": {},
   "source": [
    "> **Note**:\n",
    ">\n",
    "> Lower the Standard Error higher the reliability."
   ]
  },
  {
   "cell_type": "markdown",
   "id": "14d408e3-fc71-4b9d-b8a0-3a43a8ad2fae",
   "metadata": {},
   "source": [
    "#### Formula"
   ]
  },
  {
   "cell_type": "markdown",
   "id": "12ab1f8e-e0ff-4f7a-9f74-c29d54d7e7fb",
   "metadata": {},
   "source": [
    "##### Case #1: Population standard deviation is known"
   ]
  },
  {
   "cell_type": "markdown",
   "id": "bfe5ec01-07fe-471c-9780-a22d8fb9542f",
   "metadata": {},
   "source": [
    "$\n",
    "\\begin{align}\n",
    "\\large\n",
    "SE_{\\bar{x}} = \\frac{\\sigma}{\\sqrt{n}}\n",
    "\\end{align}\n",
    "$"
   ]
  },
  {
   "cell_type": "markdown",
   "id": "354393e8-b202-4669-96ff-9117455afcf1",
   "metadata": {},
   "source": [
    "##### Case #1: Population standard deviation is **NOT** known"
   ]
  },
  {
   "cell_type": "markdown",
   "id": "44c50616-4577-4182-8a26-16a8a58450f3",
   "metadata": {},
   "source": [
    "$\n",
    "\\begin{align}\n",
    "\\large\n",
    "SE_{\\bar{x}} = \\frac{s}{\\sqrt{n}}\n",
    "\\end{align}\n",
    "$\n",
    "\n",
    "Where $s$ is sample standard deviation"
   ]
  },
  {
   "cell_type": "markdown",
   "id": "49aab74d-267b-4a56-b3dd-f81e6991334f",
   "metadata": {},
   "source": [
    "Standard Error is inversely proportional to sample size $n$.\n",
    "\n",
    "> **Note**:\n",
    "> \n",
    "> Higher the $n$ value lower the Standard Error."
   ]
  },
  {
   "cell_type": "markdown",
   "id": "9943eebc-45ee-40bb-a75a-1e60ec34d6b1",
   "metadata": {},
   "source": [
    "#### Law of Large Numbers"
   ]
  },
  {
   "cell_type": "markdown",
   "id": "036c6736-4587-4be3-a0ef-4fc165f433e2",
   "metadata": {},
   "source": [
    "The law says:\n",
    "\n",
    "As Sample size increases the Sample mean tends to be closer to the population mean."
   ]
  },
  {
   "cell_type": "markdown",
   "id": "3ff51741-0b60-4d6d-ba3b-59712171a4d2",
   "metadata": {},
   "source": [
    "#### Standard Error vs Standard Deviation"
   ]
  },
  {
   "cell_type": "markdown",
   "id": "1cec89bc-427d-4b7e-b398-171de3df94da",
   "metadata": {},
   "source": [
    "What is the difference between Standard Error and Standard Deviation?\n",
    "\n",
    "##### Standard Deviation\n",
    "\n",
    "1. Standard Deviation represents the **variability of individual data-points** within a Population or Sample.\n",
    "2. Spread of data-points across the mean in a single distribution (population or sample).\n",
    "\n",
    "##### Standard Error\n",
    "\n",
    "1. Standard Error represents the **variability across multiple sample means** (derived from different samples).\n",
    "2. Among multiple Samples, how much the Sample means are different from Population mean."
   ]
  },
  {
   "cell_type": "markdown",
   "id": "cbab0de5-4f7b-4543-a3f2-cbdb935091be",
   "metadata": {},
   "source": [
    "### 2.7 Examples"
   ]
  },
  {
   "cell_type": "markdown",
   "id": "10ecc969-f3ce-4f9c-a6fa-469b25680e8e",
   "metadata": {},
   "source": [
    "#### Quiz #1"
   ]
  },
  {
   "cell_type": "markdown",
   "id": "de7e1add-cd09-422e-a699-e525c7bf8fbb",
   "metadata": {},
   "source": [
    "There are 45 students in a class. 5 students were randomly selected from this class  \n",
    "and their heights (in cm) were recorded as follows: [131, 150, 140, 142, 152]   \n",
    "\n",
    "Calculate Sample mean and sample variance."
   ]
  },
  {
   "cell_type": "code",
   "execution_count": 1,
   "id": "f263d1d6-393d-4ae7-990a-ff0e8cbc90ed",
   "metadata": {},
   "outputs": [
    {
     "name": "stdout",
     "output_type": "stream",
     "text": [
      "Sample Mean: 143.0\n",
      "Sample Varaiance: 71.0\n"
     ]
    }
   ],
   "source": [
    "import numpy as np\n",
    "\n",
    "\n",
    "data = [131, 150, 140, 142, 152]\n",
    "\n",
    "x_bar = np.mean(data)\n",
    "print(\"Sample Mean:\", x_bar)\n",
    "\n",
    "s_var = np.var(data, ddof=1)\n",
    "print(\"Sample Varaiance:\", s_var)"
   ]
  },
  {
   "cell_type": "markdown",
   "id": "2698d0a0-4c83-439f-adaf-a67672d61ffc",
   "metadata": {},
   "source": [
    "#### Quiz #2"
   ]
  },
  {
   "cell_type": "markdown",
   "id": "c640267d-ae36-4586-81e6-18cb0a9034c7",
   "metadata": {},
   "source": [
    "A sample of 30 latest returns on XYZ stock reveals a mean return of 4 with a sample standard deviation of 0.13.  \n",
    "Estimate the SE of the sample mean."
   ]
  },
  {
   "cell_type": "code",
   "execution_count": 2,
   "id": "7144759c-e1bf-4c1e-bf72-5baaacb8e4fb",
   "metadata": {},
   "outputs": [
    {
     "name": "stdout",
     "output_type": "stream",
     "text": [
      "Standard error of mean: 0.0237\n"
     ]
    }
   ],
   "source": [
    "import math\n",
    "\n",
    "\n",
    "se_mean = 0.13 / math.sqrt(30)\n",
    "print(\"Standard error of mean:\", round(se_mean, 4))"
   ]
  },
  {
   "cell_type": "markdown",
   "id": "9ac29ddf-5fc1-431e-a81a-b178d9be2fb0",
   "metadata": {},
   "source": [
    "## 3 Sampling techniques"
   ]
  },
  {
   "cell_type": "markdown",
   "id": "3123e4a8-2b94-48a5-911d-2add93ce24d8",
   "metadata": {},
   "source": [
    "There are two types of Sampling techniques.\n",
    "\n",
    "1. Probability Sampling\n",
    "2. Non-Probability Sampling"
   ]
  },
  {
   "cell_type": "markdown",
   "id": "b2f8c9dd-1fb2-49c6-a9fd-2ad74361bbad",
   "metadata": {},
   "source": [
    "### 3.1 Probability Sampling"
   ]
  },
  {
   "cell_type": "markdown",
   "id": "babb817e-466d-4000-9dc3-9ec4cf415a16",
   "metadata": {},
   "source": [
    "#### 1 Simple Random Sampling"
   ]
  },
  {
   "cell_type": "markdown",
   "id": "08b019e8-2179-4af2-a70c-ce8486932bd3",
   "metadata": {},
   "source": [
    "Steps in Simple Random Sampling:\n",
    "\n",
    "1. Define the population.\n",
    "2. Determine the sample size.\n",
    "3. Randomly select your sample.\n",
    "4. Collect data from sample."
   ]
  },
  {
   "cell_type": "markdown",
   "id": "437ad0b6-e7a4-488e-b8b0-47afb9e3d177",
   "metadata": {},
   "source": [
    "#### 2 Stratified Sampling"
   ]
  },
  {
   "cell_type": "markdown",
   "id": "b7e75305-c182-454a-9220-dcaf6e7ee58f",
   "metadata": {},
   "source": []
  },
  {
   "cell_type": "markdown",
   "id": "10eeb7f0-40a6-4abf-a13b-7568c3afc2ea",
   "metadata": {},
   "source": [
    "#### 3 Systemic Sampling"
   ]
  },
  {
   "cell_type": "markdown",
   "id": "fa39085d-cbc2-496d-ac3e-98c2fadb97ed",
   "metadata": {},
   "source": []
  },
  {
   "cell_type": "markdown",
   "id": "c160469e-6622-4b3f-b2d5-2666426f8d57",
   "metadata": {},
   "source": [
    "#### 4 Cluster Sampling"
   ]
  },
  {
   "cell_type": "markdown",
   "id": "2c238c23-a7a2-4129-a7dd-d59fcbe38d9d",
   "metadata": {},
   "source": []
  },
  {
   "cell_type": "markdown",
   "id": "a6701695-7ff1-49a1-a68c-e820b3a6e398",
   "metadata": {},
   "source": [
    "### 3.2 Non-Probability Sampling"
   ]
  },
  {
   "cell_type": "markdown",
   "id": "4e33af0f-1f18-4f5a-a2d9-5849306cbd85",
   "metadata": {},
   "source": [
    "#### 1 Snowball Sampling"
   ]
  },
  {
   "cell_type": "markdown",
   "id": "daa4659a-71be-4844-849d-8d14c50d6c58",
   "metadata": {},
   "source": []
  },
  {
   "cell_type": "markdown",
   "id": "6050ac8a-bf7b-46b9-a64f-5bbe4de7fcfe",
   "metadata": {},
   "source": [
    "#### 2 Judgemental Sampling"
   ]
  },
  {
   "cell_type": "markdown",
   "id": "c5206097-e784-4eed-b9fa-37a5d064d807",
   "metadata": {},
   "source": []
  },
  {
   "cell_type": "markdown",
   "id": "2e1b092e-55d1-4cf5-896f-672c2fc8d772",
   "metadata": {},
   "source": [
    "## 4 Uniform Distributions"
   ]
  },
  {
   "cell_type": "markdown",
   "id": "f3edf812-c9ad-4555-a6e1-1f0bb2497fd8",
   "metadata": {},
   "source": [
    "### 4.1 What is Uniform Distribution?"
   ]
  },
  {
   "cell_type": "markdown",
   "id": "267cb5f1-7dc8-455c-99e2-2d6669d09f9d",
   "metadata": {},
   "source": [
    "#### Definition"
   ]
  },
  {
   "cell_type": "markdown",
   "id": "221a0b52-6248-427f-8342-d9c3ccdc56e0",
   "metadata": {},
   "source": [
    "* Probability of every outcome is same across the data.\n",
    "* Uniform Distribution is both Discrete Distribution and Continuous Distribution."
   ]
  },
  {
   "cell_type": "markdown",
   "id": "1c0239d3-f703-41eb-884a-fbbc8296cde1",
   "metadata": {},
   "source": [
    "### 4.2 Discrete Uniform Distribution"
   ]
  },
  {
   "cell_type": "markdown",
   "id": "21267a70-f174-4faa-8133-950643d1c5bf",
   "metadata": {},
   "source": [
    "#### Formula"
   ]
  },
  {
   "cell_type": "markdown",
   "id": "83abc615-8605-40c7-a51f-a58d86a0ad10",
   "metadata": {},
   "source": [
    "$\n",
    "\\begin{align}\n",
    "\\large\n",
    "P(X=x) = \\frac{1}{b - a + 1}\n",
    "\\end{align}\n",
    "$\n",
    "\n",
    "Where $a <= x <= b$"
   ]
  },
  {
   "cell_type": "markdown",
   "id": "a0e85855-96d6-4a02-af01-adc23395f8a1",
   "metadata": {},
   "source": [
    "#### Expected Value"
   ]
  },
  {
   "cell_type": "markdown",
   "id": "4ece3e33-5018-4a47-a641-09d205fdee64",
   "metadata": {},
   "source": [
    "$\n",
    "\\begin{align}\n",
    "\\large\n",
    "E[x] = \\frac{a + b}{2}\n",
    "\\end{align}\n",
    "$"
   ]
  },
  {
   "cell_type": "markdown",
   "id": "e882d18d-1be4-4291-9891-6180d7e2ad15",
   "metadata": {},
   "source": [
    "### 4.3 Continuous Uniform Distribution"
   ]
  },
  {
   "cell_type": "markdown",
   "id": "f591a3b8-e1ab-47ff-bf7d-8854d00b463a",
   "metadata": {},
   "source": [
    "#### Formula"
   ]
  },
  {
   "cell_type": "markdown",
   "id": "a286a663-13fe-470b-8fbd-f35c5a134d0f",
   "metadata": {},
   "source": [
    "##### Discrete"
   ]
  },
  {
   "cell_type": "markdown",
   "id": "ce194095-4843-448b-81e8-e278ed704501",
   "metadata": {},
   "source": [
    "Probability of a specific value:\n",
    "\n",
    "$\n",
    "\\begin{align}\n",
    "\\large\n",
    "P(X=x) = \\frac{1}{b - a}\n",
    "\\end{align}\n",
    "$\n",
    "\n",
    "Where $a <= x <= b$"
   ]
  },
  {
   "cell_type": "markdown",
   "id": "41c685da-9b06-4413-bfb5-f33595e7b5d4",
   "metadata": {},
   "source": [
    "##### Continuous"
   ]
  },
  {
   "cell_type": "markdown",
   "id": "7f8ba849-b230-4a12-a40b-d589931ee963",
   "metadata": {},
   "source": [
    "Probability of a range:\n",
    "\n",
    "$\n",
    "\\begin{align}\n",
    "\\large\n",
    "P(X = [x_1, x_2]) = \\frac{x_2 - x_1}{b - a}\n",
    "\\end{align}\n",
    "$"
   ]
  },
  {
   "cell_type": "markdown",
   "id": "3cf5e918-c218-465d-bb71-b44cdbd6b02a",
   "metadata": {},
   "source": [
    "#### Expected Value"
   ]
  },
  {
   "cell_type": "markdown",
   "id": "286c0a2f-d13a-4c17-9bfe-c24d5d5cff93",
   "metadata": {},
   "source": [
    "$\n",
    "\\begin{align}\n",
    "\\large\n",
    "E[x] = \\frac{a + b}{2}\n",
    "\\end{align}\n",
    "$"
   ]
  },
  {
   "cell_type": "markdown",
   "id": "b419e185-1e61-472c-8c01-2daab8546f47",
   "metadata": {},
   "source": [
    "### 4.4 Mean"
   ]
  },
  {
   "cell_type": "markdown",
   "id": "3fc13cfa-09ad-4a6d-a239-baacf2be575d",
   "metadata": {},
   "source": [
    "$\n",
    "\\large\n",
    "\\begin{align}\n",
    "\\mu = \\frac{1}{2} \\bigl(a + b \\bigr)\n",
    "\\end{align}\n",
    "$"
   ]
  },
  {
   "cell_type": "markdown",
   "id": "0295decc-af2f-40bc-b510-f9578eea9bba",
   "metadata": {},
   "source": [
    "Where a and b are limits"
   ]
  },
  {
   "cell_type": "markdown",
   "id": "3f7f2890-05d9-4050-b74a-32f15b30ed39",
   "metadata": {},
   "source": [
    "### 4.5 Variance"
   ]
  },
  {
   "cell_type": "code",
   "execution_count": null,
   "id": "9091131b-8a11-4746-911c-30fe76c83fdc",
   "metadata": {},
   "outputs": [],
   "source": []
  },
  {
   "cell_type": "markdown",
   "id": "b434686f-bb95-4f03-afc6-f093e925dff4",
   "metadata": {},
   "source": [
    "### 4.3 Examples"
   ]
  },
  {
   "cell_type": "markdown",
   "id": "024473b5-18ff-44c6-bda8-89df6d4f7b6a",
   "metadata": {},
   "source": [
    "#### Quiz #1"
   ]
  },
  {
   "cell_type": "markdown",
   "id": "5764a6e3-fe9a-48af-9442-1dc7948c4ee1",
   "metadata": {},
   "source": [
    "Suppose the weight of dolphins is uniformly distributed between 100 pounds and 150 pounds.  \n",
    "If we randomly select a dolphin at random, then determine the probability that the chosen  \n",
    "dolphin will weigh between 120 and 130 pounds."
   ]
  },
  {
   "cell_type": "code",
   "execution_count": 2,
   "id": "1196b2e8-b12a-46e9-a7c2-4f5dbe1c0276",
   "metadata": {},
   "outputs": [],
   "source": [
    "from scipy import stats"
   ]
  },
  {
   "cell_type": "code",
   "execution_count": 3,
   "id": "95a44b32-d349-4230-af23-f56b8fbe9ac0",
   "metadata": {},
   "outputs": [
    {
     "data": {
      "text/plain": [
       "0.2"
      ]
     },
     "execution_count": 3,
     "metadata": {},
     "output_type": "execute_result"
    }
   ],
   "source": [
    "a = 100\n",
    "b = 150\n",
    "\n",
    "x_1 = 120\n",
    "x_2 = 130\n",
    "\n",
    "(x_2 - x_1) / (b - a)"
   ]
  },
  {
   "cell_type": "code",
   "execution_count": null,
   "id": "03a7df01-e259-466e-b4f0-bb5399efdeaa",
   "metadata": {},
   "outputs": [],
   "source": []
  }
 ],
 "metadata": {
  "kernelspec": {
   "display_name": "Python 3 (ipykernel)",
   "language": "python",
   "name": "python3"
  },
  "language_info": {
   "codemirror_mode": {
    "name": "ipython",
    "version": 3
   },
   "file_extension": ".py",
   "mimetype": "text/x-python",
   "name": "python",
   "nbconvert_exporter": "python",
   "pygments_lexer": "ipython3",
   "version": "3.12.6"
  }
 },
 "nbformat": 4,
 "nbformat_minor": 5
}
