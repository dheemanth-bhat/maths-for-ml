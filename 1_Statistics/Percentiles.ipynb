{
 "cells": [
  {
   "cell_type": "code",
   "execution_count": 1,
   "id": "f5673ae1-fbb6-4526-bf64-aabd36c29fbd",
   "metadata": {},
   "outputs": [],
   "source": [
    "import numpy as np\n",
    "\n",
    "np.set_printoptions(linewidth=100)"
   ]
  },
  {
   "cell_type": "code",
   "execution_count": 2,
   "id": "c75e9bea-0494-401e-abcc-fafa31f3028f",
   "metadata": {},
   "outputs": [],
   "source": [
    "def print_quartiles(arr):\n",
    "    \"\"\"\n",
    "    Function to return IQRs.\n",
    "    \"\"\"\n",
    "    print(\"Array:\", arr.tolist())\n",
    "    print(\"Length:\", len(arr))\n",
    "\n",
    "    mask = arr <= np.percentile(arr, 25)\n",
    "    q1 = arr[mask]\n",
    "    print(\"Q1:\", q1.tolist())\n",
    "    \n",
    "    mask = (arr > np.percentile(arr, 25)) & (arr <= np.percentile(arr, 50))\n",
    "    q2 = arr[mask]\n",
    "    print(\"Q2:\", q2.tolist())\n",
    "\n",
    "    mask = (arr > np.percentile(arr, 50)) & (arr <= np.percentile(arr, 75))\n",
    "    q3 = arr[mask]\n",
    "    print(\"Q3:\", q3.tolist())\n",
    "\n",
    "    mask = arr > np.percentile(arr, 75)\n",
    "    q4 = arr[mask]\n",
    "    print(\"Q4:\", q4.tolist())"
   ]
  },
  {
   "cell_type": "markdown",
   "id": "9390805f-2c0a-4bfd-9863-414b7dcdb773",
   "metadata": {},
   "source": [
    "#### Example #1"
   ]
  },
  {
   "cell_type": "code",
   "execution_count": 3,
   "id": "69c1c1d4-b54a-4e3b-8db2-4aa8247f9070",
   "metadata": {},
   "outputs": [
    {
     "name": "stdout",
     "output_type": "stream",
     "text": [
      "Array: [60, 8, 30, 0, 56, 100, 98, 59, 1, 99]\n",
      "Length: 10\n",
      "Q1: [8, 0, 1]\n",
      "Q2: [30, 56]\n",
      "Q3: [60, 59]\n",
      "Q4: [100, 98, 99]\n"
     ]
    }
   ],
   "source": [
    "arr = np.array([60, 8, 30, 0, 56, 100, 98, 59, 1, 99])\n",
    "print_quartiles(arr)"
   ]
  },
  {
   "cell_type": "markdown",
   "id": "fad2c44a-ee8b-40e3-a8d5-d77a5019eb37",
   "metadata": {},
   "source": [
    "#### Example #2"
   ]
  },
  {
   "cell_type": "code",
   "execution_count": 4,
   "id": "39396175-a5c5-4cd9-b3ad-6fa85173c986",
   "metadata": {},
   "outputs": [
    {
     "name": "stdout",
     "output_type": "stream",
     "text": [
      "Array: [10.0, 55.0, 0.0, 99.8, 100.0, 0.8, 53.0, 1.0, 99.0, 50.0, 99.1]\n",
      "Length: 11\n",
      "Q1: [0.0, 0.8, 1.0]\n",
      "Q2: [10.0, 53.0, 50.0]\n",
      "Q3: [55.0, 99.0]\n",
      "Q4: [99.8, 100.0, 99.1]\n"
     ]
    }
   ],
   "source": [
    "arr = np.array([10, 55, 0, 99.8, 100, 0.8, 53, 1, 99, 50, 99.1])\n",
    "print_quartiles(arr)"
   ]
  },
  {
   "cell_type": "markdown",
   "id": "a7cdfad0-7ed1-4f53-9f45-3f709c6d5c8d",
   "metadata": {},
   "source": [
    "#### Example #3"
   ]
  },
  {
   "cell_type": "code",
   "execution_count": 5,
   "id": "4efd77cf-2f7d-4842-abd6-b0fdc09757a5",
   "metadata": {},
   "outputs": [
    {
     "name": "stdout",
     "output_type": "stream",
     "text": [
      "Array: [10, 1, 3, 8, 2, 6]\n",
      "Length: 6\n",
      "Q1: [1, 2]\n",
      "Q2: [3]\n",
      "Q3: [6]\n",
      "Q4: [10, 8]\n"
     ]
    }
   ],
   "source": [
    "arr = np.array([10, 1, 3, 8, 2, 6])\n",
    "print_quartiles(arr)"
   ]
  },
  {
   "cell_type": "code",
   "execution_count": 7,
   "id": "6e71ca45-79dc-422f-9ce4-f4e08ddeaf19",
   "metadata": {},
   "outputs": [
    {
     "data": {
      "text/plain": [
       "6"
      ]
     },
     "execution_count": 7,
     "metadata": {},
     "output_type": "execute_result"
    }
   ],
   "source": [
    "arr.size"
   ]
  },
  {
   "cell_type": "code",
   "execution_count": null,
   "id": "18460509-e9b3-46dc-be3d-fd4a237749bf",
   "metadata": {},
   "outputs": [],
   "source": []
  }
 ],
 "metadata": {
  "kernelspec": {
   "display_name": "Python 3 (ipykernel)",
   "language": "python",
   "name": "python3"
  },
  "language_info": {
   "codemirror_mode": {
    "name": "ipython",
    "version": 3
   },
   "file_extension": ".py",
   "mimetype": "text/x-python",
   "name": "python",
   "nbconvert_exporter": "python",
   "pygments_lexer": "ipython3",
   "version": "3.12.6"
  }
 },
 "nbformat": 4,
 "nbformat_minor": 5
}
