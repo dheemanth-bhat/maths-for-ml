{
 "cells": [
  {
   "cell_type": "markdown",
   "id": "68ae66e9-f3a6-4462-bcc2-2a18e3508aeb",
   "metadata": {},
   "source": [
    "## 1 Gaussian Distribution"
   ]
  },
  {
   "cell_type": "markdown",
   "id": "56307cfa-092d-4f2b-96f3-9d50fdf880a2",
   "metadata": {},
   "source": [
    "### 1.1 What is Gaussian Distribution?"
   ]
  },
  {
   "cell_type": "markdown",
   "id": "b52a624d-3188-4aff-9705-ecd699185439",
   "metadata": {},
   "source": [
    "#### Definition"
   ]
  },
  {
   "cell_type": "markdown",
   "id": "43cdb2a5-42db-4c44-9c43-1cfde25d3872",
   "metadata": {},
   "source": [
    "A Gaussian Distribution also called as Normal Distribution is a symmetric, continuous probability distribution where most data points cluster around the mean."
   ]
  },
  {
   "cell_type": "markdown",
   "id": "ba273beb-2a76-4823-98ba-e829813e1cc6",
   "metadata": {},
   "source": [
    "#### Properties of Normal Distribution"
   ]
  },
  {
   "cell_type": "markdown",
   "id": "1b7db831-e499-4581-8ae4-b8adecf62b9d",
   "metadata": {},
   "source": [
    "* Normal Distribution is only applicable for Continuous Random variable.\n",
    "* Binning the data-points in the distribution using Histogram creates bell curve.\n",
    "* Mean and Standard Deviation is called as parameter of Normal Distribution since we can recreate entire distribution using mean and SD."
   ]
  },
  {
   "cell_type": "markdown",
   "id": "9b0b7f6b-e2ec-4ff6-b925-848b5894cbcf",
   "metadata": {},
   "source": [
    "> **Note**:\n",
    ">\n",
    "> If Mean, Median, Mode all lie at the center does not always mean its a Normal Distribution.  \n",
    "> Best way to identify Normal Distribution is to use Empirical Rule."
   ]
  },
  {
   "cell_type": "markdown",
   "id": "eb3aadac-744a-4ffd-b4b7-c58e350f2402",
   "metadata": {},
   "source": [
    "### 1.2 Empirical Rule"
   ]
  },
  {
   "cell_type": "markdown",
   "id": "f10bc757-1e17-4afe-8826-b01470d0eced",
   "metadata": {},
   "source": [
    "#### Rule"
   ]
  },
  {
   "cell_type": "markdown",
   "id": "e030e841-f64b-4da2-812a-98df1ca51d7c",
   "metadata": {},
   "source": [
    "$\n",
    "\\begin{align}\n",
    "\\large\n",
    "\\text{68 / 95 / 99.7}\n",
    "\\end{align}\n",
    "$"
   ]
  },
  {
   "cell_type": "markdown",
   "id": "3b65926f-11be-4e2d-ad2f-c4d11e909d89",
   "metadata": {},
   "source": [
    "#### Explanation"
   ]
  },
  {
   "cell_type": "markdown",
   "id": "d0f10488-22c9-4fd5-ae0f-9e558d509c95",
   "metadata": {},
   "source": [
    "For a given distribution whose mean mean lie at the center:\n",
    "\n",
    "1. 68% of data-points lie within 1 standard deviation away from mean.\n",
    "2. 95% of data-points lie within 2 standard deviation away from mean.\n",
    "3. 99% of data-points lie within 3 standard deviation away from mean."
   ]
  },
  {
   "cell_type": "markdown",
   "id": "ec1c80e5-4a82-49bd-aabe-3a4475983eaf",
   "metadata": {},
   "source": [
    "### 1.3 Examples"
   ]
  },
  {
   "cell_type": "code",
   "execution_count": 1,
   "id": "63aea784-1ab9-4bee-80f8-46077bfa21d9",
   "metadata": {},
   "outputs": [],
   "source": [
    "import numpy as np\n",
    "from scipy import stats"
   ]
  },
  {
   "cell_type": "markdown",
   "id": "196159b6-282d-4d2e-b990-eec8539ad0af",
   "metadata": {},
   "source": [
    "#### Quiz #1"
   ]
  },
  {
   "cell_type": "markdown",
   "id": "8dd2bb46-e06d-4f27-9c79-e27bd23518ba",
   "metadata": {},
   "source": [
    "The height of people is Gaussian with mean 65 inches and standard deviation 2.5 inches.  \n",
    "What is the fraction of people whose height is between 60 and 72.5?"
   ]
  },
  {
   "cell_type": "markdown",
   "id": "2d843555-c506-4791-a7a6-5b01e9b6113b",
   "metadata": {},
   "source": [
    "##### Solution"
   ]
  },
  {
   "cell_type": "code",
   "execution_count": 2,
   "id": "d07a4f03-f30e-40bd-a65c-d6dbf0c88b8e",
   "metadata": {},
   "outputs": [],
   "source": [
    "mu = 65\n",
    "std = 2.5\n",
    "# Find: P (60 <= x <= 72.5)\n",
    "# P(x <= 72.5) - P(x <= 60)"
   ]
  },
  {
   "cell_type": "code",
   "execution_count": 3,
   "id": "bc51d2ec-2cde-411d-b1cd-8f10946154a7",
   "metadata": {},
   "outputs": [
    {
     "data": {
      "text/plain": [
       "(60.0, 72.5)"
      ]
     },
     "execution_count": 3,
     "metadata": {},
     "output_type": "execute_result"
    }
   ],
   "source": [
    "mu - 2 * std, mu + 3 * std"
   ]
  },
  {
   "cell_type": "code",
   "execution_count": 4,
   "id": "f5da6dd0-243f-4cf8-92d2-5c1e8f8a255a",
   "metadata": {},
   "outputs": [
    {
     "data": {
      "text/plain": [
       "97.35"
      ]
     },
     "execution_count": 4,
     "metadata": {},
     "output_type": "execute_result"
    }
   ],
   "source": [
    "# Half of 2SD + Half of 3SD\n",
    "(95 / 2) + (99.7 / 2)"
   ]
  },
  {
   "cell_type": "markdown",
   "id": "d5091322-3524-468d-8da6-2349a33131fd",
   "metadata": {},
   "source": [
    "or"
   ]
  },
  {
   "cell_type": "code",
   "execution_count": 5,
   "id": "1c9df8be-2348-4d6c-8d81-f9a8004e19e2",
   "metadata": {},
   "outputs": [
    {
     "data": {
      "text/plain": [
       "np.float64(0.9759)"
      ]
     },
     "execution_count": 5,
     "metadata": {},
     "output_type": "execute_result"
    }
   ],
   "source": [
    "z1 = -2\n",
    "z2 = 3\n",
    "(stats.norm.cdf(z2) - stats.norm.cdf(z1)).round(4)"
   ]
  },
  {
   "cell_type": "markdown",
   "id": "875ff109-87c4-4f54-84f2-006ffd5f6dd2",
   "metadata": {},
   "source": [
    "#### Quiz #2"
   ]
  },
  {
   "cell_type": "markdown",
   "id": "cc42109c-ef99-4f81-b47f-15c0fdb874e1",
   "metadata": {},
   "source": [
    "The height of people is Gaussian with mean 65 inches and standard deviation 2.5 inches.  \n",
    "What fraction of people are shorter than 67.5?"
   ]
  },
  {
   "cell_type": "markdown",
   "id": "aafecd55-afa8-46d5-8b6a-00cad1a3d2bd",
   "metadata": {},
   "source": [
    "##### Solution"
   ]
  },
  {
   "cell_type": "code",
   "execution_count": 6,
   "id": "69998875-3f6f-423b-9de0-494408df0d8d",
   "metadata": {},
   "outputs": [
    {
     "data": {
      "text/plain": [
       "(62.5, 67.5)"
      ]
     },
     "execution_count": 6,
     "metadata": {},
     "output_type": "execute_result"
    }
   ],
   "source": [
    "65 - (1 * 2.5), 65 + (1 * 2.5)"
   ]
  },
  {
   "cell_type": "code",
   "execution_count": 7,
   "id": "6ccdf676-c192-46de-9a88-9295b5dfb080",
   "metadata": {},
   "outputs": [
    {
     "data": {
      "text/plain": [
       "0.84"
      ]
     },
     "execution_count": 7,
     "metadata": {},
     "output_type": "execute_result"
    }
   ],
   "source": [
    "# Why 0.5?\n",
    "# Ans: 50% of data is before median\n",
    "res = 0.5 + (0.68 / 2)\n",
    "round(res, 4)"
   ]
  },
  {
   "cell_type": "markdown",
   "id": "4e3638e4-0808-40e1-bbb8-9e516704932d",
   "metadata": {},
   "source": [
    "or"
   ]
  },
  {
   "cell_type": "code",
   "execution_count": 8,
   "id": "39845aad-31a5-40d2-a23b-fa46e3173c98",
   "metadata": {},
   "outputs": [],
   "source": [
    "mu = 65\n",
    "std = 2.5\n",
    "# Find: P(x <= 67.5)"
   ]
  },
  {
   "cell_type": "code",
   "execution_count": 9,
   "id": "f6a058a4-014b-4a8b-aeac-1a4d4875f90f",
   "metadata": {},
   "outputs": [
    {
     "data": {
      "text/plain": [
       "(62.5, 67.5)"
      ]
     },
     "execution_count": 9,
     "metadata": {},
     "output_type": "execute_result"
    }
   ],
   "source": [
    "mu - 1 * std, mu + 1 * std"
   ]
  },
  {
   "cell_type": "code",
   "execution_count": 10,
   "id": "871e22d1-1e67-454a-a17e-bb8ec6cec1c9",
   "metadata": {},
   "outputs": [
    {
     "data": {
      "text/plain": [
       "0.8413"
      ]
     },
     "execution_count": 10,
     "metadata": {},
     "output_type": "execute_result"
    }
   ],
   "source": [
    "z_score = 1\n",
    "stats.norm.cdf(z_score).round(4).item()"
   ]
  },
  {
   "cell_type": "markdown",
   "id": "f31819ff-3af6-469a-848c-314d60e2a08e",
   "metadata": {},
   "source": [
    "#### Quiz #3"
   ]
  },
  {
   "cell_type": "markdown",
   "id": "ebb5d4bc-0e63-483d-8496-9351f6f24dd4",
   "metadata": {},
   "source": [
    "The height of people is Gaussian with mean 65 inches and standard deviation 2.5 inches.  \n",
    "What fraction of people are shorter than 70?"
   ]
  },
  {
   "cell_type": "markdown",
   "id": "8d95f318-41e6-4977-9f2d-a02baaed062a",
   "metadata": {},
   "source": [
    "##### Solution"
   ]
  },
  {
   "cell_type": "code",
   "execution_count": 11,
   "id": "4d243ffb-4fbf-4204-899f-3938b9c3735a",
   "metadata": {},
   "outputs": [],
   "source": [
    "mu = 65\n",
    "std = 2.5\n",
    "# Find: P (x <= 70)"
   ]
  },
  {
   "cell_type": "code",
   "execution_count": 12,
   "id": "e9aa0862-17b5-47dd-9e79-5a838843be5f",
   "metadata": {},
   "outputs": [
    {
     "data": {
      "text/plain": [
       "(60.0, 70.0)"
      ]
     },
     "execution_count": 12,
     "metadata": {},
     "output_type": "execute_result"
    }
   ],
   "source": [
    "mu - 2 * std, mu + 2 * std"
   ]
  },
  {
   "cell_type": "code",
   "execution_count": 13,
   "id": "54ee374b-4d31-4c65-af26-0367a3e41487",
   "metadata": {},
   "outputs": [
    {
     "data": {
      "text/plain": [
       "0.975"
      ]
     },
     "execution_count": 13,
     "metadata": {},
     "output_type": "execute_result"
    }
   ],
   "source": [
    "# 50% of data is before median\n",
    "0.5 + (0.95 / 2)"
   ]
  },
  {
   "cell_type": "markdown",
   "id": "2af29cf6-5512-46c4-94be-a30ae01d5afe",
   "metadata": {},
   "source": [
    "or"
   ]
  },
  {
   "cell_type": "code",
   "execution_count": 14,
   "id": "8661b68d-107b-446d-8bd8-079d69749210",
   "metadata": {},
   "outputs": [
    {
     "data": {
      "text/plain": [
       "0.9772"
      ]
     },
     "execution_count": 14,
     "metadata": {},
     "output_type": "execute_result"
    }
   ],
   "source": [
    "z_score = 2\n",
    "stats.norm.cdf(z_score).round(4).item()"
   ]
  },
  {
   "cell_type": "markdown",
   "id": "7bf3ff00-c684-4133-9a2b-5ba5a765f1b7",
   "metadata": {},
   "source": [
    "## 2 Z-Score"
   ]
  },
  {
   "cell_type": "markdown",
   "id": "f49beafd-acdf-4832-bc65-8630f791d5ce",
   "metadata": {},
   "source": [
    "### 2.1 What is Z-Score?"
   ]
  },
  {
   "cell_type": "markdown",
   "id": "8add631e-719e-4586-8543-c66aea860ef7",
   "metadata": {},
   "source": [
    "#### Definition"
   ]
  },
  {
   "cell_type": "markdown",
   "id": "a269c486-c7fd-44d2-870c-c23438b150be",
   "metadata": {},
   "source": [
    "A Z-score (or standard score) measures how many standard deviations $\\sigma$ a data point $x$ is above or below the mean $\\mu$ of a distribution.\n",
    "\n",
    "$x = \\mu + (z \\cdot \\sigma)$"
   ]
  },
  {
   "cell_type": "markdown",
   "id": "bd33e43a-8c9c-44ed-a8bc-793d8e9be915",
   "metadata": {},
   "source": [
    "$\n",
    "\\begin{align}\n",
    "P\\bigl((\\mu - 1\\sigma) < x < (\\mu - 1\\sigma)\\bigr) = 0.68 \\text{, when z = 1}\\\\\n",
    "P\\bigl((\\mu - 2\\sigma) < x < (\\mu - 2\\sigma)\\bigr) = 0.95 \\text{, when z = 2}\\\\\n",
    "P\\bigl((\\mu - 3\\sigma) < x < (\\mu - 3\\sigma)\\bigr) = 0.99 \\text{, when z = 3}\\\\\n",
    "\\end{align}\n",
    "$"
   ]
  },
  {
   "cell_type": "markdown",
   "id": "336d329d-2fc6-4fd6-9239-52ab8442254c",
   "metadata": {},
   "source": [
    "#### Formula"
   ]
  },
  {
   "cell_type": "markdown",
   "id": "1a0bee96-be07-47df-99ad-a368ba7dfcb0",
   "metadata": {},
   "source": [
    "$\n",
    "\\begin{align}\n",
    "\\large\n",
    "\\text{Z-Score} = \\frac{(x - \\mu)}{\\sigma}\n",
    "\\end{align}\n",
    "$"
   ]
  },
  {
   "cell_type": "markdown",
   "id": "8dce4ce7-574d-4f12-9eda-97ca60743194",
   "metadata": {},
   "source": [
    "1. Z-score can be zero, positive or negative.  \n",
    "1. A **z-score = 0**, represents that the data-point is the **mean itself**.  \n",
    "1. A **positive Z-Score** indicates that data-point lies **right side of mean**.  \n",
    "1. A **negative Z-Score** indicates that data-point lies **left side of mean**."
   ]
  },
  {
   "cell_type": "markdown",
   "id": "76f9d607-7b15-4b4e-84d7-132a4ecc00b1",
   "metadata": {},
   "source": [
    "### 2.2 Examples"
   ]
  },
  {
   "cell_type": "markdown",
   "id": "c5d372e4-8405-4ab1-ae20-eadc2ac49ecc",
   "metadata": {},
   "source": [
    "#### Quiz #1"
   ]
  },
  {
   "cell_type": "markdown",
   "id": "05adf561-2f03-4e6c-93ee-27b0aa692464",
   "metadata": {},
   "source": [
    "The height of people is Gaussian with mean 65 inches and standard deviation 2.5 inches.  \n",
    "What fraction of people are shorter than 69.1?"
   ]
  },
  {
   "cell_type": "markdown",
   "id": "7abef8ff-62d6-4049-8c41-be3d7dba2c39",
   "metadata": {},
   "source": [
    "##### Solution"
   ]
  },
  {
   "cell_type": "code",
   "execution_count": 15,
   "id": "7f6e4d87-0cd3-43aa-aba4-dcc60db4358d",
   "metadata": {},
   "outputs": [],
   "source": [
    "mu = 65\n",
    "std = 2.5\n",
    "# Find: P(x <= 69.1)\n",
    "x = 69.1"
   ]
  },
  {
   "cell_type": "code",
   "execution_count": 16,
   "id": "ce59308d-e80f-43fb-a074-9ad1101db7e7",
   "metadata": {},
   "outputs": [
    {
     "data": {
      "text/plain": [
       "1.6399999999999977"
      ]
     },
     "execution_count": 16,
     "metadata": {},
     "output_type": "execute_result"
    }
   ],
   "source": [
    "z_score = (x - mu) / std\n",
    "z_score"
   ]
  },
  {
   "cell_type": "code",
   "execution_count": 17,
   "id": "69d0734e-4bdd-4820-a010-5e2f709f8508",
   "metadata": {},
   "outputs": [
    {
     "data": {
      "text/plain": [
       "0.9495"
      ]
     },
     "execution_count": 17,
     "metadata": {},
     "output_type": "execute_result"
    }
   ],
   "source": [
    "stats.norm.cdf(z_score).round(4).item()"
   ]
  },
  {
   "cell_type": "markdown",
   "id": "3831b875-c458-4aea-adfb-09ae9ec552b1",
   "metadata": {},
   "source": [
    "#### Quiz #2"
   ]
  },
  {
   "cell_type": "markdown",
   "id": "d7d77a13-8105-4a89-8deb-56d63ab9dca0",
   "metadata": {},
   "source": [
    "The height of people is Gaussian with mean 65 inches and standard deviation 2.5 inches.  \n",
    "What fraction of people are shorter than 67.5?"
   ]
  },
  {
   "cell_type": "markdown",
   "id": "030c9292-c6ce-45c4-8b77-b9fedd5f3c44",
   "metadata": {},
   "source": [
    "##### Solution"
   ]
  },
  {
   "cell_type": "code",
   "execution_count": 18,
   "id": "6556c50f-7d1c-4b97-8717-89821fa006e2",
   "metadata": {},
   "outputs": [],
   "source": [
    "mu = 65\n",
    "std = 2.5\n",
    "# Find: P(x < 67.5)\n",
    "x = 67.5"
   ]
  },
  {
   "cell_type": "code",
   "execution_count": 19,
   "id": "6add08a7-9d80-4ea4-a488-594404381c39",
   "metadata": {},
   "outputs": [
    {
     "data": {
      "text/plain": [
       "1.0"
      ]
     },
     "execution_count": 19,
     "metadata": {},
     "output_type": "execute_result"
    }
   ],
   "source": [
    "z_score = (x - mu) / std\n",
    "z_score"
   ]
  },
  {
   "cell_type": "code",
   "execution_count": 20,
   "id": "aced3016-602d-4e44-bb87-e9007942a4bb",
   "metadata": {},
   "outputs": [
    {
     "data": {
      "text/plain": [
       "0.8413"
      ]
     },
     "execution_count": 20,
     "metadata": {},
     "output_type": "execute_result"
    }
   ],
   "source": [
    "stats.norm.cdf(z_score).round(4).item()"
   ]
  },
  {
   "cell_type": "markdown",
   "id": "f6de41b2-2cdc-4d2a-be1b-1fe33dbe7f74",
   "metadata": {},
   "source": [
    "#### Quiz #3"
   ]
  },
  {
   "cell_type": "markdown",
   "id": "6bf7fa24-dc9a-445a-a709-b8451b4e3db5",
   "metadata": {},
   "source": [
    "Balls produced by the manufacturer have a mean diameter of 50 mm and std dev 2 mm.  \n",
    "What fraction of balls have a diameter smaller than 53 mm?"
   ]
  },
  {
   "cell_type": "markdown",
   "id": "881177e2-e91e-4eda-b042-c190cdfead62",
   "metadata": {},
   "source": [
    "##### Solution"
   ]
  },
  {
   "cell_type": "code",
   "execution_count": 21,
   "id": "d17b889a-418f-4db4-abba-50d0e0057869",
   "metadata": {},
   "outputs": [],
   "source": [
    "mu = 50\n",
    "std = 2\n",
    "# Find: P(x < 53)\n",
    "x = 53"
   ]
  },
  {
   "cell_type": "code",
   "execution_count": 22,
   "id": "198e81a3-4e7c-462b-9790-64d8570000b4",
   "metadata": {},
   "outputs": [
    {
     "data": {
      "text/plain": [
       "0.9332"
      ]
     },
     "execution_count": 22,
     "metadata": {},
     "output_type": "execute_result"
    }
   ],
   "source": [
    "z_score = (53 - 50) / 2\n",
    "stats.norm.cdf(z_score).round(4).item()"
   ]
  },
  {
   "cell_type": "markdown",
   "id": "8718c775-cdd3-4e53-844a-ea6983667472",
   "metadata": {},
   "source": [
    "## 3 Percent Point Function `ppf`"
   ]
  },
  {
   "cell_type": "markdown",
   "id": "99abcfea-78b6-4bac-811f-ebfb7e353f25",
   "metadata": {},
   "source": [
    "### 3.1 What is Percent Point Function `ppf`?"
   ]
  },
  {
   "cell_type": "markdown",
   "id": "a788c667-7137-449b-a828-dde682149b48",
   "metadata": {},
   "source": [
    "The percent point function (PPF) is the inverse of the cumulative distribution function (CDF)."
   ]
  },
  {
   "cell_type": "markdown",
   "id": "670cee42-26d0-4aad-8fe5-e2db78dd9b32",
   "metadata": {},
   "source": [
    "#### `cdf` vs `ppf`"
   ]
  },
  {
   "cell_type": "markdown",
   "id": "58eaa7aa-d4cf-42b6-9e14-34d1656c5e2c",
   "metadata": {},
   "source": [
    "* Use `ppf()` to get Z-Score from Percentile.\n",
    "* Use `cdf()` to get Percentile from Z-Score."
   ]
  },
  {
   "cell_type": "markdown",
   "id": "aeb2eb66-0229-4124-a3d7-1b58ae50c9af",
   "metadata": {},
   "source": [
    "> **Note**:\n",
    ">\n",
    "> `cdf` function gives probability from z-score.  \n",
    "> `ppf` function gives Z-Score from probability.  "
   ]
  },
  {
   "cell_type": "markdown",
   "id": "9cce6614-5160-4a06-b05a-fca98e779f1b",
   "metadata": {},
   "source": [
    "### 3.2 Examples"
   ]
  },
  {
   "cell_type": "markdown",
   "id": "9be87f8c-4269-4378-9f15-d8e9e7aa1940",
   "metadata": {},
   "source": [
    "#### Quiz #1"
   ]
  },
  {
   "cell_type": "markdown",
   "id": "2130d421-dfd5-4c7a-b3d3-0d6d0a6ae452",
   "metadata": {},
   "source": [
    "The height of people is Gaussian Distribution with mean height of 65 inches and standard deviation of 2.5 inches.  \n",
    "One person says \"96% of people are shorter than me.\" What is that person's height?"
   ]
  },
  {
   "cell_type": "markdown",
   "id": "a26d94e8-dbb7-495c-a8cf-9b09e3ef1e70",
   "metadata": {},
   "source": [
    "##### Solution"
   ]
  },
  {
   "cell_type": "code",
   "execution_count": 23,
   "id": "9778d7fa-9787-494e-9314-c4f885dbc32a",
   "metadata": {},
   "outputs": [],
   "source": [
    "mu = 65\n",
    "std = 2.5\n",
    "prob = 0.96"
   ]
  },
  {
   "cell_type": "code",
   "execution_count": 24,
   "id": "5a814c05-3877-4580-b817-49d05aee935f",
   "metadata": {},
   "outputs": [
    {
     "name": "stdout",
     "output_type": "stream",
     "text": [
      "z-core for the probability of 0.96 is 1.75\n"
     ]
    }
   ],
   "source": [
    "z_score = stats.norm.ppf(prob).round(2)\n",
    "print(f\"z-core for the probability of {prob} is {z_score}\")"
   ]
  },
  {
   "cell_type": "code",
   "execution_count": 25,
   "id": "afad2e05-0e70-4968-a7be-33b74af941c0",
   "metadata": {},
   "outputs": [
    {
     "name": "stdout",
     "output_type": "stream",
     "text": [
      "Person's Height is: 69.375\n"
     ]
    }
   ],
   "source": [
    "height = mu + (z_score * std)\n",
    "print(\"Person's Height is:\", height)"
   ]
  },
  {
   "cell_type": "markdown",
   "id": "2e6d9ab0-453a-44e0-9266-784368cd970c",
   "metadata": {},
   "source": [
    "#### Quiz #2"
   ]
  },
  {
   "cell_type": "markdown",
   "id": "2bc5049d-5471-457d-92cd-20456f1bcf9f",
   "metadata": {},
   "source": [
    "Skaters take a mean of 7.42 seconds and std dev of 0.34 seconds for 500 meters.  \n",
    "What should his speed be such that he is faster than 95% of his competitors?"
   ]
  },
  {
   "cell_type": "markdown",
   "id": "7807c748-e0dc-4b52-828c-5898f1efc8cd",
   "metadata": {},
   "source": [
    "##### Solution"
   ]
  },
  {
   "cell_type": "code",
   "execution_count": 26,
   "id": "0e506406-1bc0-4561-9eb9-ad73b84b5115",
   "metadata": {},
   "outputs": [],
   "source": [
    "mu = 7.42\n",
    "std = 0.34\n",
    "distance = 500\n",
    "prob = round(1 - 0.95, 2)  # Top 5%"
   ]
  },
  {
   "cell_type": "code",
   "execution_count": 27,
   "id": "4ad400bf-f80f-4d37-9577-0e857a540f8b",
   "metadata": {},
   "outputs": [
    {
     "name": "stdout",
     "output_type": "stream",
     "text": [
      "z-score value for probability 0.05 is -1.64.\n"
     ]
    }
   ],
   "source": [
    "z_score = stats.norm.ppf(prob).round(2).item()\n",
    "print(f\"z-score value for probability {prob} is {z_score}.\")"
   ]
  },
  {
   "cell_type": "code",
   "execution_count": 28,
   "id": "64581f83-3b35-472c-8ca7-f41111760eaa",
   "metadata": {},
   "outputs": [
    {
     "name": "stdout",
     "output_type": "stream",
     "text": [
      "Time at z-score -1.64 is 6.86\n"
     ]
    }
   ],
   "source": [
    "time = mu + (z_score * std)\n",
    "time = round(time, 2)\n",
    "print(f\"Time at z-score {z_score} is {time}\")"
   ]
  },
  {
   "cell_type": "code",
   "execution_count": 29,
   "id": "47f6d6a0-1057-4112-8df9-5d3ce8cdfaf8",
   "metadata": {},
   "outputs": [
    {
     "name": "stdout",
     "output_type": "stream",
     "text": [
      "Speed must be 72.89 to be in top 5%\n"
     ]
    }
   ],
   "source": [
    "speed = distance / time\n",
    "speed = round(speed, 2)\n",
    "print(f\"Speed must be {speed} to be in top 5%\")"
   ]
  },
  {
   "cell_type": "markdown",
   "id": "c759019f-d01c-41f6-8300-a6f9eaa6e607",
   "metadata": {},
   "source": [
    "#### Quiz #3"
   ]
  },
  {
   "cell_type": "markdown",
   "id": "f6a274bb-7182-4562-b50c-349f50f8eb0e",
   "metadata": {},
   "source": [
    "A retail outlet sells around 1000 toothpastes a week, with standard deviation = 200.  \n",
    "If we have 1300 stock units as our inventory, then \n",
    "\n",
    "1. What is the probability you'd need to replenish stocks?\n",
    "2. How much inventory should you have, such that there is only 3% chance of running out of stock mid-week?"
   ]
  },
  {
   "cell_type": "markdown",
   "id": "055493c9-eb2f-4e11-8584-f6129f7a91bd",
   "metadata": {},
   "source": [
    "##### Solution"
   ]
  },
  {
   "cell_type": "markdown",
   "id": "9e7553a5-168b-41b2-9ed9-5fbfb981078c",
   "metadata": {},
   "source": [
    "PART 1:"
   ]
  },
  {
   "cell_type": "code",
   "execution_count": 30,
   "id": "91eed680-a834-4295-a9e2-54761a565288",
   "metadata": {},
   "outputs": [],
   "source": [
    "mu = 1000\n",
    "std = 200\n",
    "\n",
    "# We have to replenish stock if sales goes > 1300.\n",
    "# Hence find: P(x > 1300)\n",
    "# P(x > 1300) = 1 - P(x < 1300)\n",
    "x = 1300"
   ]
  },
  {
   "cell_type": "code",
   "execution_count": 31,
   "id": "14eace19-6664-4de3-822d-0c5836bd86b9",
   "metadata": {},
   "outputs": [
    {
     "data": {
      "text/plain": [
       "1.5"
      ]
     },
     "execution_count": 31,
     "metadata": {},
     "output_type": "execute_result"
    }
   ],
   "source": [
    "z_score = (x - mu) / std\n",
    "z_score"
   ]
  },
  {
   "cell_type": "code",
   "execution_count": 32,
   "id": "2a969587-4fa0-4f7b-95b6-7f501a5aa6e3",
   "metadata": {},
   "outputs": [
    {
     "name": "stdout",
     "output_type": "stream",
     "text": [
      "0.0668\n"
     ]
    }
   ],
   "source": [
    "prob_x_gt_1300 = 1 - stats.norm.cdf(z_score)\n",
    "print(round(prob_x_gt_1300, 4))"
   ]
  },
  {
   "cell_type": "markdown",
   "id": "fcbc41c7-96a7-46f8-a5e7-6a13d74c2644",
   "metadata": {},
   "source": [
    "PART 2:"
   ]
  },
  {
   "cell_type": "code",
   "execution_count": 33,
   "id": "d4430481-61dc-461c-9b5c-39ef4523ab96",
   "metadata": {},
   "outputs": [],
   "source": [
    "# probability that you are 97% in stock:\n",
    "prob = 1 - 0.03"
   ]
  },
  {
   "cell_type": "code",
   "execution_count": 34,
   "id": "da94f556-6fd6-46e5-8f59-8d48bc77beb4",
   "metadata": {},
   "outputs": [
    {
     "name": "stdout",
     "output_type": "stream",
     "text": [
      "1376.0\n"
     ]
    }
   ],
   "source": [
    "z_score = stats.norm.ppf(prob).round(2)\n",
    "x = mu + (z_score * std)\n",
    "print(x)"
   ]
  },
  {
   "cell_type": "markdown",
   "id": "0ea06256-4e23-42dd-952f-68c89da8a08a",
   "metadata": {},
   "source": [
    "## 4 Standard Normal Distribution"
   ]
  },
  {
   "cell_type": "markdown",
   "id": "470aded6-2ad5-464f-87f2-b40a1e32e5b8",
   "metadata": {},
   "source": [
    "### 4.1 What is Standard Normal Distribution?"
   ]
  },
  {
   "cell_type": "markdown",
   "id": "f69e0bc0-f4b3-40d0-a65d-902f061766b5",
   "metadata": {},
   "source": [
    "#### Definition"
   ]
  },
  {
   "cell_type": "markdown",
   "id": "8ac59d62-9061-4b7b-b2b5-84e98c687452",
   "metadata": {},
   "source": [
    "Normal Distribution with mean zero and standard deviation one is called as Standard Normal Distribution."
   ]
  },
  {
   "cell_type": "markdown",
   "id": "8ff519f2-edf7-4d11-8623-6bbb269d8d2e",
   "metadata": {},
   "source": [
    "We can take any Normal Distribution and convert it to The Standard Normal Distribution, using Standardization."
   ]
  },
  {
   "cell_type": "markdown",
   "id": "2731ac08-ceb4-4766-8c7e-311860259ad1",
   "metadata": {},
   "source": [
    "#### Formula"
   ]
  },
  {
   "cell_type": "markdown",
   "id": "10325197-79eb-4a28-a0b2-aecce743b2a3",
   "metadata": {},
   "source": []
  },
  {
   "cell_type": "markdown",
   "id": "062e9a31-b478-4da0-bdc5-73c644643cd4",
   "metadata": {},
   "source": [
    "## 5 Appendix"
   ]
  },
  {
   "cell_type": "markdown",
   "id": "a2739753-63bb-4386-9513-193d03f5137c",
   "metadata": {},
   "source": [
    "```\n",
    "  P(a < x < b) \n",
    "= P(x < b) - P(x < a)\n",
    "= cdf(b) - cdf(b)\n",
    "\n",
    "  P(x < a) \n",
    "= cdf(a)\n",
    "\n",
    "  P(X > a) \n",
    "= 1 - P(x < a)\n",
    "= 1 - cdf(a)\n",
    "```"
   ]
  },
  {
   "cell_type": "code",
   "execution_count": null,
   "id": "20d3b8d5-aa0d-4c25-98ce-cc710666d2a5",
   "metadata": {},
   "outputs": [],
   "source": []
  },
  {
   "cell_type": "code",
   "execution_count": null,
   "id": "567ace5e-12ad-4286-9ac9-070439fdaebc",
   "metadata": {},
   "outputs": [],
   "source": []
  },
  {
   "cell_type": "code",
   "execution_count": null,
   "id": "e0ae0a42-2c87-4c35-b79e-3fe9e80533ef",
   "metadata": {},
   "outputs": [],
   "source": []
  }
 ],
 "metadata": {
  "kernelspec": {
   "display_name": "Python 3 (ipykernel)",
   "language": "python",
   "name": "python3"
  },
  "language_info": {
   "codemirror_mode": {
    "name": "ipython",
    "version": 3
   },
   "file_extension": ".py",
   "mimetype": "text/x-python",
   "name": "python",
   "nbconvert_exporter": "python",
   "pygments_lexer": "ipython3",
   "version": "3.12.6"
  }
 },
 "nbformat": 4,
 "nbformat_minor": 5
}
